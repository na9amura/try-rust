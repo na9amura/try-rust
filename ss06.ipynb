{
 "cells": [
  {
   "cell_type": "markdown",
   "metadata": {},
   "source": [
    "https://doc.rust-jp.rs/book-ja/ch06-00-enums.html"
   ]
  },
  {
   "cell_type": "code",
   "execution_count": 4,
   "metadata": {},
   "outputs": [],
   "source": [
    "#[derive(Debug)]\n",
    "enum IpAddrKind {\n",
    "    V4,\n",
    "    V6,\n",
    "}\n"
   ]
  },
  {
   "cell_type": "code",
   "execution_count": 5,
   "metadata": {},
   "outputs": [
    {
     "name": "stdout",
     "output_type": "stream",
     "text": [
      "V4 / V6\n"
     ]
    },
    {
     "data": {
      "text/plain": "()"
     },
     "execution_count": 5,
     "metadata": {},
     "output_type": "execute_result"
    }
   ],
   "source": [
    "let four = IpAddrKind::V4;\n",
    "let six = IpAddrKind::V6;\n",
    "\n",
    "println!(\"{:#?} / {:#?}\", four, six)"
   ]
  },
  {
   "cell_type": "code",
   "execution_count": 6,
   "metadata": {},
   "outputs": [],
   "source": [
    "fn route(ip_type: IpAddrKind) { }\n",
    "route(IpAddrKind::V4);\n",
    "route(IpAddrKind::V6);"
   ]
  },
  {
   "cell_type": "code",
   "execution_count": 9,
   "metadata": {},
   "outputs": [],
   "source": [
    "#[derive(Debug)]\n",
    "enum IpAddr {\n",
    "    V4(String),\n",
    "    V6(String),\n",
    "}"
   ]
  },
  {
   "cell_type": "code",
   "execution_count": 10,
   "metadata": {},
   "outputs": [
    {
     "name": "stdout",
     "output_type": "stream",
     "text": [
      "V4(\n",
      "    \"127.0.0.1\",\n",
      ") / V6(\n",
      "    \"::1\",\n",
      ")\n"
     ]
    },
    {
     "data": {
      "text/plain": "()"
     },
     "execution_count": 10,
     "metadata": {},
     "output_type": "execute_result"
    }
   ],
   "source": [
    "let home = IpAddr::V4(String::from(\"127.0.0.1\"));\n",
    "let loopback = IpAddr::V6(String::from(\"::1\"));\n",
    "println!(\"{:#?} / {:#?}\", home, loopback)"
   ]
  },
  {
   "cell_type": "code",
   "execution_count": 15,
   "metadata": {},
   "outputs": [],
   "source": [
    "#[derive(Debug)]\n",
    "enum IpAddr2 {\n",
    "    V4(u8, u8, u8, u8),\n",
    "    V6(String),\n",
    "}"
   ]
  },
  {
   "cell_type": "code",
   "execution_count": 16,
   "metadata": {},
   "outputs": [
    {
     "name": "stdout",
     "output_type": "stream",
     "text": [
      "V4(\n",
      "    127,\n",
      "    0,\n",
      "    0,\n",
      "    1,\n",
      ") / V6(\n",
      "    \"::1\",\n",
      ")\n"
     ]
    },
    {
     "data": {
      "text/plain": "()"
     },
     "execution_count": 16,
     "metadata": {},
     "output_type": "execute_result"
    }
   ],
   "source": [
    "let home = IpAddr2::V4(127, 0, 0, 1);\n",
    "let loopback = IpAddr2::V6(String::from(\"::1\"));\n",
    "println!(\"{:#?} / {:#?}\", home, loopback)"
   ]
  },
  {
   "cell_type": "code",
   "execution_count": 19,
   "metadata": {},
   "outputs": [],
   "source": [
    "// 6-2\n",
    "#[derive(Debug)]\n",
    "enum Message {\n",
    "    Quit,\n",
    "    Move { x: i32, y: i32 },\n",
    "    Write(String),\n",
    "    ChangeColor(i32, i32, i32),\n",
    "}"
   ]
  },
  {
   "cell_type": "code",
   "execution_count": 21,
   "metadata": {},
   "outputs": [
    {
     "name": "stdout",
     "output_type": "stream",
     "text": [
      "Write(\n",
      "    \"hello\",\n",
      ")\n"
     ]
    }
   ],
   "source": [
    "impl Message {\n",
    "    fn print(&self) {\n",
    "        println!(\"{:#?}\", self)\n",
    "    }\n",
    "}\n",
    "\n",
    "let m = Message::Write(String::from(\"hello\"));\n",
    "m.print();"
   ]
  },
  {
   "cell_type": "markdown",
   "metadata": {},
   "source": [
    "## Option enumとNull値に勝る利点\n",
    "```\n",
    "enum Option<T> {\n",
    "    Some(T),\n",
    "    None,\n",
    "}\n",
    "```"
   ]
  },
  {
   "cell_type": "code",
   "execution_count": 23,
   "metadata": {},
   "outputs": [
    {
     "name": "stdout",
     "output_type": "stream",
     "text": [
      "Some(5), Some(\"a string\"), None\n"
     ]
    }
   ],
   "source": [
    "let some_number = Some(5);\n",
    "let some_string = Some(\"a string\");\n",
    "let absent_number: Option<i32> = None;\n",
    "\n",
    "println!(\"{:?}, {:?}, {:?}\", some_number, some_string, absent_number);"
   ]
  },
  {
   "cell_type": "code",
   "execution_count": 24,
   "metadata": {},
   "outputs": [
    {
     "ename": "Error",
     "evalue": "cannot add `Option<i8>` to `i8`",
     "output_type": "error",
     "traceback": [
      "let sum = x + y;",
      "            ^ no implementation for `i8 + Option<i8>`",
      "cannot add `Option<i8>` to `i8`",
      "help: the trait `Add<Option<i8>>` is not implemented for `i8`"
     ]
    }
   ],
   "source": [
    "let x: i8 = 5;\n",
    "let y: Option<i8> = Some(5);\n",
    "\n",
    "let sum = x + y;"
   ]
  },
  {
   "cell_type": "markdown",
   "metadata": {},
   "source": [
    "## matchフロー制御演算子"
   ]
  },
  {
   "cell_type": "code",
   "execution_count": 33,
   "metadata": {},
   "outputs": [
    {
     "name": "stdout",
     "output_type": "stream",
     "text": [
      "Nickel is 5 cent\n",
      "Lucky penny!\n",
      "Penny is 1 cent\n"
     ]
    }
   ],
   "source": [
    "enum Coin {\n",
    "    Penny,\n",
    "    Nickel,\n",
    "    Dime,\n",
    "    Quarter,\n",
    "}\n",
    "\n",
    "fn value_in_cents(coin: Coin) -> u32 {\n",
    "    match coin {\n",
    "        Coin::Penny => {\n",
    "            println!(\"Lucky penny!\");\n",
    "            1\n",
    "        },\n",
    "        Coin::Nickel => 5,\n",
    "        Coin::Dime => 10,\n",
    "        Coin::Quarter => 25,\n",
    "    }\n",
    "}\n",
    "\n",
    "println!(\"Nickel is {} cent\", value_in_cents(Coin::Nickel));\n",
    "println!(\"Penny is {} cent\", value_in_cents(Coin::Penny));"
   ]
  },
  {
   "cell_type": "code",
   "execution_count": 35,
   "metadata": {},
   "outputs": [],
   "source": [
    "#[derive(Debug)] // すぐに州を点検できるように\n",
    "enum UsState {\n",
    "    Alabama,\n",
    "    Alaska,\n",
    "    // ... などなど\n",
    "}\n",
    "\n",
    "enum Coin2 {\n",
    "    Penny,\n",
    "    Nickel,\n",
    "    Dime,\n",
    "    Quarter(UsState),\n",
    "}"
   ]
  },
  {
   "cell_type": "code",
   "execution_count": 36,
   "metadata": {},
   "outputs": [
    {
     "name": "stdout",
     "output_type": "stream",
     "text": [
      "State quarter from Alaska\n",
      "Quarter is 25 cent\n"
     ]
    }
   ],
   "source": [
    "fn value_in_cents(coin: Coin2) -> u32 {\n",
    "    match coin {\n",
    "        Coin2::Penny => 1,\n",
    "        Coin2::Nickel => 5,\n",
    "        Coin2::Dime => 10,\n",
    "        Coin2::Quarter(state) => {\n",
    "            println!(\"State quarter from {:?}\", state);\n",
    "            25\n",
    "        },\n",
    "    }\n",
    "}\n",
    "\n",
    "println!(\"Quarter is {} cent\", value_in_cents(Coin2::Quarter(UsState::Alaska)));"
   ]
  },
  {
   "cell_type": "code",
   "execution_count": null,
   "metadata": {},
   "outputs": [],
   "source": [
    "// Option<T>とのマッチ"
   ]
  },
  {
   "cell_type": "code",
   "execution_count": 39,
   "metadata": {},
   "outputs": [
    {
     "name": "stdout",
     "output_type": "stream",
     "text": [
      "Some(5), Some(6), None\n"
     ]
    }
   ],
   "source": [
    "fn plus_one(x: Option<i32>) -> Option<i32> {\n",
    "    match x {\n",
    "        None => None,\n",
    "        Some(i) => Some(i + 1),\n",
    "    }\n",
    "}\n",
    "\n",
    "let five = Some(5);\n",
    "let six = plus_one(five);\n",
    "let none = plus_one(None);\n",
    "\n",
    "println!(\"{:?}, {:?}, {:?}\", five, six, none);"
   ]
  },
  {
   "cell_type": "code",
   "execution_count": 40,
   "metadata": {},
   "outputs": [
    {
     "ename": "Error",
     "evalue": "non-exhaustive patterns: `None` not covered",
     "output_type": "error",
     "traceback": [
      "    match x {",
      "          ^ pattern `None` not covered",
      "non-exhaustive patterns: `None` not covered",
      "help: ensure that all possible cases are being handled, possibly by adding wildcards or more match arms"
     ]
    },
    {
     "ename": "Error",
     "evalue": "unused variable: `ip_type`",
     "output_type": "error",
     "traceback": [
      "",
      "unused variable: `ip_type`",
      "help: if this is intentional, prefix it with an underscore\n\n_ip_type"
     ]
    }
   ],
   "source": [
    "fn plus_one(x: Option<i32>) -> Option<i32> {\n",
    "    match x {\n",
    "        Some(i) => Some(i + 1),\n",
    "    }\n",
    "}\n"
   ]
  },
  {
   "cell_type": "code",
   "execution_count": 44,
   "metadata": {},
   "outputs": [
    {
     "name": "stdout",
     "output_type": "stream",
     "text": [
      "seven\n"
     ]
    },
    {
     "data": {
      "text/plain": "()"
     },
     "execution_count": 44,
     "metadata": {},
     "output_type": "execute_result"
    }
   ],
   "source": [
    "let some_u8 = 7u8;\n",
    "match some_u8 {\n",
    "    1 => println!(\"one\"),\n",
    "    3 => println!(\"three\"),\n",
    "    5 => println!(\"five\"),\n",
    "    7 => println!(\"seven\"),\n",
    "    _ => (),\n",
    "}\n"
   ]
  },
  {
   "cell_type": "markdown",
   "metadata": {},
   "source": [
    "## if letで簡潔なフロー制御"
   ]
  },
  {
   "cell_type": "code",
   "execution_count": 45,
   "metadata": {},
   "outputs": [
    {
     "name": "stdout",
     "output_type": "stream",
     "text": [
      "three\n"
     ]
    },
    {
     "data": {
      "text/plain": "()"
     },
     "execution_count": 45,
     "metadata": {},
     "output_type": "execute_result"
    }
   ],
   "source": [
    "let some_u8 = Some(3u8);\n",
    "match some_u8 {\n",
    "    Some(3) => println!(\"three\"),\n",
    "    _ => (),\n",
    "}\n"
   ]
  },
  {
   "cell_type": "code",
   "execution_count": 51,
   "metadata": {},
   "outputs": [
    {
     "name": "stdout",
     "output_type": "stream",
     "text": [
      "three!\n",
      "0\n"
     ]
    }
   ],
   "source": [
    "let Some(3) = some_u8 {\n",
    "    println!(\"three!\");\n",
    "}\n"
   ]
  },
  {
   "cell_type": "code",
   "execution_count": 53,
   "metadata": {},
   "outputs": [
    {
     "name": "stdout",
     "output_type": "stream",
     "text": [
      "State quarter from Alaska\n",
      "1\n"
     ]
    }
   ],
   "source": [
    "let mut count = 0;\n",
    "let coin = Coin2::Quarter(UsState::Alaska);\n",
    "match coin {\n",
    "    Coin2::Quarter(state) => println!(\"State quarter from {:?}\", state),\n",
    "    _ => count += 1\n",
    "}\n",
    "\n",
    "let coin = Coin2::Nickel;\n",
    "match coin {\n",
    "    Coin2::Quarter(state) => println!(\"State quarter from {:?}\", state),\n",
    "    _ => count += 1\n",
    "}\n",
    "\n",
    "println!(\"{}\", count);"
   ]
  },
  {
   "cell_type": "code",
   "execution_count": 54,
   "metadata": {},
   "outputs": [
    {
     "name": "stdout",
     "output_type": "stream",
     "text": [
      "State quarter from Alaska\n",
      "1\n"
     ]
    }
   ],
   "source": [
    "let mut count = 0;\n",
    "let coin = Coin2::Quarter(UsState::Alaska);\n",
    "if let Coin2::Quarter(state) = coin {\n",
    "    println!(\"State quarter from {:?}\", state);\n",
    "} else {\n",
    "    count += 1;\n",
    "}\n",
    "\n",
    "let coin = Coin2::Nickel;\n",
    "if let Coin2::Quarter(state) = coin {\n",
    "    println!(\"State quarter from {:?}\", state);\n",
    "} else {\n",
    "    count += 1;\n",
    "}\n",
    "\n",
    "println!(\"{}\", count);"
   ]
  }
 ],
 "metadata": {
  "kernelspec": {
   "display_name": "Rust",
   "language": "rust",
   "name": "rust"
  },
  "language_info": {
   "codemirror_mode": "rust",
   "file_extension": ".rs",
   "mimetype": "text/rust",
   "name": "Rust",
   "pygment_lexer": "rust",
   "version": ""
  },
  "orig_nbformat": 2
 },
 "nbformat": 4,
 "nbformat_minor": 2
}