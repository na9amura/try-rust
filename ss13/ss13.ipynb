{
 "cells": [
  {
   "cell_type": "code",
   "execution_count": 2,
   "metadata": {},
   "outputs": [],
   "source": [
    "use std::thread;\n",
    "use std::time::Duration;\n",
    "\n",
    "fn simulated_expensive_calculation(intensity: u32) -> u32 {\n",
    "  println!(\"calculating slowly...\");\n",
    "  thread::sleep(Duration::from_secs(2));\n",
    "  intensity\n",
    "}"
   ]
  },
  {
   "cell_type": "code",
   "execution_count": 3,
   "metadata": {},
   "outputs": [
    {
     "name": "stdout",
     "output_type": "stream",
     "text": [
      "calculating slowly...\n"
     ]
    },
    {
     "data": {
      "text/plain": [
       "5"
      ]
     },
     "execution_count": 3,
     "metadata": {},
     "output_type": "execute_result"
    }
   ],
   "source": [
    "simulated_expensive_calculation(5)"
   ]
  },
  {
   "cell_type": "code",
   "execution_count": 4,
   "metadata": {},
   "outputs": [],
   "source": [
    "// rough implementation\n",
    "fn generate_workout(intensity: u32, random_number: u32) {\n",
    "  if intensity < 25 {\n",
    "    println!(\n",
    "      \"Today, do {} pushups!\",\n",
    "      simulated_expensive_calculation(intensity)\n",
    "    );\n",
    "    println!(\n",
    "      \"Next, do {} situps!\",\n",
    "      simulated_expensive_calculation(intensity)\n",
    "    );\n",
    "  } else {\n",
    "    if random_number == 3 {\n",
    "      println!(\"Take a break today!\");\n",
    "    } else {\n",
    "      println!(\n",
    "        \"Today, run for {} minutes!\",\n",
    "        simulated_expensive_calculation(intensity)\n",
    "      );\n",
    "    }\n",
    "  }\n",
    "}"
   ]
  },
  {
   "cell_type": "code",
   "execution_count": 5,
   "metadata": {},
   "outputs": [],
   "source": [
    "// refacter by binding expensive result\n",
    "fn generate_workout(intensity: u32, random_number: u32) {\n",
    "  let expensive_result = simulated_expensive_calculation(intensity);\n",
    "  if intensity < 25 {\n",
    "    println!(\n",
    "      \"Today, do {} pushups!\",\n",
    "      expensive_result\n",
    "    );\n",
    "    println!(\n",
    "      \"Next, do {} situps!\",\n",
    "      expensive_result\n",
    "    );\n",
    "  } else {\n",
    "    if random_number == 3 {\n",
    "      // expensive_result would be redundant if context would match this case\n",
    "      println!(\"Take a break today!\");\n",
    "    } else {\n",
    "      println!(\n",
    "        \"Today, run for {} minutes!\",\n",
    "        expensive_result\n",
    "      );\n",
    "    }\n",
    "  }\n",
    "}"
   ]
  },
  {
   "cell_type": "code",
   "execution_count": 6,
   "metadata": {},
   "outputs": [
    {
     "ename": "Error",
     "evalue": "expected `;`, found keyword `if`",
     "output_type": "error",
     "traceback": [
      "  if intensity < 25 {",
      "  ^^ unexpected token",
      "  }",
      "    ",
      "expected `;`, found keyword `if`",
      "help: add `;` here\n\n;"
     ]
    }
   ],
   "source": [
    "// refacter using closuer\n",
    "fn generate_workout(intensity: u32, random_number: u32) {\n",
    "  let expensive_closure = |num| {\n",
    "    println!(\"calculating slowly...\");\n",
    "    thread::sleep(Duration::from_secs(2));\n",
    "    num\n",
    "  }\n",
    "\n",
    "  if intensity < 25 {\n",
    "    println!(\n",
    "      \"Today, do {} pushups!\",\n",
    "      expensive_closure(intensity)\n",
    "    );\n",
    "    // Run closure again, but implove later\n",
    "    println!(\n",
    "      \"Next, do {} situps!\",\n",
    "      expensive_closure(intensity)\n",
    "    );\n",
    "  } else {\n",
    "    if random_number == 3 {\n",
    "      println!(\"Take a break today!\");\n",
    "    } else {\n",
    "      println!(\n",
    "        \"Today, run for {} minutes!\",\n",
    "        expensive_closure(intensity)\n",
    "      );\n",
    "    }\n",
    "  }\n",
    "}"
   ]
  },
  {
   "cell_type": "code",
   "execution_count": 7,
   "metadata": {},
   "outputs": [
    {
     "ename": "Error",
     "evalue": "type annotations needed",
     "output_type": "error",
     "traceback": [
      "  let expensive_closure = |num| {",
      "                           ^^^ consider giving this closure parameter a type",
      "type annotations needed"
     ]
    }
   ],
   "source": [
    "// Rust infer type from context, but you can't build if Rust can't infer the type\n",
    "{\n",
    "  let expensive_closure = |num| {\n",
    "    println!(\"calculating slowly...\");\n",
    "    thread::sleep(Duration::from_secs(2));\n",
    "    num\n",
    "  };\n",
    "}"
   ]
  },
  {
   "cell_type": "code",
   "execution_count": 8,
   "metadata": {},
   "outputs": [
    {
     "data": {
      "text/plain": [
       "()"
      ]
     },
     "execution_count": 8,
     "metadata": {},
     "output_type": "execute_result"
    }
   ],
   "source": [
    "// If it is not inferable, you need to annotate type implicitly.\n",
    "{\n",
    "  let expensive_closure = |num: u32| -> u32 {\n",
    "    println!(\"calculating slowly...\");\n",
    "    thread::sleep(Duration::from_secs(2));\n",
    "    num\n",
    "  };\n",
    "}"
   ]
  },
  {
   "cell_type": "code",
   "execution_count": 9,
   "metadata": {},
   "outputs": [
    {
     "data": {
      "text/plain": [
       "\"hello\""
      ]
     },
     "execution_count": 9,
     "metadata": {},
     "output_type": "execute_result"
    }
   ],
   "source": [
    "{\n",
    "  let example_closure = |x| x;\n",
    "  let s = example_closure(String::from(\"hello\"));\n",
    "  s\n",
    "}"
   ]
  },
  {
   "cell_type": "code",
   "execution_count": 10,
   "metadata": {},
   "outputs": [
    {
     "data": {
      "text/plain": [
       "5"
      ]
     },
     "execution_count": 10,
     "metadata": {},
     "output_type": "execute_result"
    }
   ],
   "source": [
    "{\n",
    "  let example_closure = |x| x;\n",
    "  let n = example_closure(5);\n",
    "  n\n",
    "}"
   ]
  },
  {
   "cell_type": "code",
   "execution_count": 11,
   "metadata": {},
   "outputs": [
    {
     "ename": "Error",
     "evalue": "mismatched types",
     "output_type": "error",
     "traceback": [
      "  let n = example_closure(5);",
      "                          ^ expected struct `String`, found integer",
      "mismatched types",
      "help: try using a conversion method\n\n5.to_string()"
     ]
    }
   ],
   "source": [
    "// If you invoke closure with different type interface, Rust compiler tell you build error.\n",
    "{\n",
    "  let example_closure = |x| x;\n",
    "  let s = example_closure(String::from(\"hello\"));\n",
    "  let n = example_closure(5);\n",
    "  (s, n)\n",
    "}"
   ]
  },
  {
   "cell_type": "code",
   "execution_count": null,
   "metadata": {},
   "outputs": [],
   "source": [
    "struct Catcher<T> where T: Fn(u32) -> u32 {\n",
    "  calculation: T,\n",
    "  value: Option<u32>,\n",
    "}"
   ]
  },
  {
   "cell_type": "code",
   "execution_count": null,
   "metadata": {},
   "outputs": [],
   "source": [
    "impl<T> Catcher<T>\n",
    "  where T: Fn(u32) -> u32 \n",
    "{\n",
    "  fn new(calculation: T) -> Catcher<T> {\n",
    "    Catcher {\n",
    "      calculation,\n",
    "      value: None,\n",
    "    }\n",
    "  }\n",
    "  fn value(&mut self, arg: u32) -> u32 {\n",
    "    match self.value {\n",
    "      Some(v) => v,\n",
    "      None => {\n",
    "        let v = (self.calculation)(arg);\n",
    "        self.value = Some(v);\n",
    "        v\n",
    "      }\n",
    "    }\n",
    "  }\n",
    "}"
   ]
  },
  {
   "cell_type": "code",
   "execution_count": null,
   "metadata": {},
   "outputs": [],
   "source": [
    "// refacter using closuer and catcher\n",
    "fn generate_workout(intensity: u32, random_number: u32) {\n",
    "  let mut expensive_closure = Catcher::new(|num| {\n",
    "    println!(\"calculating slowly...\");\n",
    "    thread::sleep(Duration::from_secs(2));\n",
    "    num\n",
    "  });\n",
    "\n",
    "  if intensity < 25 {\n",
    "    println!(\n",
    "      \"Today, do {} pushups!\",\n",
    "      expensive_closure.value(intensity)\n",
    "    );\n",
    "    println!(\n",
    "      \"Next, do {} situps!\",\n",
    "      expensive_closure.value(intensity)\n",
    "    );\n",
    "  } else {\n",
    "    if random_number == 3 {\n",
    "      println!(\"Take a break today!\");\n",
    "    } else {\n",
    "      println!(\n",
    "        \"Today, run for {} minutes!\",\n",
    "        expensive_closure.value(intensity)\n",
    "      );\n",
    "    }\n",
    "  }\n",
    "}"
   ]
  },
  {
   "cell_type": "code",
   "execution_count": null,
   "metadata": {},
   "outputs": [
    {
     "name": "stdout",
     "output_type": "stream",
     "text": [
      "calculating slowly...\n",
      "Today, do 10 pushups!\n",
      "Next, do 10 situps!\n"
     ]
    },
    {
     "data": {
      "text/plain": [
       "()"
      ]
     },
     "execution_count": 32,
     "metadata": {},
     "output_type": "execute_result"
    }
   ],
   "source": [
    "generate_workout(10, 7)"
   ]
  },
  {
   "cell_type": "code",
   "execution_count": null,
   "metadata": {},
   "outputs": [],
   "source": [
    "// Current catcher only accepts same argument.\n",
    "fn call_with_different_values() {\n",
    "  let mut c = Catcher::new(|a| a);\n",
    "\n",
    "  let v1 = c.value(1);\n",
    "  let v2 = c.value(2);\n",
    "\n",
    "  assert_eq!(v2, 2);\n",
    "}"
   ]
  },
  {
   "cell_type": "code",
   "execution_count": null,
   "metadata": {},
   "outputs": [
    {
     "name": "stderr",
     "output_type": "stream",
     "text": [
      "thread '<unnamed>' panicked at 'assertion failed: `(left == right)`\n",
      "  left: `1`,\n",
      " right: `2`', src/lib.rs:8:3\n",
      "stack backtrace:\n",
      "   0: _rust_begin_unwind\n",
      "   1: std::panicking::begin_panic_fmt\n",
      "   2: _run_user_code_18\n",
      "   3: evcxr::runtime::Runtime::run_loop\n",
      "   4: evcxr::runtime::runtime_hook\n",
      "   5: evcxr_jupyter::main\n",
      "note: Some details are omitted, run with `RUST_BACKTRACE=full` for a verbose backtrace.\n"
     ]
    },
    {
     "ename": "Error",
     "evalue": "Child process terminated with status: exit code: 101",
     "output_type": "error",
     "traceback": [
      "Child process terminated with status: exit code: 101"
     ]
    }
   ],
   "source": [
    "call_with_different_values()"
   ]
  },
  {
   "cell_type": "code",
   "execution_count": null,
   "metadata": {},
   "outputs": [],
   "source": [
    "use std::collections::HashMap;\n",
    "\n",
    "struct Catcher2<T> where T: Fn(u32) -> u32 {\n",
    "  calculation: T,\n",
    "  values: HashMap<u32, u32>,\n",
    "}"
   ]
  },
  {
   "cell_type": "code",
   "execution_count": null,
   "metadata": {},
   "outputs": [],
   "source": [
    "use std::collections::HashMap;\n",
    "\n",
    "impl<T> Catcher2<T>\n",
    "  where T: Fn(u32) -> u32 \n",
    "{\n",
    "  fn new(calculation: T) -> Catcher2<T> {\n",
    "    Catcher2 {\n",
    "      calculation,\n",
    "      values: HashMap::new(),\n",
    "    }\n",
    "  }\n",
    "  fn value(&mut self, arg: u32) -> u32 {\n",
    "    match self.values.get(&arg) {\n",
    "      Some(v) => *v,\n",
    "      None => {\n",
    "        let v = (self.calculation)(arg);\n",
    "        self.values.insert(arg, v);\n",
    "        v\n",
    "      }\n",
    "    }\n",
    "  }\n",
    "}"
   ]
  },
  {
   "cell_type": "code",
   "execution_count": null,
   "metadata": {},
   "outputs": [],
   "source": [
    "fn call_with_different_values() {\n",
    "  let mut c = Catcher2::new(|a| a);\n",
    "\n",
    "  let v1 = c.value(1);\n",
    "  let v2 = c.value(2);\n",
    "\n",
    "  assert_eq!(v2, 2);\n",
    "}"
   ]
  },
  {
   "cell_type": "code",
   "execution_count": null,
   "metadata": {},
   "outputs": [
    {
     "data": {
      "text/plain": [
       "()"
      ]
     },
     "execution_count": 67,
     "metadata": {},
     "output_type": "execute_result"
    }
   ],
   "source": [
    "call_with_different_values()"
   ]
  },
  {
   "cell_type": "code",
   "execution_count": null,
   "metadata": {},
   "outputs": [
    {
     "name": "stdout",
     "output_type": "stream",
     "text": [
      "calculating slowly...\n",
      "Today, do 10 pushups!\n",
      "Next, do 10 situps!\n"
     ]
    },
    {
     "data": {
      "text/plain": [
       "()"
      ]
     },
     "execution_count": 78,
     "metadata": {},
     "output_type": "execute_result"
    }
   ],
   "source": [
    "{\n",
    "  fn generate_workout(intensity: u32, random_number: u32) {\n",
    "    let mut expensive_closure = Catcher2::new(|num| {\n",
    "      println!(\"calculating slowly...\");\n",
    "      thread::sleep(Duration::from_secs(2));\n",
    "      num\n",
    "    });\n",
    "\n",
    "    if intensity < 25 {\n",
    "      println!(\n",
    "        \"Today, do {} pushups!\",\n",
    "        expensive_closure.value(intensity)\n",
    "      );\n",
    "      println!(\n",
    "        \"Next, do {} situps!\",\n",
    "        expensive_closure.value(intensity)\n",
    "      );\n",
    "    } else {\n",
    "      if random_number == 3 {\n",
    "        println!(\"Take a break today!\");\n",
    "      } else {\n",
    "        println!(\n",
    "          \"Today, run for {} minutes!\",\n",
    "          expensive_closure.value(intensity)\n",
    "        );\n",
    "      }\n",
    "    }\n",
    "  }\n",
    "  generate_workout(10, 3)\n",
    "}"
   ]
  },
  {
   "cell_type": "code",
   "execution_count": null,
   "metadata": {},
   "outputs": [],
   "source": [
    "use std::collections::HashMap;\n",
    "\n",
    "struct Catcher3<T> where T: Fn(u32) -> u32 {\n",
    "  calculation: T,\n",
    "  values: HashMap<u32, u32>,\n",
    "}"
   ]
  },
  {
   "cell_type": "code",
   "execution_count": null,
   "metadata": {},
   "outputs": [],
   "source": [
    "use std::collections::HashMap;\n",
    "\n",
    "impl<T> Catcher3<T>\n",
    "  where T: Fn(u32) -> u32 \n",
    "{\n",
    "  fn new(calculation: T) -> Catcher3<T> {\n",
    "    Catcher3 {\n",
    "      calculation,\n",
    "      values: HashMap::new(),\n",
    "    }\n",
    "  }\n",
    "  fn value(&mut self, arg: u32) -> &u32 {\n",
    "    // NOET: self.calculation will be invoked even self.values.entry return Some.\n",
    "    self.values.entry(arg).or_insert((self.calculation)(arg))\n",
    "  }\n",
    "}"
   ]
  },
  {
   "cell_type": "code",
   "execution_count": null,
   "metadata": {},
   "outputs": [
    {
     "name": "stdout",
     "output_type": "stream",
     "text": [
      "calculating slowly...\n",
      "Today, do 10 pushups!\n",
      "calculating slowly...\n",
      "Next, do 10 situps!\n"
     ]
    },
    {
     "data": {
      "text/plain": [
       "()"
      ]
     },
     "execution_count": 92,
     "metadata": {},
     "output_type": "execute_result"
    }
   ],
   "source": [
    "{\n",
    "  fn generate_workout(intensity: u32, random_number: u32) {\n",
    "    let mut expensive_closure = Catcher3::new(|num| {\n",
    "      println!(\"calculating slowly...\");\n",
    "      thread::sleep(Duration::from_secs(2));\n",
    "      num\n",
    "    });\n",
    "\n",
    "    if intensity < 25 {\n",
    "      println!(\n",
    "        \"Today, do {} pushups!\",\n",
    "        expensive_closure.value(intensity)\n",
    "      );\n",
    "      println!(\n",
    "        \"Next, do {} situps!\",\n",
    "        expensive_closure.value(intensity)\n",
    "      );\n",
    "    } else {\n",
    "      if random_number == 3 {\n",
    "        println!(\"Take a break today!\");\n",
    "      } else {\n",
    "        println!(\n",
    "          \"Today, run for {} minutes!\",\n",
    "          expensive_closure.value(intensity)\n",
    "        );\n",
    "      }\n",
    "    }\n",
    "  }\n",
    "  generate_workout(10, 3)\n",
    "}"
   ]
  },
  {
   "cell_type": "code",
   "execution_count": 13,
   "metadata": {},
   "outputs": [],
   "source": [
    "use std::collections::HashMap;\n",
    "\n",
    "struct Catcher4<T, U, V> where T: Fn(U) -> V {\n",
    "  calculation: T,\n",
    "  values: HashMap<U, V>,\n",
    "}"
   ]
  },
  {
   "cell_type": "code",
   "execution_count": 18,
   "metadata": {},
   "outputs": [],
   "source": [
    "use std::collections::HashMap;\n",
    "\n",
    "impl<T, U, V> Catcher4<T, U, V>\n",
    "  where \n",
    "    T: Fn(U) -> V,\n",
    "    U: std::hash::Hash + Eq + Copy,\n",
    "    V: Copy,\n",
    "{\n",
    "  fn new(calculation: T) -> Catcher4<T, U, V> {\n",
    "    Catcher4 {\n",
    "      calculation,\n",
    "      values: HashMap::new(),\n",
    "    }\n",
    "  }\n",
    "  fn value(&mut self, arg: U) -> V {\n",
    "    match self.values.get(&arg) {\n",
    "      Some(v) => *v,\n",
    "      None => {\n",
    "        let v = (self.calculation)(arg);\n",
    "        self.values.insert(arg, v);\n",
    "        v\n",
    "      }\n",
    "    }\n",
    "  }\n",
    "}"
   ]
  },
  {
   "cell_type": "code",
   "execution_count": 19,
   "metadata": {},
   "outputs": [
    {
     "name": "stdout",
     "output_type": "stream",
     "text": [
      "calculating slowly...\n",
      "Today, do 10 pushups!\n",
      "Next, do 10 situps!\n"
     ]
    },
    {
     "data": {
      "text/plain": [
       "()"
      ]
     },
     "execution_count": 19,
     "metadata": {},
     "output_type": "execute_result"
    }
   ],
   "source": [
    "{\n",
    "  fn generate_workout(intensity: u32, random_number: u32) {\n",
    "    let mut expensive_closure = Catcher4::new(|num| {\n",
    "      println!(\"calculating slowly...\");\n",
    "      thread::sleep(Duration::from_secs(2));\n",
    "      num\n",
    "    });\n",
    "\n",
    "    if intensity < 25 {\n",
    "      println!(\n",
    "        \"Today, do {} pushups!\",\n",
    "        expensive_closure.value(intensity)\n",
    "      );\n",
    "      println!(\n",
    "        \"Next, do {} situps!\",\n",
    "        expensive_closure.value(intensity)\n",
    "      );\n",
    "    } else {\n",
    "      if random_number == 3 {\n",
    "        println!(\"Take a break today!\");\n",
    "      } else {\n",
    "        println!(\n",
    "          \"Today, run for {} minutes!\",\n",
    "          expensive_closure.value(intensity)\n",
    "        );\n",
    "      }\n",
    "    }\n",
    "  }\n",
    "  generate_workout(10, 3)\n",
    "}"
   ]
  },
  {
   "cell_type": "code",
   "execution_count": 27,
   "metadata": {},
   "outputs": [
    {
     "name": "stdout",
     "output_type": "stream",
     "text": [
      "calculating slowly...\n"
     ]
    },
    {
     "data": {
      "text/plain": [
       "\"hello\""
      ]
     },
     "execution_count": 27,
     "metadata": {},
     "output_type": "execute_result"
    }
   ],
   "source": [
    "{\n",
    "  fn cache_text(txt: &str) -> &str {\n",
    "    let mut catcher = Catcher4::new(|s| {\n",
    "      println!(\"calculating slowly...\");\n",
    "      thread::sleep(Duration::from_secs(2));\n",
    "      s\n",
    "    });\n",
    "\n",
    "    catcher.value(txt)\n",
    "  }\n",
    "\n",
    "  cache_text(&String::from(\"hello\"))\n",
    "}"
   ]
  },
  {
   "cell_type": "code",
   "execution_count": null,
   "metadata": {},
   "outputs": [],
   "source": []
  },
  {
   "cell_type": "code",
   "execution_count": null,
   "metadata": {},
   "outputs": [],
   "source": []
  }
 ],
 "metadata": {
  "kernelspec": {
   "display_name": "Rust",
   "language": "rust",
   "name": "rust"
  },
  "language_info": {
   "codemirror_mode": "rust",
   "file_extension": ".rs",
   "mimetype": "text/rust",
   "name": "rust",
   "pygment_lexer": "rust",
   "version": ""
  },
  "orig_nbformat": 4
 },
 "nbformat": 4,
 "nbformat_minor": 2
}
