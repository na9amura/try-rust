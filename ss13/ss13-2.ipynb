{
 "cells": [
  {
   "cell_type": "code",
   "execution_count": 8,
   "metadata": {},
   "outputs": [
    {
     "name": "stdout",
     "output_type": "stream",
     "text": [
      "Iter([1, 2, 3])\n"
     ]
    },
    {
     "data": {
      "text/plain": [
       "()"
      ]
     },
     "execution_count": 8,
     "metadata": {},
     "output_type": "execute_result"
    }
   ],
   "source": [
    "{\n",
    "  let v1 = vec![1,2,3];\n",
    "  let v1_iter = v1.iter();\n",
    "  println!(\"{:?}\", v1_iter);\n",
    "}"
   ]
  },
  {
   "cell_type": "markdown",
   "metadata": {},
   "source": [
    "```rust\n",
    "pub trait Iterator {\n",
    "  type Item;\n",
    "\n",
    "  fn next(&mut self) -> Option<Self::Item>;\n",
    "\n",
    "  // ...\n",
    "}\n",
    "```"
   ]
  },
  {
   "cell_type": "code",
   "execution_count": 9,
   "metadata": {},
   "outputs": [
    {
     "data": {
      "text/plain": [
       "()"
      ]
     },
     "execution_count": 9,
     "metadata": {},
     "output_type": "execute_result"
    }
   ],
   "source": [
    "{\n",
    "  fn iterator_demonstration() {\n",
    "    let v1 = vec![1,2,3];\n",
    "    let mut iter = v1.iter();\n",
    "\n",
    "    assert_eq!(iter.next(), Some(&1));\n",
    "    assert_eq!(iter.next(), Some(&2));\n",
    "    assert_eq!(iter.next(), Some(&3));\n",
    "    assert_eq!(iter.next(), None);\n",
    "    assert_eq!(iter.next(), None);\n",
    "    assert_eq!(iter.next(), None);\n",
    "  }\n",
    "}"
   ]
  },
  {
   "cell_type": "code",
   "execution_count": 11,
   "metadata": {},
   "outputs": [
    {
     "data": {
      "text/plain": [
       "()"
      ]
     },
     "execution_count": 11,
     "metadata": {},
     "output_type": "execute_result"
    }
   ],
   "source": [
    "{\n",
    "  fn iterator_demonstration() {\n",
    "    let v1 = vec![1,2,3];\n",
    "    let mut iter = v1.into_iter();\n",
    "\n",
    "    assert_eq!(iter.next(), Some(1));\n",
    "    assert_eq!(iter.next(), Some(2));\n",
    "    assert_eq!(iter.next(), Some(3));\n",
    "    assert_eq!(iter.next(), None);\n",
    "  }\n",
    "}"
   ]
  },
  {
   "cell_type": "code",
   "execution_count": 16,
   "metadata": {},
   "outputs": [
    {
     "data": {
      "text/plain": [
       "()"
      ]
     },
     "execution_count": 16,
     "metadata": {},
     "output_type": "execute_result"
    }
   ],
   "source": [
    "{\n",
    "  fn iterator_demonstration() {\n",
    "    let mut v1 = vec![1,2,3];\n",
    "    let mut iter = v1.iter_mut();\n",
    "\n",
    "    assert_eq!(iter.next(), Some(&mut 1));\n",
    "    assert_eq!(iter.next(), Some(&mut 2));\n",
    "    assert_eq!(iter.next(), Some(&mut 3));\n",
    "    assert_eq!(iter.next(), None);\n",
    "  }\n",
    "}"
   ]
  },
  {
   "cell_type": "code",
   "execution_count": 19,
   "metadata": {},
   "outputs": [
    {
     "data": {
      "text/plain": [
       "()"
      ]
     },
     "execution_count": 19,
     "metadata": {},
     "output_type": "execute_result"
    }
   ],
   "source": [
    "{\n",
    "  let v1 = vec![1,2,3];\n",
    "  let iter = v1.iter();\n",
    "  let total: i32 = iter.sum();\n",
    "\n",
    "  assert_eq!(total, 6);\n",
    "}"
   ]
  },
  {
   "cell_type": "code",
   "execution_count": 22,
   "metadata": {},
   "outputs": [
    {
     "ename": "Error",
     "evalue": "the trait bound `i32: Sum<&{float}>` is not satisfied",
     "output_type": "error",
     "traceback": [
      "  let total: i32 = iter.sum();",
      "                        ^^^ the trait `Sum<&{float}>` is not implemented for `i32`",
      "the trait bound `i32: Sum<&{float}>` is not satisfied",
      "help: the following implementations were found:\n  <i32 as Sum<&'a i32>>\n  <i32 as Sum>"
     ]
    }
   ],
   "source": [
    "{\n",
    "  let v1 = vec![1.2,2.4,3.6];\n",
    "  let iter = v1.iter();\n",
    "  let total: i32 = iter.sum();\n",
    "}"
   ]
  },
  {
   "cell_type": "code",
   "execution_count": 27,
   "metadata": {},
   "outputs": [
    {
     "ename": "Error",
     "evalue": "the trait bound `&String: Sum<&String>` is not satisfied",
     "output_type": "error",
     "traceback": [
      "  let total: &String = iter.sum();",
      "                            ^^^ the trait `Sum<&String>` is not implemented for `&String`",
      "the trait bound `&String: Sum<&String>` is not satisfied"
     ]
    }
   ],
   "source": [
    "{\n",
    "  let v1 = vec![String::from(\"aa\"), String::from(\"bb\"), String::from(\"cc\")];\n",
    "  let iter = v1.iter();\n",
    "  let total: &String = iter.sum();\n",
    "}"
   ]
  },
  {
   "cell_type": "code",
   "execution_count": 20,
   "metadata": {},
   "outputs": [
    {
     "ename": "Error",
     "evalue": "unused variable: `total`",
     "output_type": "error",
     "traceback": [
      "  let total: i32 = iter.sum();",
      "      ^^^^^ ",
      "unused variable: `total`",
      "help: if this is intentional, prefix it with an underscore\n\n_total"
     ]
    },
    {
     "ename": "Error",
     "evalue": "cannot borrow `iter` as mutable, as it is not declared as mutable",
     "output_type": "error",
     "traceback": [
      "  iter.next();",
      "  ^^^^ cannot borrow as mutable",
      "cannot borrow `iter` as mutable, as it is not declared as mutable",
      "help: consider changing this to be mutable\n\nmut iter"
     ]
    },
    {
     "ename": "Error",
     "evalue": "borrow of moved value: `iter`",
     "output_type": "error",
     "traceback": [
      "  let total: i32 = iter.sum();",
      "                        ^^^^^ `iter` moved due to this method call",
      "  iter.next();",
      "  ^^^^ value borrowed here after move",
      "  let iter = v1.iter();",
      "      ^^^^ move occurs because `iter` has type `std::slice::Iter<'_, i32>`, which does not implement the `Copy` trait",
      "borrow of moved value: `iter`"
     ]
    }
   ],
   "source": [
    "{\n",
    "  let v1 = vec![1,2,3];\n",
    "  let iter = v1.iter();\n",
    "  let total: i32 = iter.sum();\n",
    "  iter.next();\n",
    "}"
   ]
  },
  {
   "cell_type": "code",
   "execution_count": null,
   "metadata": {},
   "outputs": [],
   "source": []
  },
  {
   "cell_type": "code",
   "execution_count": 3,
   "metadata": {},
   "outputs": [
    {
     "data": {
      "text/plain": [
       "()"
      ]
     },
     "execution_count": 3,
     "metadata": {},
     "output_type": "execute_result"
    }
   ],
   "source": [
    "{\n",
    "  let v1: Vec<i32> = vec![1,2,3];\n",
    "  v1.iter().map(|x| x + 1);\n",
    "}"
   ]
  },
  {
   "cell_type": "code",
   "execution_count": 4,
   "metadata": {},
   "outputs": [
    {
     "data": {
      "text/plain": [
       "()"
      ]
     },
     "execution_count": 4,
     "metadata": {},
     "output_type": "execute_result"
    }
   ],
   "source": [
    "{\n",
    "  let v1: Vec<i32> = vec![1,2,3];\n",
    "  let v2: Vec<_> = v1.iter().map(|x| x + 1).collect();\n",
    "  assert_eq!(v2, vec![2,3,4]);\n",
    "}"
   ]
  },
  {
   "cell_type": "code",
   "execution_count": 13,
   "metadata": {},
   "outputs": [
    {
     "data": {
      "text/plain": [
       "()"
      ]
     },
     "execution_count": 13,
     "metadata": {},
     "output_type": "execute_result"
    }
   ],
   "source": [
    "{\n",
    "  #[derive(PartialEq, Debug)]\n",
    "  struct Shoe {\n",
    "    size: u32,\n",
    "    style: String,\n",
    "  }\n",
    "\n",
    "  fn shoes_in_my_size (shoes: Vec<Shoe>, shoe_size: u32) -> Vec<Shoe> {\n",
    "    shoes.into_iter()\n",
    "      .filter(|s| s.size == shoe_size)\n",
    "      .collect()\n",
    "  }\n",
    "\n",
    "  fn filter_by_size() {\n",
    "    let shoes = vec![\n",
    "      Shoe { size: 10, style: String::from(\"sneaker\") },\n",
    "      Shoe { size: 13, style: String::from(\"sandal\") },\n",
    "      Shoe { size: 10, style: String::from(\"boot\") },\n",
    "    ];\n",
    "\n",
    "    let in_my_size = shoes_in_my_size(shoes, 10);\n",
    "\n",
    "    assert_eq!(\n",
    "      in_my_size,\n",
    "      vec![\n",
    "        Shoe { size: 10, style: String::from(\"sneaker\") },\n",
    "        Shoe { size: 10, style: String::from(\"boot\") },\n",
    "      ]\n",
    "    )\n",
    "  }\n",
    "\n",
    "  filter_by_size();\n",
    "}"
   ]
  },
  {
   "cell_type": "code",
   "execution_count": 25,
   "metadata": {},
   "outputs": [],
   "source": [
    "#[derive(Debug)]\n",
    "struct Counter {\n",
    "  count: u32,\n",
    "}\n",
    "\n",
    "impl Counter {\n",
    "  fn new() -> Counter {\n",
    "    Counter { count: 0 }\n",
    "  }\n",
    "}"
   ]
  },
  {
   "cell_type": "code",
   "execution_count": 16,
   "metadata": {},
   "outputs": [],
   "source": [
    "impl Iterator for Counter {\n",
    "  type Item = u32;\n",
    "\n",
    "  fn next(&mut self) -> Option<Self::Item> {\n",
    "    self.count += 1;\n",
    "\n",
    "    if self.count < 6 {\n",
    "      Some(self.count)\n",
    "    } else {\n",
    "      None\n",
    "    }\n",
    "  }\n",
    "}"
   ]
  },
  {
   "cell_type": "code",
   "execution_count": 17,
   "metadata": {},
   "outputs": [
    {
     "data": {
      "text/plain": [
       "()"
      ]
     },
     "execution_count": 17,
     "metadata": {},
     "output_type": "execute_result"
    }
   ],
   "source": [
    "{\n",
    "  let mut counter = Counter::new();\n",
    "\n",
    "  assert_eq!(counter.next(), Some(1));\n",
    "  assert_eq!(counter.next(), Some(2));\n",
    "  assert_eq!(counter.next(), Some(3));\n",
    "  assert_eq!(counter.next(), Some(4));\n",
    "  assert_eq!(counter.next(), Some(5));\n",
    "  assert_eq!(counter.next(), None);\n",
    "}"
   ]
  },
  {
   "cell_type": "code",
   "execution_count": 36,
   "metadata": {},
   "outputs": [
    {
     "data": {
      "text/plain": [
       "()"
      ]
     },
     "execution_count": 36,
     "metadata": {},
     "output_type": "execute_result"
    }
   ],
   "source": [
    "{\n",
    "  let sum: u32 = Counter::new().zip(Counter::new().skip(1))\n",
    "                                .map(|(a, b)| a * b)\n",
    "                                .filter(|x| x % 3 == 0)\n",
    "                                .sum();\n",
    "  assert_eq!(18, sum);\n",
    "}"
   ]
  },
  {
   "cell_type": "code",
   "execution_count": 40,
   "metadata": {},
   "outputs": [
    {
     "name": "stdout",
     "output_type": "stream",
     "text": [
      "[2, 3, 4, 5]\n",
      "[(1, 2), (2, 3), (3, 4), (4, 5)]\n"
     ]
    },
    {
     "data": {
      "text/plain": [
       "()"
      ]
     },
     "execution_count": 40,
     "metadata": {},
     "output_type": "execute_result"
    }
   ],
   "source": [
    "{\n",
    "  let counter2 = Counter::new().skip(1);\n",
    "  println!(\"{:?}\", counter2.collect::<Vec<u32>>());\n",
    "\n",
    "  let zipped = Counter::new().zip(Counter::new().skip(1));\n",
    "  println!(\"{:?}\", zipped.collect::<Vec<(u32, u32)>>());\n",
    "}"
   ]
  },
  {
   "cell_type": "code",
   "execution_count": null,
   "metadata": {},
   "outputs": [],
   "source": []
  }
 ],
 "metadata": {
  "kernelspec": {
   "display_name": "Rust",
   "language": "rust",
   "name": "rust"
  },
  "language_info": {
   "codemirror_mode": "rust",
   "file_extension": ".rs",
   "mimetype": "text/rust",
   "name": "rust",
   "pygment_lexer": "rust",
   "version": ""
  },
  "orig_nbformat": 4
 },
 "nbformat": 4,
 "nbformat_minor": 2
}
