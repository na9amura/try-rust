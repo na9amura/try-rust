{
 "cells": [
  {
   "cell_type": "code",
   "execution_count": null,
   "metadata": {},
   "outputs": [],
   "source": []
  },
  {
   "cell_type": "markdown",
   "metadata": {},
   "source": [
    "参照カウント方式のスマートポインタ型\n",
    "  データに複数の所有者を持たせる\n",
    "  所有者がいなくなったらデータの片付けをしてくれる\n",
    "\n",
    "スマートポインタがDerefとDropトレイトを実装している\n",
    "\n",
    "- ヒープに値を確保するBox<T>\n",
    "- 複数の所有権を可能にする参照カウント型のRc<T>\n",
    "- RefCell<T>を通してアクセスされ、コンパイル時ではなく実行時に借用規則を強制する型のRef<T>とRefMut<T>\n",
    "- 内部可変性パターン\n",
    "- 循環参照\n"
   ]
  },
  {
   "cell_type": "markdown",
   "metadata": {},
   "source": [
    "# ヒープのデータを指すBox<T>を使用する\n",
    "\n",
    "## Box<T>を使ってヒープにデータを格納する\n"
   ]
  },
  {
   "cell_type": "code",
   "execution_count": 3,
   "metadata": {},
   "outputs": [
    {
     "name": "stdout",
     "output_type": "stream",
     "text": [
      "b = 5\n"
     ]
    },
    {
     "data": {
      "text/plain": [
       "()"
      ]
     },
     "execution_count": 3,
     "metadata": {},
     "output_type": "execute_result"
    }
   ],
   "source": [
    "{\n",
    "  let b = Box::new(5);\n",
    "  println!(\"b = {}\", b);\n",
    "}"
   ]
  },
  {
   "cell_type": "markdown",
   "metadata": {},
   "source": [
    "```\n",
    "(32, (11, (10, (1, \"Nil\"))))\n",
    "```"
   ]
  },
  {
   "cell_type": "code",
   "execution_count": 8,
   "metadata": {},
   "outputs": [
    {
     "ename": "Error",
     "evalue": "recursive type `List` has infinite size",
     "output_type": "error",
     "traceback": [
      "enum List {",
      "^^^^^^^^^ recursive type has infinite size",
      "  Cons(i32, List),",
      "            ^^^^ recursive without indirection",
      "recursive type `List` has infinite size",
      "help: insert some indirection (e.g., a `Box`, `Rc`, or `&`) to make `List` representable\n\nBox<"
     ]
    },
    {
     "ename": "Error",
     "evalue": "cycle detected when computing drop-check constraints for `List`",
     "output_type": "error",
     "traceback": [
      "enum List {",
      "^^^^^^^^^ ",
      "cycle detected when computing drop-check constraints for `List`"
     ]
    }
   ],
   "source": [
    "enum List {\n",
    "  Cons(i32, List),\n",
    "  Nil,\n",
    "}\n",
    "\n",
    "use List::{Cons, Nil};\n",
    "let list = Cons(1, Cons(2, Cons(3, Nil)));"
   ]
  },
  {
   "cell_type": "markdown",
   "metadata": {},
   "source": [
    "```rust\n",
    "enum Message {\n",
    "    Quit,\n",
    "    Move { x: i32, y: i32 },\n",
    "    Write(String),\n",
    "    ChangeColor(i32, i32, i32),\n",
    "}\n",
    "```\n"
   ]
  },
  {
   "cell_type": "code",
   "execution_count": 13,
   "metadata": {},
   "outputs": [
    {
     "data": {
      "text/plain": [
       "Cons(1, Cons(2, Cons(3, Nil)))"
      ]
     },
     "execution_count": 13,
     "metadata": {},
     "output_type": "execute_result"
    }
   ],
   "source": [
    "\n",
    "#[derive(Debug)]\n",
    "enum List {\n",
    "  Cons(i32, Box<List>),\n",
    "  Nil,\n",
    "}\n",
    "\n",
    "use List::{Cons, Nil};\n",
    "let list = Cons(1,\n",
    "    Box::new(Cons(2,\n",
    "      Box::new(Cons(3,\n",
    "        Box::new(Nil))))));\n",
    "list"
   ]
  },
  {
   "cell_type": "code",
   "execution_count": 4,
   "metadata": {},
   "outputs": [
    {
     "data": {
      "text/plain": [
       "()"
      ]
     },
     "execution_count": 4,
     "metadata": {},
     "output_type": "execute_result"
    }
   ],
   "source": [
    "{\n",
    "  let x = 5;\n",
    "  let y = &x;\n",
    "\n",
    "  assert_eq!(5, x);\n",
    "  assert_eq!(5, *y);\n",
    "}"
   ]
  },
  {
   "cell_type": "code",
   "execution_count": 5,
   "metadata": {},
   "outputs": [
    {
     "ename": "Error",
     "evalue": "can't compare `{integer}` with `&{integer}`",
     "output_type": "error",
     "traceback": [
      "  assert_eq!(5, y);",
      "  ^^^^^^^^^^^^^^^^^ no implementation for `{integer} == &{integer}`",
      "can't compare `{integer}` with `&{integer}`",
      "help: the trait `PartialEq<&{integer}>` is not implemented for `{integer}`"
     ]
    }
   ],
   "source": [
    "{\n",
    "  let x = 5;\n",
    "  let y = &x;\n",
    "\n",
    "  assert_eq!(5, y);\n",
    "}"
   ]
  },
  {
   "cell_type": "code",
   "execution_count": 6,
   "metadata": {},
   "outputs": [
    {
     "data": {
      "text/plain": [
       "()"
      ]
     },
     "execution_count": 6,
     "metadata": {},
     "output_type": "execute_result"
    }
   ],
   "source": [
    "{\n",
    "  let x = 5;\n",
    "  let y = Box::new(x);\n",
    "\n",
    "  assert_eq!(5, x);\n",
    "  assert_eq!(5, *y);\n",
    "}"
   ]
  },
  {
   "cell_type": "code",
   "execution_count": 7,
   "metadata": {},
   "outputs": [],
   "source": [
    "struct MyBox<T>(T);\n",
    "\n",
    "impl<T> MyBox<T> {\n",
    "  fn new(x: T) -> MyBox<T> {\n",
    "    MyBox(x)\n",
    "  }\n",
    "}"
   ]
  },
  {
   "cell_type": "code",
   "execution_count": 8,
   "metadata": {},
   "outputs": [
    {
     "ename": "Error",
     "evalue": "type `MyBox<{integer}>` cannot be dereferenced",
     "output_type": "error",
     "traceback": [
      "  assert_eq!(5, *y);",
      "                ^^ ",
      "type `MyBox<{integer}>` cannot be dereferenced"
     ]
    }
   ],
   "source": [
    "{\n",
    "  let x = 5;\n",
    "  let y = MyBox::new(x);\n",
    "\n",
    "  assert_eq!(5, x);\n",
    "  assert_eq!(5, *y);\n",
    "}"
   ]
  },
  {
   "cell_type": "markdown",
   "metadata": {},
   "source": [
    "Derefトレイトを実装"
   ]
  },
  {
   "cell_type": "code",
   "execution_count": 9,
   "metadata": {},
   "outputs": [],
   "source": [
    "use std::ops::Deref;\n",
    "\n",
    "impl<T> Deref for MyBox<T> {\n",
    "  type Target = T;\n",
    "\n",
    "  fn deref(&self) -> &T {\n",
    "    &self.0\n",
    "  }\n",
    "}"
   ]
  },
  {
   "cell_type": "code",
   "execution_count": 10,
   "metadata": {},
   "outputs": [
    {
     "data": {
      "text/plain": [
       "()"
      ]
     },
     "execution_count": 10,
     "metadata": {},
     "output_type": "execute_result"
    }
   ],
   "source": [
    "{\n",
    "  let x = 5;\n",
    "  let y = MyBox::new(x);\n",
    "\n",
    "  assert_eq!(5, x);\n",
    "  assert_eq!(5, *y);\n",
    "}"
   ]
  },
  {
   "cell_type": "code",
   "execution_count": 16,
   "metadata": {},
   "outputs": [],
   "source": [
    "struct DoubleBox<T>(T);\n",
    "\n",
    "impl<T> DoubleBox<T> {\n",
    "  fn new(x: T) -> DoubleBox<DoubleBox<T>> {\n",
    "    DoubleBox(DoubleBox(x))\n",
    "  }\n",
    "}\n",
    "\n",
    "use std::ops::Deref;\n",
    "\n",
    "impl<T> Deref for DoubleBox<T> {\n",
    "  type Target = T;\n",
    "\n",
    "  fn deref(&self) -> &T {\n",
    "    &self.0\n",
    "  }\n",
    "}"
   ]
  },
  {
   "cell_type": "code",
   "execution_count": 18,
   "metadata": {},
   "outputs": [],
   "source": [
    "use std::ops::Deref;\n",
    "\n",
    "impl<T> Deref for DoubleBox<T> {\n",
    "  type Target = T;\n",
    "\n",
    "  fn deref(&self) -> &T {\n",
    "    &self.0\n",
    "  }\n",
    "}"
   ]
  },
  {
   "cell_type": "code",
   "execution_count": 19,
   "metadata": {},
   "outputs": [
    {
     "ename": "Error",
     "evalue": "can't compare `{integer}` with `DoubleBox<{integer}>`",
     "output_type": "error",
     "traceback": [
      "  assert_eq!(5, *y);",
      "  ^^^^^^^^^^^^^^^^^^ no implementation for `{integer} == DoubleBox<{integer}>`",
      "can't compare `{integer}` with `DoubleBox<{integer}>`",
      "help: the trait `PartialEq<DoubleBox<{integer}>>` is not implemented for `{integer}`"
     ]
    },
    {
     "ename": "Error",
     "evalue": "`DoubleBox<{integer}>` doesn't implement `Debug`",
     "output_type": "error",
     "traceback": [
      "  assert_eq!(5, *y);",
      "  ^^^^^^^^^^^^^^^^^^ `DoubleBox<{integer}>` cannot be formatted using `{:?}`",
      "`DoubleBox<{integer}>` doesn't implement `Debug`",
      "help: the trait `Debug` is not implemented for `DoubleBox<{integer}>`"
     ]
    }
   ],
   "source": [
    "{\n",
    "  let x = 5;\n",
    "  let y = DoubleBox::new(x);\n",
    "\n",
    "  assert_eq!(5, x);\n",
    "  assert_eq!(5, *y);\n",
    "}"
   ]
  },
  {
   "cell_type": "code",
   "execution_count": 20,
   "metadata": {},
   "outputs": [
    {
     "data": {
      "text/plain": [
       "()"
      ]
     },
     "execution_count": 20,
     "metadata": {},
     "output_type": "execute_result"
    }
   ],
   "source": [
    "{\n",
    "  let x = 5;\n",
    "  let y = DoubleBox::new(x);\n",
    "\n",
    "  assert_eq!(5, x);\n",
    "  assert_eq!(5, **y);\n",
    "}"
   ]
  },
  {
   "cell_type": "markdown",
   "metadata": {},
   "source": [
    "参照外し型強制"
   ]
  },
  {
   "cell_type": "code",
   "execution_count": 11,
   "metadata": {},
   "outputs": [],
   "source": [
    "fn hello(name: &str) {\n",
    "  println!(\"Hello, {}!\", name);\n",
    "}"
   ]
  },
  {
   "cell_type": "code",
   "execution_count": 12,
   "metadata": {},
   "outputs": [
    {
     "name": "stdout",
     "output_type": "stream",
     "text": [
      "Hello, Rust!\n"
     ]
    }
   ],
   "source": [
    "let m = MyBox::new(String::from(\"Rust\"));\n",
    "hello(&m);"
   ]
  },
  {
   "cell_type": "code",
   "execution_count": 22,
   "metadata": {},
   "outputs": [
    {
     "name": "stdout",
     "output_type": "stream",
     "text": [
      "Hello, Rust!\n"
     ]
    }
   ],
   "source": [
    "// call `hello` without implicit deref coercions\n",
    "hello(&(*m)[..]);"
   ]
  },
  {
   "cell_type": "code",
   "execution_count": 23,
   "metadata": {},
   "outputs": [
    {
     "name": "stdout",
     "output_type": "stream",
     "text": [
      "Hello, Rust!\n"
     ]
    }
   ],
   "source": [
    "// number of times to `deref` insertion is resolved at compile tims.\n",
    "let m = DoubleBox::new(String::from(\"Rust\"));\n",
    "hello(&m);"
   ]
  },
  {
   "cell_type": "markdown",
   "metadata": {},
   "source": [
    "## Dropトレイトで片付け時にコードを走らせる"
   ]
  },
  {
   "cell_type": "code",
   "execution_count": 3,
   "metadata": {},
   "outputs": [],
   "source": [
    "struct CustomSmartPointer {\n",
    "  data: String,\n",
    "}\n",
    "\n",
    "impl Drop for CustomSmartPointer {\n",
    "  fn drop(&mut self) {\n",
    "    println!(\"Dropping CustomSmartPointer with data `{}`!\", self.data);\n",
    "  }\n",
    "}"
   ]
  },
  {
   "cell_type": "code",
   "execution_count": 5,
   "metadata": {},
   "outputs": [
    {
     "data": {
      "text/plain": [
       "()"
      ]
     },
     "execution_count": 5,
     "metadata": {},
     "output_type": "execute_result"
    },
    {
     "name": "stdout",
     "output_type": "stream",
     "text": [
      "CustomSmartPonters created.\n",
      "Dropping CustomSmartPointer with data `other stuff`!\n",
      "Dropping CustomSmartPointer with data `my stuff`!\n"
     ]
    }
   ],
   "source": [
    "{\n",
    "  let c = CustomSmartPointer { data: String::from(\"my stuff\") };\n",
    "  let d = CustomSmartPointer { data: String::from(\"other stuff\") };\n",
    "  println!(\"CustomSmartPonters created.\");\n",
    "}"
   ]
  },
  {
   "cell_type": "code",
   "execution_count": 6,
   "metadata": {},
   "outputs": [
    {
     "ename": "Error",
     "evalue": "explicit use of destructor method",
     "output_type": "error",
     "traceback": [
      "  c.drop();",
      "    ^^^^ explicit destructor calls not allowed",
      "explicit use of destructor method",
      "help: consider using `drop` function: `drop(c)`\n\n"
     ]
    }
   ],
   "source": [
    "{\n",
    "  let c = CustomSmartPointer { data: String::from(\"my stuff\") };\n",
    "  println!(\"CustomSmartPonters created.\");\n",
    "  c.drop();\n",
    "  println!(\"CustomSmartPointer dropped before the end of main.\");\n",
    "}"
   ]
  },
  {
   "cell_type": "code",
   "execution_count": 7,
   "metadata": {},
   "outputs": [
    {
     "name": "stdout",
     "output_type": "stream",
     "text": [
      "CustomSmartPonters created.\n",
      "Dropping CustomSmartPointer with data `my stuff`!\n",
      "CustomSmartPointer dropped before the end of main.\n"
     ]
    },
    {
     "data": {
      "text/plain": [
       "()"
      ]
     },
     "execution_count": 7,
     "metadata": {},
     "output_type": "execute_result"
    }
   ],
   "source": [
    "{\n",
    "  let c = CustomSmartPointer { data: String::from(\"my stuff\") };\n",
    "  println!(\"CustomSmartPonters created.\");\n",
    "  drop(c);\n",
    "  println!(\"CustomSmartPointer dropped before the end of main.\");\n",
    "}"
   ]
  },
  {
   "cell_type": "markdown",
   "metadata": {},
   "source": [
    "## Rc<T>は、参照カウント方式のスマートポインタ"
   ]
  },
  {
   "cell_type": "code",
   "execution_count": 8,
   "metadata": {},
   "outputs": [],
   "source": [
    "enum List {\n",
    "  Cons(i32, Box<List>),\n",
    "  Nil,\n",
    "}"
   ]
  },
  {
   "cell_type": "code",
   "execution_count": 12,
   "metadata": {},
   "outputs": [],
   "source": [
    "use List::{Cons, Nil};\n",
    "\n",
    "let a = Cons(5,\n",
    "  Box::new(Cons(10,\n",
    "    Box::new(Nil))));"
   ]
  },
  {
   "cell_type": "code",
   "execution_count": 13,
   "metadata": {},
   "outputs": [
    {
     "ename": "Error",
     "evalue": "use of moved value: `a`",
     "output_type": "error",
     "traceback": [
      "let b = Cons(3, Box::new(a));",
      "                         ^ value moved here",
      "let c = Cons(4, Box::new(a));",
      "                         ^ value used here after move",
      "use of moved value: `a`"
     ]
    }
   ],
   "source": [
    "let b = Cons(3, Box::new(a));\n",
    "let c = Cons(4, Box::new(a));"
   ]
  },
  {
   "cell_type": "code",
   "execution_count": 21,
   "metadata": {},
   "outputs": [],
   "source": [
    "use std::rc::Rc;\n",
    "\n",
    "enum List {\n",
    "  Cons(i32, Rc<List>),\n",
    "  Nil,\n",
    "}"
   ]
  },
  {
   "cell_type": "code",
   "execution_count": 22,
   "metadata": {},
   "outputs": [],
   "source": [
    "use List::{Cons, Nil};\n",
    "\n",
    "let a = Rc::new(Cons(5,\n",
    "  Rc::new(Cons(10,\n",
    "    Rc::new(Nil)))));"
   ]
  },
  {
   "cell_type": "code",
   "execution_count": 23,
   "metadata": {},
   "outputs": [],
   "source": [
    "let b = Cons(3, Rc::clone(&a));\n",
    "let c = Cons(4, Rc::clone(&a));"
   ]
  },
  {
   "cell_type": "code",
   "execution_count": 24,
   "metadata": {},
   "outputs": [
    {
     "name": "stdout",
     "output_type": "stream",
     "text": [
      "count = 1\n",
      "count = 2\n",
      "count = 3\n",
      "count = 2\n"
     ]
    },
    {
     "data": {
      "text/plain": [
       "()"
      ]
     },
     "execution_count": 24,
     "metadata": {},
     "output_type": "execute_result"
    }
   ],
   "source": [
    "{\n",
    "  let a = Rc::new(Cons(5, Rc::new(Cons(10, Rc::new(Nil)))));\n",
    "  println!(\"count = {}\", Rc::strong_count(&a));\n",
    "\n",
    "  let b = Cons(3, Rc::clone(&a));\n",
    "  println!(\"count = {}\", Rc::strong_count(&a));\n",
    "\n",
    "  {\n",
    "    let c = Cons(4, Rc::clone(&a));\n",
    "    println!(\"count = {}\", Rc::strong_count(&a));\n",
    "  }\n",
    "\n",
    "  println!(\"count = {}\", Rc::strong_count(&a));\n",
    "}"
   ]
  },
  {
   "cell_type": "markdown",
   "metadata": {},
   "source": [
    "## RefCell<T>と内部可変性パターン"
   ]
  },
  {
   "cell_type": "markdown",
   "metadata": {},
   "source": [
    "借用規則\n",
    "- いかなる時も(以下の両方ではなく、)1つの可変参照かいくつもの不変参照のどちらかが可能になる\n",
    "- 参照は常に有効でなければならない。"
   ]
  },
  {
   "cell_type": "code",
   "execution_count": 2,
   "metadata": {},
   "outputs": [
    {
     "ename": "Error",
     "evalue": "cannot borrow `x` as mutable, as it is not declared as mutable",
     "output_type": "error",
     "traceback": [
      "let y = &mut x;",
      "        ^^^^^^ cannot borrow as mutable",
      "cannot borrow `x` as mutable, as it is not declared as mutable",
      "help: consider changing this to be mutable\n\nmut x"
     ]
    },
    {
     "ename": "Error",
     "evalue": "cannot use `x` because it was mutably borrowed",
     "output_type": "error",
     "traceback": [
      "let y = &mut x;",
      "        ^^^^^^ borrow of `x` occurs here",
      "cannot use `x` because it was mutably borrowed"
     ]
    }
   ],
   "source": [
    "let x = 5;\n",
    "let y = &mut x;"
   ]
  },
  {
   "cell_type": "code",
   "execution_count": 3,
   "metadata": {},
   "outputs": [],
   "source": [
    "pub trait Messenger {\n",
    "  fn send(&self, msg: &str);\n",
    "}"
   ]
  },
  {
   "cell_type": "code",
   "execution_count": 5,
   "metadata": {},
   "outputs": [],
   "source": [
    "pub struct LimitTracker<'a, T: 'a + Messenger> {\n",
    "  messenger: &'a T,\n",
    "  value: usize,\n",
    "  max: usize,\n",
    "}"
   ]
  },
  {
   "cell_type": "code",
   "execution_count": 7,
   "metadata": {},
   "outputs": [],
   "source": [
    "impl<'a, T> LimitTracker<'a, T> where T: Messenger {\n",
    "  pub fn new(messenger: &T, max: usize) -> LimitTracker<T> {\n",
    "    LimitTracker {\n",
    "      messenger,\n",
    "      value: 0,\n",
    "      max,\n",
    "    }\n",
    "  }\n",
    "\n",
    "  pub fn set_value(&mut self, value: usize) {\n",
    "    self.value = value;\n",
    "\n",
    "    let percentage_of_max = self.value as f64 / self.max as f64;\n",
    "\n",
    "    if percentage_of_max > 0.75 && percentage_of_max < 0.9 {\n",
    "      self.messenger.send(\"Warning: You've used up over 75% of your quota!\");\n",
    "    } else if percentage_of_max > 0.9 && percentage_of_max < 1.0 {\n",
    "      self.messenger.send(\"Urgent warning: You've used up over 90% of your quota!\");\n",
    "    } else if percentage_of_max >= 1.0 {\n",
    "      self.messenger.send(\"Error: You are over your quota!\");\n",
    "    }\n",
    "  }\n",
    "}"
   ]
  },
  {
   "cell_type": "code",
   "execution_count": 14,
   "metadata": {},
   "outputs": [
    {
     "ename": "Error",
     "evalue": "cannot borrow `self.sent_messages` as mutable, as it is behind a `&` reference",
     "output_type": "error",
     "traceback": [
      "      self.sent_messages.push(String::from(message));",
      "      ^^^^^^^^^^^^^^^^^^ `self` is a `&` reference, so the data it refers to cannot be borrowed as mutable",
      "cannot borrow `self.sent_messages` as mutable, as it is behind a `&` reference",
      "help: consider changing this to be a mutable reference\n\n&mut self"
     ]
    },
    {
     "ename": "Error",
     "evalue": "`mock_messenger` does not live long enough",
     "output_type": "error",
     "traceback": [
      "    let mut limit_tracker = LimitTracker::new(&mock_messenger, 100);",
      "                                              ^^^^^^^^^^^^^^^ borrowed value does not live long enough",
      "    let mut limit_tracker = LimitTracker::new(&mock_messenger, 100);",
      "                            ^^^^^^^^^^^^^^^^^^^^^^^^^^^^^^^^^^^^^^^ argument requires that `mock_messenger` is borrowed for `'static`",
      "`mock_messenger` does not live long enough"
     ]
    }
   ],
   "source": [
    "// #[cfg(test)]\n",
    "// mod tests {\n",
    "//   use super::*;\n",
    "\n",
    "  struct MockMessenger {\n",
    "    sent_messages: Vec<String>,\n",
    "  }\n",
    "\n",
    "  impl MockMessenger {\n",
    "    fn new() -> MockMessenger {\n",
    "      MockMessenger { sent_messages: vec![] }\n",
    "    }\n",
    "  }\n",
    "\n",
    "  impl Messenger for MockMessenger {\n",
    "    fn send(&self, message: &str) {\n",
    "      self.sent_messages.push(String::from(message));\n",
    "    }\n",
    "  }\n",
    "\n",
    "  // #[test]\n",
    "  // fn it_send_an_over_75_percent_waring_message() {\n",
    "    let mock_messenger = MockMessenger::new();\n",
    "    let mut limit_tracker = LimitTracker::new(&mock_messenger, 100);\n",
    "\n",
    "    limit_tracker.set_value(80);\n",
    "    assert_eq!(mock_messenger.sent_messages.len(), 1);\n",
    "  // }\n",
    "// }"
   ]
  },
  {
   "cell_type": "code",
   "execution_count": 19,
   "metadata": {},
   "outputs": [
    {
     "data": {
      "text/plain": [
       "()"
      ]
     },
     "execution_count": 19,
     "metadata": {},
     "output_type": "execute_result"
    }
   ],
   "source": [
    "{\n",
    "  use std::cell::RefCell;\n",
    "\n",
    "  struct MockMessenger {\n",
    "    sent_messages: RefCell<Vec<String>>,\n",
    "  }\n",
    "\n",
    "  impl MockMessenger {\n",
    "    fn new() -> MockMessenger {\n",
    "      MockMessenger { sent_messages: RefCell::new(vec![]) }\n",
    "    }\n",
    "  }\n",
    "\n",
    "  impl Messenger for MockMessenger {\n",
    "    fn send(&self, message: &str) {\n",
    "      self.sent_messages.borrow_mut().push(String::from(message));\n",
    "    }\n",
    "  }\n",
    "\n",
    "  // fn it_send_an_over_75_percent_waring_message() {\n",
    "    let mock_messenger = MockMessenger::new();\n",
    "    let mut limit_tracker = LimitTracker::new(&mock_messenger, 100);\n",
    "\n",
    "    limit_tracker.set_value(80);\n",
    "    assert_eq!(mock_messenger.sent_messages.borrow().len(), 1);\n",
    "  // }\n",
    "}"
   ]
  },
  {
   "cell_type": "code",
   "execution_count": 20,
   "metadata": {},
   "outputs": [
    {
     "data": {
      "text/plain": [
       "()"
      ]
     },
     "execution_count": 20,
     "metadata": {},
     "output_type": "execute_result"
    }
   ],
   "source": [
    "{\n",
    "  use std::cell::RefCell;\n",
    "\n",
    "  struct MockMessenger {\n",
    "    sent_messages: RefCell<Vec<String>>,\n",
    "  }\n",
    "\n",
    "  impl MockMessenger {\n",
    "    fn new() -> MockMessenger {\n",
    "      MockMessenger { sent_messages: RefCell::new(vec![]) }\n",
    "    }\n",
    "  }\n",
    "\n",
    "  impl Messenger for MockMessenger {\n",
    "    fn send(&self, message: &str) {\n",
    "      let mut one = self.sent_messages.borrow_mut();\n",
    "      let mut two = self.sent_messages.borrow_mut();\n",
    "      \n",
    "      one.push(String::from(message));\n",
    "      two.push(String::from(message));\n",
    "    }\n",
    "  }\n",
    "}"
   ]
  },
  {
   "cell_type": "code",
   "execution_count": 21,
   "metadata": {},
   "outputs": [
    {
     "name": "stderr",
     "output_type": "stream",
     "text": [
      "thread '<unnamed>' panicked at 'already borrowed: BorrowMutError', src/lib.rs:97:40\n",
      "stack backtrace:\n",
      "   0: _rust_begin_unwind\n",
      "   1: core::panicking::panic_fmt\n",
      "   2: core::option::expect_none_failed\n",
      "   3: <ctx::run_user_code_9::MockMessenger as ctx::Messenger>::send\n",
      "   4: _run_user_code_9\n",
      "   5: evcxr::runtime::Runtime::run_loop\n",
      "   6: evcxr::runtime::runtime_hook\n",
      "   7: evcxr_jupyter::main\n",
      "note: Some details are omitted, run with `RUST_BACKTRACE=full` for a verbose backtrace.\n"
     ]
    },
    {
     "ename": "Error",
     "evalue": "Child process terminated with status: exit code: 101",
     "output_type": "error",
     "traceback": [
      "Child process terminated with status: exit code: 101"
     ]
    }
   ],
   "source": [
    "{\n",
    "  use std::cell::RefCell;\n",
    "\n",
    "  struct MockMessenger {\n",
    "    sent_messages: RefCell<Vec<String>>,\n",
    "  }\n",
    "\n",
    "  impl MockMessenger {\n",
    "    fn new() -> MockMessenger {\n",
    "      MockMessenger { sent_messages: RefCell::new(vec![]) }\n",
    "    }\n",
    "  }\n",
    "\n",
    "  impl Messenger for MockMessenger {\n",
    "    fn send(&self, message: &str) {\n",
    "      let mut one = self.sent_messages.borrow_mut();\n",
    "      let mut two = self.sent_messages.borrow_mut();\n",
    "      \n",
    "      one.push(String::from(message));\n",
    "      two.push(String::from(message));\n",
    "    }\n",
    "  }\n",
    "\n",
    "  let mock_messenger = MockMessenger::new();\n",
    "  let mut limit_tracker = LimitTracker::new(&mock_messenger, 100);\n",
    "\n",
    "  limit_tracker.set_value(80);\n",
    "  assert_eq!(mock_messenger.sent_messages.borrow().len(), 1);\n",
    "}"
   ]
  },
  {
   "cell_type": "code",
   "execution_count": 24,
   "metadata": {},
   "outputs": [
    {
     "name": "stdout",
     "output_type": "stream",
     "text": [
      "a after = Cons(RefCell { value: 15 }, Nil)\n",
      "b after = Cons(RefCell { value: 6 }, Cons(RefCell { value: 15 }, Nil))\n",
      "c after = Cons(RefCell { value: 10 }, Cons(RefCell { value: 15 }, Nil))\n"
     ]
    }
   ],
   "source": [
    "#[derive(Debug)]\n",
    "enum List {\n",
    "  Cons(Rc<RefCell<i32>>, Rc<List>),\n",
    "  Nil,\n",
    "}\n",
    "\n",
    "use List::{Cons, Nil};\n",
    "use std::rc::Rc;\n",
    "use std::cell::RefCell;\n",
    "\n",
    "let value = Rc::new(RefCell::new(5));\n",
    "let a = Rc::new(Cons(Rc::clone(&value), Rc::new(Nil)));\n",
    "let b = Cons(Rc::new(RefCell::new(6)), Rc::clone(&a));\n",
    "let c = Cons(Rc::new(RefCell::new(10)), Rc::clone(&a));\n",
    "\n",
    "*(value.borrow_mut()) += 10;\n",
    "\n",
    "println!(\"a after = {:?}\", a);\n",
    "println!(\"b after = {:?}\", b);\n",
    "println!(\"c after = {:?}\", c);"
   ]
  },
  {
   "cell_type": "code",
   "execution_count": null,
   "metadata": {},
   "outputs": [],
   "source": []
  }
 ],
 "metadata": {
  "kernelspec": {
   "display_name": "Rust",
   "language": "rust",
   "name": "rust"
  },
  "language_info": {
   "codemirror_mode": "rust",
   "file_extension": ".rs",
   "mimetype": "text/rust",
   "name": "rust",
   "pygment_lexer": "rust",
   "version": ""
  },
  "orig_nbformat": 4
 },
 "nbformat": 4,
 "nbformat_minor": 2
}
