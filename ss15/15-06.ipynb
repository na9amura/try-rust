{
 "cells": [
  {
   "cell_type": "markdown",
   "metadata": {},
   "source": [
    "## 15.6 循環参照は、メモリをリークすることもある"
   ]
  },
  {
   "cell_type": "markdown",
   "metadata": {},
   "source": [
    "### 循環参照させる"
   ]
  },
  {
   "cell_type": "code",
   "execution_count": 2,
   "metadata": {
    "vscode": {
     "languageId": "rust"
    }
   },
   "outputs": [],
   "source": [
    "use std::rc::Rc;\n",
    "use std::cell::RefCell;\n",
    "use List::{Cons, Nil};\n",
    "\n",
    "#[derive(Debug)]\n",
    "enum List {\n",
    "    Cons(i32, RefCell<Rc<List>>),\n",
    "    Nil,\n",
    "}\n",
    "\n",
    "impl List {\n",
    "    fn tail(&self) -> Option<&RefCell<Rc<List>>> {\n",
    "        match *self {\n",
    "            Cons(_, ref item) => Some(item),\n",
    "            Nil => None,\n",
    "        }\n",
    "    }\n",
    "}\n"
   ]
  },
  {
   "cell_type": "code",
   "execution_count": 4,
   "metadata": {
    "vscode": {
     "languageId": "rust"
    }
   },
   "outputs": [
    {
     "name": "stdout",
     "output_type": "stream",
     "text": [
      "a initial rc count = 1\n",
      "a next item = Some(RefCell { value: Nil })\n"
     ]
    }
   ],
   "source": [
    "let a = Rc::new(Cons(5, RefCell::new(Rc::new(Nil))));\n",
    "\n",
    "println!(\"a initial rc count = {}\", Rc::strong_count(&a));\n",
    "println!(\"a next item = {:?}\", a.tail());"
   ]
  },
  {
   "cell_type": "markdown",
   "metadata": {},
   "source": [
    "`[a] => [5 | ] => Nil`"
   ]
  },
  {
   "cell_type": "code",
   "execution_count": 5,
   "metadata": {
    "vscode": {
     "languageId": "rust"
    }
   },
   "outputs": [
    {
     "name": "stdout",
     "output_type": "stream",
     "text": [
      "a rc count after b creation = 2\n",
      "b initial rc count = 1\n",
      "b next item = Some(RefCell { value: Cons(5, RefCell { value: Nil }) })\n"
     ]
    }
   ],
   "source": [
    "let b = Rc::new(Cons(10, RefCell::new(Rc::clone(&a))));\n",
    "\n",
    "println!(\"a rc count after b creation = {}\", Rc::strong_count(&a));\n",
    "println!(\"b initial rc count = {}\", Rc::strong_count(&b));\n",
    "println!(\"b next item = {:?}\", b.tail());"
   ]
  },
  {
   "cell_type": "markdown",
   "metadata": {},
   "source": [
    "`[b] => [10 | ] => [a] => [5 | ] => Nil`"
   ]
  },
  {
   "cell_type": "code",
   "execution_count": 6,
   "metadata": {
    "vscode": {
     "languageId": "rust"
    }
   },
   "outputs": [
    {
     "name": "stdout",
     "output_type": "stream",
     "text": [
      "b rc count after changing a = 2\n",
      "a rc count after changing a = 2\n"
     ]
    }
   ],
   "source": [
    "if let Some(link) = a.tail() {\n",
    "  *link.borrow_mut() = Rc::clone(&b);\n",
    "}\n",
    "\n",
    "println!(\"b rc count after changing a = {}\", Rc::strong_count(&b));\n",
    "println!(\"a rc count after changing a = {}\", Rc::strong_count(&a));"
   ]
  },
  {
   "cell_type": "markdown",
   "metadata": {},
   "source": [
    "`[b] => [10 | ] => [a] => [5 | ] => [b] => [10 | ] => [a] => ...`"
   ]
  },
  {
   "cell_type": "code",
   "execution_count": 7,
   "metadata": {
    "vscode": {
     "languageId": "rust"
    }
   },
   "outputs": [],
   "source": [
    "// This will overflow the stack\n",
    "// println!(\"a next item = {:?}\", a.tail());"
   ]
  },
  {
   "cell_type": "markdown",
   "metadata": {},
   "source": [
    "### 循環参照を回避する: Rc\\<T\\>をWeak\\<T\\>に変換する"
   ]
  },
  {
   "cell_type": "markdown",
   "metadata": {},
   "source": [
    "#### 木データ構造を作る: 子ノードのあるNode"
   ]
  },
  {
   "cell_type": "code",
   "execution_count": 8,
   "metadata": {
    "vscode": {
     "languageId": "rust"
    }
   },
   "outputs": [],
   "source": [
    "#[derive(Debug)]\n",
    "struct Node {\n",
    "  value: i32,\n",
    "  childredn: RefCell<Vec<Rc<Node>>>\n",
    "}"
   ]
  },
  {
   "cell_type": "code",
   "execution_count": 10,
   "metadata": {
    "vscode": {
     "languageId": "rust"
    }
   },
   "outputs": [
    {
     "data": {
      "text/plain": [
       "Node { value: 3, childredn: RefCell { value: [] } }"
      ]
     },
     "execution_count": 10,
     "metadata": {},
     "output_type": "execute_result"
    }
   ],
   "source": [
    "let leaf = Rc::new(Node {\n",
    "  value: 3,\n",
    "  childredn: RefCell::new(vec![]),\n",
    "});\n",
    "leaf"
   ]
  },
  {
   "cell_type": "code",
   "execution_count": 11,
   "metadata": {
    "vscode": {
     "languageId": "rust"
    }
   },
   "outputs": [
    {
     "data": {
      "text/plain": [
       "Node { value: 5, childredn: RefCell { value: [Node { value: 3, childredn: RefCell { value: [] } }] } }"
      ]
     },
     "execution_count": 11,
     "metadata": {},
     "output_type": "execute_result"
    }
   ],
   "source": [
    "let branch = Rc::new(Node {\n",
    "  value: 5,\n",
    "  childredn: RefCell::new(vec![Rc::clone(&leaf)])\n",
    "});\n",
    "branch"
   ]
  },
  {
   "cell_type": "markdown",
   "metadata": {},
   "source": [
    "branch -> leaf は辿れる\n",
    "\n",
    "branch <- leaf は辿れない状態\n"
   ]
  },
  {
   "cell_type": "markdown",
   "metadata": {},
   "source": [
    "#### 子供から親に参照を追加する\n",
    "\n",
    "実現すべきこと\n",
    "- Node構造体定義にparentフィールドを追加する\n",
    "- 循環参照はしない\n",
    "\n",
    "参照関係\n",
    "- 親ノードは小ノードを所有する\n",
    "- 子ノードは親ノードを所有しない"
   ]
  },
  {
   "cell_type": "code",
   "execution_count": 14,
   "metadata": {
    "vscode": {
     "languageId": "rust"
    }
   },
   "outputs": [],
   "source": [
    "use std::rc::Weak;\n",
    "\n",
    "#[derive(Debug)]\n",
    "struct Node {\n",
    "  value: i32,\n",
    "  parent: RefCell<Weak<Node>>,\n",
    "  childredn: RefCell<Vec<Rc<Node>>>,\n",
    "}"
   ]
  },
  {
   "cell_type": "code",
   "execution_count": 18,
   "metadata": {
    "vscode": {
     "languageId": "rust"
    }
   },
   "outputs": [
    {
     "name": "stdout",
     "output_type": "stream",
     "text": [
      "leaf parent = None\n"
     ]
    },
    {
     "data": {
      "text/plain": [
       "Node { value: 3, parent: RefCell { value: (Weak) }, childredn: RefCell { value: [] } }"
      ]
     },
     "execution_count": 18,
     "metadata": {},
     "output_type": "execute_result"
    }
   ],
   "source": [
    "let leaf = Rc::new(Node {\n",
    "  value: 3,\n",
    "  parent: RefCell::new(Weak::new()),\n",
    "  childredn: RefCell::new(vec![]),\n",
    "});\n",
    "println!(\"leaf parent = {:?}\", leaf.parent.borrow().upgrade());\n",
    "leaf"
   ]
  },
  {
   "cell_type": "code",
   "execution_count": 19,
   "metadata": {
    "vscode": {
     "languageId": "rust"
    }
   },
   "outputs": [
    {
     "data": {
      "text/plain": [
       "Node { value: 5, parent: RefCell { value: (Weak) }, childredn: RefCell { value: [Node { value: 3, parent: RefCell { value: (Weak) }, childredn: RefCell { value: [] } }] } }"
      ]
     },
     "execution_count": 19,
     "metadata": {},
     "output_type": "execute_result"
    }
   ],
   "source": [
    "let branch = Rc::new(Node {\n",
    "  value: 5,\n",
    "  parent: RefCell::new(Weak::new()),\n",
    "  childredn: RefCell::new(vec![Rc::clone(&leaf)]),\n",
    "});\n",
    "branch"
   ]
  },
  {
   "cell_type": "code",
   "execution_count": 20,
   "metadata": {
    "vscode": {
     "languageId": "rust"
    }
   },
   "outputs": [],
   "source": [
    "*leaf.parent.borrow_mut() = Rc::downgrade(&branch);\n"
   ]
  },
  {
   "cell_type": "code",
   "execution_count": 24,
   "metadata": {
    "vscode": {
     "languageId": "rust"
    }
   },
   "outputs": [
    {
     "name": "stdout",
     "output_type": "stream",
     "text": [
      "leaf parent = Some(Node { value: 5, parent: RefCell { value: (Weak) }, childredn: RefCell { value: [Node { value: 3, parent: RefCell { value: (Weak) }, childredn: RefCell { value: [] } }] } })\n"
     ]
    }
   ],
   "source": [
    "println!(\"leaf parent = {:?}\", leaf.parent.borrow().upgrade());\n"
   ]
  },
  {
   "cell_type": "code",
   "execution_count": 23,
   "metadata": {
    "vscode": {
     "languageId": "rust"
    }
   },
   "outputs": [
    {
     "name": "stdout",
     "output_type": "stream",
     "text": [
      "leaf parent = (Weak)\n"
     ]
    }
   ],
   "source": [
    "println!(\"leaf parent = {:?}\", leaf.parent.borrow());"
   ]
  },
  {
   "cell_type": "code",
   "execution_count": 25,
   "metadata": {
    "vscode": {
     "languageId": "rust"
    }
   },
   "outputs": [
    {
     "name": "stdout",
     "output_type": "stream",
     "text": [
      "leaf strong = 1, weak = 0\n"
     ]
    }
   ],
   "source": [
    "let leaf = Rc::new(Node {\n",
    "  value: 3,\n",
    "  parent: RefCell::new(Weak::new()),\n",
    "  childredn: RefCell::new(vec![]),\n",
    "});\n",
    "\n",
    "println!(\n",
    "  \"leaf strong = {}, weak = {}\",\n",
    "  Rc::strong_count(&leaf),\n",
    "  Rc::weak_count(&leaf),\n",
    ");"
   ]
  },
  {
   "cell_type": "code",
   "execution_count": 26,
   "metadata": {
    "vscode": {
     "languageId": "rust"
    }
   },
   "outputs": [
    {
     "name": "stdout",
     "output_type": "stream",
     "text": [
      "branch strong = 1, weak = 1\n",
      "leaf strong = 2, weak = 0\n"
     ]
    },
    {
     "data": {
      "text/plain": [
       "()"
      ]
     },
     "execution_count": 26,
     "metadata": {},
     "output_type": "execute_result"
    }
   ],
   "source": [
    "{\n",
    "  let branch = Rc::new(Node {\n",
    "    value: 5,\n",
    "    parent: RefCell::new(Weak::new()),\n",
    "    childredn: RefCell::new(vec![Rc::clone(&leaf)]),\n",
    "  });\n",
    "\n",
    "  *leaf.parent.borrow_mut() = Rc::downgrade(&branch);\n",
    "\n",
    "  println!(\n",
    "    \"branch strong = {}, weak = {}\",\n",
    "    Rc::strong_count(&branch),\n",
    "    Rc::weak_count(&branch),\n",
    "  );\n",
    "\n",
    "  println!(\n",
    "    \"leaf strong = {}, weak = {}\",\n",
    "    Rc::strong_count(&leaf),\n",
    "    Rc::weak_count(&leaf),\n",
    "  );\n",
    "}"
   ]
  },
  {
   "cell_type": "markdown",
   "metadata": {},
   "source": [
    "`branch` has been dropped due to scope even `branch` was referenced from `leaf`. As long as the reference is weak, Rust will drop the variable."
   ]
  },
  {
   "cell_type": "code",
   "execution_count": 27,
   "metadata": {
    "vscode": {
     "languageId": "rust"
    }
   },
   "outputs": [
    {
     "name": "stdout",
     "output_type": "stream",
     "text": [
      "leaf parent = None\n"
     ]
    }
   ],
   "source": [
    "println!(\"leaf parent = {:?}\", leaf.parent.borrow().upgrade());"
   ]
  },
  {
   "cell_type": "code",
   "execution_count": 28,
   "metadata": {
    "vscode": {
     "languageId": "rust"
    }
   },
   "outputs": [
    {
     "name": "stdout",
     "output_type": "stream",
     "text": [
      "leaf strong = 1, weak = 0\n"
     ]
    }
   ],
   "source": [
    "println!(\n",
    "  \"leaf strong = {}, weak = {}\",\n",
    "  Rc::strong_count(&leaf),\n",
    "  Rc::weak_count(&leaf),\n",
    ");"
   ]
  },
  {
   "cell_type": "code",
   "execution_count": null,
   "metadata": {
    "vscode": {
     "languageId": "rust"
    }
   },
   "outputs": [],
   "source": []
  }
 ],
 "metadata": {
  "kernelspec": {
   "display_name": "Rust",
   "language": "rust",
   "name": "rust"
  },
  "language_info": {
   "codemirror_mode": "rust",
   "file_extension": ".rs",
   "mimetype": "text/rust",
   "name": "Rust",
   "pygment_lexer": "rust",
   "version": ""
  },
  "orig_nbformat": 4
 },
 "nbformat": 4,
 "nbformat_minor": 2
}
