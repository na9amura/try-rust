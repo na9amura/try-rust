{
    "cells": [
        {
            "cell_type": "markdown",
            "source": [
                "# Generics, Trait, Lifetime"
            ],
            "metadata": {}
        },
        {
            "cell_type": "code",
            "execution_count": 9,
            "source": [
                "{\n",
                "  let number_list = vec![34, 50, 25, 100, 65];\n",
                "  let mut largest = number_list[0];\n",
                "\n",
                "  for number in number_list {\n",
                "    if number > largest {\n",
                "      largest = number;\n",
                "    }\n",
                "  }\n",
                "\n",
                "  println!(\"The largest number is {}\", largest);\n",
                "}"
            ],
            "outputs": [
                {
                    "output_type": "stream",
                    "name": "stdout",
                    "text": [
                        "The largest number is 100\n"
                    ]
                },
                {
                    "output_type": "execute_result",
                    "data": {
                        "text/plain": [
                            "()"
                        ]
                    },
                    "metadata": {},
                    "execution_count": 9
                }
            ],
            "metadata": {}
        },
        {
            "cell_type": "markdown",
            "source": [
                "We should extract as function when we use sevral times"
            ],
            "metadata": {}
        },
        {
            "cell_type": "code",
            "execution_count": 2,
            "source": [
                "fn largest(list: &[i32]) -> i32 {\n",
                "  let mut largest = list[0];\n",
                "\n",
                "  for &item in list.iter() {\n",
                "    if item > largest {\n",
                "      largest = item;\n",
                "    }\n",
                "  }\n",
                "  largest\n",
                "}\n",
                "\n",
                "let number_list = vec![34, 50, 25, 100, 65];\n",
                "let result = largest(&number_list);\n",
                "println!(\"The largest number is {}\", result);\n",
                "\n",
                "let number_list = vec![102, 34, 6000, 89, 54, 2, 43, 8];\n",
                "let result = largest(&number_list);\n",
                "println!(\"The largest number is {}\", result);"
            ],
            "outputs": [
                {
                    "output_type": "stream",
                    "name": "stdout",
                    "text": [
                        "The largest number is 100\n",
                        "The largest number is 6000\n"
                    ]
                }
            ],
            "metadata": {}
        },
        {
            "cell_type": "markdown",
            "source": [
                "We can treat list with different types by generics"
            ],
            "metadata": {}
        },
        {
            "cell_type": "code",
            "execution_count": 3,
            "source": [
                "fn largest<T>(list: &[T]) -> T {\n",
                "  let mut largest = list[0];\n",
                "\n",
                "  for &item in list.iter() {\n",
                "    if item > largest {\n",
                "      largest = item;\n",
                "    }\n",
                "  }\n",
                "  largest\n",
                "}"
            ],
            "outputs": [
                {
                    "output_type": "error",
                    "ename": "Error",
                    "evalue": "binary operation `>` cannot be applied to type `T`",
                    "traceback": [
                        "    if item > largest {",
                        "       ^^^^ T",
                        "    if item > largest {",
                        "              ^^^^^^^ T",
                        "    if item > largest {",
                        "            ^ ",
                        "binary operation `>` cannot be applied to type `T`",
                        "help: consider restricting type parameter `T`\n\n: std::cmp::PartialOrd"
                    ]
                }
            ],
            "metadata": {}
        },
        {
            "cell_type": "markdown",
            "source": [
                "But we can't use `>` for every type. We need to ensure the `T` can receive `>`. To ensure that, we cau use `std::cmp::PartialOrd` trait."
            ],
            "metadata": {}
        },
        {
            "cell_type": "markdown",
            "source": [
                "## Generics with struct"
            ],
            "metadata": {}
        },
        {
            "cell_type": "code",
            "execution_count": 7,
            "source": [
                "#[derive(Debug)]\n",
                "struct Point<T> {\n",
                "  x: T,\n",
                "  y: T,\n",
                "}"
            ],
            "outputs": [],
            "metadata": {}
        },
        {
            "cell_type": "code",
            "execution_count": 8,
            "source": [
                "// integer\n",
                "Point { x: 5, y: 10 }"
            ],
            "outputs": [
                {
                    "output_type": "execute_result",
                    "data": {
                        "text/plain": [
                            "Point { x: 5, y: 10 }"
                        ]
                    },
                    "metadata": {},
                    "execution_count": 8
                }
            ],
            "metadata": {}
        },
        {
            "cell_type": "code",
            "execution_count": 10,
            "source": [
                "// floar\n",
                "Point { x: 1.0, y: 4.0 }"
            ],
            "outputs": [
                {
                    "output_type": "execute_result",
                    "data": {
                        "text/plain": [
                            "Point { x: 1.0, y: 4.0 }"
                        ]
                    },
                    "metadata": {},
                    "execution_count": 10
                }
            ],
            "metadata": {}
        },
        {
            "cell_type": "code",
            "execution_count": 11,
            "source": [
                "// we can't indicate different typed set\n",
                "Point { x: 5, y: 4.0 }"
            ],
            "outputs": [
                {
                    "output_type": "error",
                    "ename": "Error",
                    "evalue": "mismatched types",
                    "traceback": [
                        "Point { x: 5, y: 4.0 }",
                        "                 ^^^ expected integer, found floating-point number",
                        "mismatched types"
                    ]
                }
            ],
            "metadata": {}
        },
        {
            "cell_type": "markdown",
            "source": [
                "We can set differnet types if we treat multiple generics"
            ],
            "metadata": {}
        },
        {
            "cell_type": "code",
            "execution_count": 12,
            "source": [
                "#[derive(Debug)]\n",
                "struct Point<T, U> {\n",
                "  x: T,\n",
                "  y: U,\n",
                "}"
            ],
            "outputs": [],
            "metadata": {}
        },
        {
            "cell_type": "code",
            "execution_count": 13,
            "source": [
                "Point { x: 4, y: 3.0 }"
            ],
            "outputs": [
                {
                    "output_type": "execute_result",
                    "data": {
                        "text/plain": [
                            "Point { x: 4, y: 3.0 }"
                        ]
                    },
                    "metadata": {},
                    "execution_count": 13
                }
            ],
            "metadata": {}
        },
        {
            "cell_type": "markdown",
            "source": [
                "## Generics with enum\n",
                "\n",
                "Like Option<T>, Result<T, E> "
            ],
            "metadata": {}
        },
        {
            "cell_type": "markdown",
            "source": [
                "## Generics with method definitioin"
            ],
            "metadata": {}
        },
        {
            "cell_type": "code",
            "execution_count": 14,
            "source": [
                "#[derive(Debug)]\n",
                "struct Point<T> {\n",
                "  x: T,\n",
                "  y: T,\n",
                "}"
            ],
            "outputs": [],
            "metadata": {}
        },
        {
            "cell_type": "code",
            "execution_count": 15,
            "source": [
                "impl<T> Point<T> {\n",
                "  fn x(&self) -> &T {\n",
                "    &self.x\n",
                "  }\n",
                "}"
            ],
            "outputs": [],
            "metadata": {}
        },
        {
            "cell_type": "code",
            "execution_count": 17,
            "source": [
                "let p = Point { x: 5, y: 10 };\n",
                "p.x"
            ],
            "outputs": [
                {
                    "output_type": "execute_result",
                    "data": {
                        "text/plain": [
                            "5"
                        ]
                    },
                    "metadata": {},
                    "execution_count": 17
                }
            ],
            "metadata": {}
        },
        {
            "cell_type": "markdown",
            "source": [
                "`impl<T> Point<T>` represents `<T>` in `Point<T>` is generic type. We can concrete type in `impl Point<...>`. "
            ],
            "metadata": {}
        },
        {
            "cell_type": "code",
            "execution_count": 18,
            "source": [
                "impl Point<f32> {\n",
                "  fn distance_from_origin(&self) -> f32 {\n",
                "    (self.x.powi(2) + self.y.powi(2)).sqrt()\n",
                "  }\n",
                "}"
            ],
            "outputs": [],
            "metadata": {}
        },
        {
            "cell_type": "code",
            "execution_count": 20,
            "source": [
                "let p = Point { x: 2.4, y: -3.5 };\n",
                "p.distance_from_origin()"
            ],
            "outputs": [
                {
                    "output_type": "execute_result",
                    "data": {
                        "text/plain": [
                            "4.243819"
                        ]
                    },
                    "metadata": {},
                    "execution_count": 20
                }
            ],
            "metadata": {}
        },
        {
            "cell_type": "code",
            "execution_count": 21,
            "source": [
                "let p = Point { x: 5, y: 10 };\n",
                "p.distance_from_origin()"
            ],
            "outputs": [
                {
                    "output_type": "error",
                    "ename": "Error",
                    "evalue": "no method named `distance_from_origin` found for struct `Point<{integer}>` in the current scope",
                    "traceback": [
                        "p.distance_from_origin()",
                        "  ^^^^^^^^^^^^^^^^^^^^ method not found in `Point<{integer}>`",
                        "no method named `distance_from_origin` found for struct `Point<{integer}>` in the current scope"
                    ]
                }
            ],
            "metadata": {}
        },
        {
            "cell_type": "code",
            "execution_count": 28,
            "source": [
                "#[derive(Debug)]\n",
                "struct Point2<T, U> {\n",
                "  x: T,\n",
                "  y: U,\n",
                "}"
            ],
            "outputs": [],
            "metadata": {}
        },
        {
            "cell_type": "code",
            "execution_count": null,
            "source": [
                "impl<T, U> Point2<T, U> {\n",
                "  fn mixup<V, W>(self, other: Point2<V, W>) -> Point2<T, W> {\n",
                "    Point2 {\n",
                "      x: self.x,\n",
                "      y: other.y,\n",
                "    }\n",
                "  }\n",
                "}"
            ],
            "outputs": [],
            "metadata": {}
        },
        {
            "cell_type": "code",
            "execution_count": 30,
            "source": [
                "let p1 = Point2 { x: 5, y: 10.4 };\n",
                "let p2 = Point2 { x: \"Hello\", y: 'c' };\n",
                "\n",
                "p1.mixup(p2)"
            ],
            "outputs": [
                {
                    "output_type": "execute_result",
                    "data": {
                        "text/plain": [
                            "Point2 { x: 5, y: 'c' }"
                        ]
                    },
                    "metadata": {},
                    "execution_count": 30
                }
            ],
            "metadata": {}
        },
        {
            "cell_type": "markdown",
            "source": [
                "## Performance of code with generics\n",
                "\n",
                "Rust does not require extra cost to run code with generics because Rust do **monomorphization** on compile. Rust replace generic type with actual type from code."
            ],
            "metadata": {}
        },
        {
            "cell_type": "markdown",
            "source": [
                "# Define trait"
            ],
            "metadata": {}
        },
        {
            "cell_type": "code",
            "execution_count": 2,
            "source": [
                "pub trait Summary {\n",
                "  fn summarize(&self) -> String;\n",
                "}"
            ],
            "outputs": [],
            "metadata": {}
        },
        {
            "cell_type": "code",
            "execution_count": 4,
            "source": [
                "pub struct NewsArticle {\n",
                "  pub headline: String,\n",
                "  pub location: String,\n",
                "  pub author: String,\n",
                "  pub content: String,\n",
                "}\n",
                "\n",
                "impl Summary for NewsArticle {\n",
                "  fn summarize(&self) -> String {\n",
                "    format!(\"{}, by {} ({})\", self.headline, self.author, self.location)\n",
                "  }\n",
                "}"
            ],
            "outputs": [],
            "metadata": {}
        },
        {
            "cell_type": "code",
            "execution_count": 6,
            "source": [
                "pub struct Tweet {\n",
                "  pub username: String,\n",
                "  pub content: String,\n",
                "  pub reply: bool,\n",
                "  pub retweet: bool,\n",
                "}\n",
                "\n",
                "impl Summary for Tweet {\n",
                "  fn summarize(&self) -> String {\n",
                "    format!(\"{}: {}\", self.username, self.content)\n",
                "  }\n",
                "}"
            ],
            "outputs": [],
            "metadata": {}
        },
        {
            "cell_type": "code",
            "execution_count": 7,
            "source": [
                "let tweet = Tweet {\n",
                "  username: String::from(\"horse_ebooks\"),\n",
                "  content: String::from(\"of course, as you probably already know, people\"),\n",
                "  reply: false,\n",
                "  retweet: false,\n",
                "};\n",
                "\n",
                "println!(\"1 new tweet: {}\", tweet.summarize());"
            ],
            "outputs": [
                {
                    "output_type": "stream",
                    "name": "stdout",
                    "text": [
                        "1 new tweet: horse_ebooks: of course, as you probably already know, people\n"
                    ]
                }
            ],
            "metadata": {}
        },
        {
            "cell_type": "markdown",
            "source": [
                "Add default implementation for trait"
            ],
            "metadata": {}
        },
        {
            "cell_type": "code",
            "execution_count": 8,
            "source": [
                "pub trait Summary {\n",
                "  fn summarize(&self) -> String {\n",
                "    String::from(\"(read more ...)\")\n",
                "  }\n",
                "}"
            ],
            "outputs": [],
            "metadata": {}
        },
        {
            "cell_type": "code",
            "execution_count": 15,
            "source": [
                "pub struct NewsArticle2 {\n",
                "  pub headline: String,\n",
                "  pub location: String,\n",
                "  pub author: String,\n",
                "  pub content: String,\n",
                "}\n",
                "\n",
                "impl Summary for NewsArticle2 { }\n"
            ],
            "outputs": [],
            "metadata": {}
        },
        {
            "cell_type": "code",
            "execution_count": 16,
            "source": [
                "let article = NewsArticle2 {\n",
                "  headline: String::from(\"Penguins win the Stanley Cup Championship!\"),\n",
                "  location: String::from(\"Pittsburgh, PA, USA\"),\n",
                "  author: String::from(\"Iceburgh\"),\n",
                "  content: String::from(\n",
                "      \"The Pittsburgh Penguins once again are the best \\\n",
                "        hockey team in the NHL.\",\n",
                "  ),\n",
                "};\n",
                "\n",
                "println!(\"New article available! {}\", article.summarize());"
            ],
            "outputs": [
                {
                    "output_type": "stream",
                    "name": "stdout",
                    "text": [
                        "New article available! (read more ...)\n"
                    ]
                }
            ],
            "metadata": {}
        },
        {
            "cell_type": "code",
            "execution_count": 23,
            "source": [
                "pub trait Summary2 {\n",
                "  fn summarize_author(&self) -> String;\n",
                "\n",
                "  fn summarize(&self) -> String {\n",
                "    format!(\"(read more from {} ...)\", self.summarize_author())\n",
                "  }\n",
                "}"
            ],
            "outputs": [],
            "metadata": {}
        },
        {
            "cell_type": "code",
            "execution_count": 26,
            "source": [
                "pub struct Tweet2 {\n",
                "  pub username: String,\n",
                "  pub content: String,\n",
                "  pub reply: bool,\n",
                "  pub retweet: bool,\n",
                "}\n",
                "\n",
                "impl Summary2 for Tweet2 {\n",
                "  fn summarize_author(&self) -> String {\n",
                "    format!(\"@{}\", self.username)\n",
                "  }\n",
                "}"
            ],
            "outputs": [],
            "metadata": {}
        },
        {
            "cell_type": "code",
            "execution_count": 27,
            "source": [
                "let tweet = Tweet2 {\n",
                "  username: String::from(\"horse_ebooks\"),\n",
                "  content: String::from(\"of course, as you probably already know, people\"),\n",
                "  reply: false,\n",
                "  retweet: false,\n",
                "};\n",
                "\n",
                "println!(\"1 new tweet: {}\", tweet.summarize());"
            ],
            "outputs": [
                {
                    "output_type": "stream",
                    "name": "stdout",
                    "text": [
                        "1 new tweet: (read more from @horse_ebooks ...)\n"
                    ]
                }
            ],
            "metadata": {}
        },
        {
            "cell_type": "markdown",
            "source": [
                "## Restrict arguments with trait"
            ],
            "metadata": {}
        },
        {
            "cell_type": "code",
            "execution_count": 29,
            "source": [
                "pub fn notify(item: &impl Summary2) {\n",
                "  println!(\"Breaking news! {}\", item.summarize())\n",
                "}"
            ],
            "outputs": [],
            "metadata": {}
        },
        {
            "cell_type": "code",
            "execution_count": 32,
            "source": [
                "notify(&tweet);"
            ],
            "outputs": [
                {
                    "output_type": "stream",
                    "name": "stdout",
                    "text": [
                        "Breaking news! (read more from @horse_ebooks ...)\n"
                    ]
                }
            ],
            "metadata": {}
        },
        {
            "cell_type": "code",
            "execution_count": 33,
            "source": [
                "notify(&String::from(\"hello\"));"
            ],
            "outputs": [
                {
                    "output_type": "error",
                    "ename": "Error",
                    "evalue": "the trait bound `String: Summary2` is not satisfied",
                    "traceback": [
                        "notify(&String::from(\"hello\"));",
                        "       ^^^^^^^^^^^^^^^^^^^^^^ the trait `Summary2` is not implemented for `String`",
                        "the trait bound `String: Summary2` is not satisfied"
                    ]
                }
            ],
            "metadata": {}
        },
        {
            "cell_type": "markdown",
            "source": [
                "We can write with `trait bound` syntax. It is useful when we use trait reference sevral times.\n",
                "\n",
                "```rs\n",
                "// not so useful\n",
                "fn notify<T: Summary2>(item: &T) {\n",
                "  println!(\"Breaking news! {}\", item.summarize())\n",
                "}\n",
                "\n",
                "// useful!\n",
                "fn notify<T: Summary2>(item1: &T, item2: &T) {\n",
                "  // ...\n",
                "}\n",
                "```"
            ],
            "metadata": {}
        },
        {
            "cell_type": "markdown",
            "source": [
                "We can require arguments to implement sevral traits.\n",
                "\n",
                "```rs\n",
                "pub fn notify(item: &(impl Summary + Display)) {\n",
                "  // ...\n",
                "```\n",
                "\n",
                "We can use trait bound syntax\n",
                "```rs\n",
                "pub fn notify<T: Summary + Display>(item: &T) {\n",
                "  // ...\n",
                "```"
            ],
            "metadata": {}
        },
        {
            "cell_type": "markdown",
            "source": [
                "We can write trait bound with `where` keyword\n",
                "\n",
                "```rs\n",
                "fn some_function<T, U>(t: &T, u: &U) -> i32\n",
                "    where T: Display + Clone,\n",
                "          U: Clone + Debug {\n",
                "```"
            ],
            "metadata": {}
        },
        {
            "cell_type": "markdown",
            "source": [
                "## Return type which implements trait"
            ],
            "metadata": {}
        },
        {
            "cell_type": "code",
            "execution_count": 34,
            "source": [
                "fn returns_summarizable () -> impl Summary {\n",
                "  Tweet {\n",
                "    username: String::from(\"horse_ebooks\"),\n",
                "    content: String::from(\n",
                "        \"of course, as you probably already know, people\",\n",
                "    ),\n",
                "    reply: false,\n",
                "    retweet: false,\n",
                "  }\n",
                "}"
            ],
            "outputs": [],
            "metadata": {}
        },
        {
            "cell_type": "code",
            "execution_count": 37,
            "source": [
                "returns_summarizable().summarize()"
            ],
            "outputs": [
                {
                    "output_type": "execute_result",
                    "data": {
                        "text/plain": [
                            "\"horse_ebooks: of course, as you probably already know, people\""
                        ]
                    },
                    "metadata": {},
                    "execution_count": 37
                }
            ],
            "metadata": {}
        },
        {
            "cell_type": "markdown",
            "source": [
                "Resetted here"
            ],
            "metadata": {}
        },
        {
            "cell_type": "code",
            "execution_count": 2,
            "source": [
                "pub trait Summary {\n",
                "  fn summarize_author(&self) -> String;\n",
                "\n",
                "  fn summarize(&self) -> String {\n",
                "    format!(\"(read more from {} ...)\", self.summarize_author())\n",
                "  }\n",
                "}"
            ],
            "outputs": [],
            "metadata": {}
        },
        {
            "cell_type": "code",
            "execution_count": 3,
            "source": [
                "pub struct Tweet {\n",
                "  pub username: String,\n",
                "  pub content: String,\n",
                "  pub reply: bool,\n",
                "  pub retweet: bool,\n",
                "}\n",
                "\n",
                "impl Summary for Tweet {\n",
                "  fn summarize_author(&self) -> String {\n",
                "    format!(\"@{}\", self.username)\n",
                "  }\n",
                "}"
            ],
            "outputs": [],
            "metadata": {}
        },
        {
            "cell_type": "code",
            "execution_count": 4,
            "source": [
                "pub struct NewsArticle {\n",
                "  pub headline: String,\n",
                "  pub location: String,\n",
                "  pub author: String,\n",
                "  pub content: String,\n",
                "}\n",
                "\n",
                "impl Summary for NewsArticle {\n",
                "  fn summarize_author(&self) -> String {\n",
                "    format!(\":{}\", self.author)\n",
                "  }\n",
                "}"
            ],
            "outputs": [],
            "metadata": {}
        },
        {
            "cell_type": "code",
            "execution_count": 5,
            "source": [
                "fn returns_summarizable (switch: bool) -> Box<dyn Summary> {\n",
                "  if switch {\n",
                "    Box::new(NewsArticle {\n",
                "      headline: String::from(\"Penguins win the Stanley Cup Championship!\"),\n",
                "      location: String::from(\"Pittsburgh, PA, USA\"),\n",
                "      author: String::from(\"Iceburgh\"),\n",
                "      content: String::from( \"The Pittsburgh Penguins once again are the best hockey team in the NHL.\"),\n",
                "    })\n",
                "  } else {\n",
                "    Box::new(Tweet {\n",
                "      username: String::from(\"horse_ebooks\"),\n",
                "      content: String::from(\"of course, as you probably already know, people\"),\n",
                "      reply: false,\n",
                "      retweet: false,\n",
                "    })\n",
                "  }\n",
                "}"
            ],
            "outputs": [],
            "metadata": {}
        },
        {
            "cell_type": "code",
            "execution_count": 20,
            "source": [
                "returns_summarizable(true).summarize()"
            ],
            "outputs": [
                {
                    "output_type": "execute_result",
                    "data": {
                        "text/plain": [
                            "\"(read more from :Iceburgh ...)\""
                        ]
                    },
                    "metadata": {},
                    "execution_count": 20
                }
            ],
            "metadata": {}
        },
        {
            "cell_type": "code",
            "execution_count": 21,
            "source": [
                "returns_summarizable(false).summarize()"
            ],
            "outputs": [
                {
                    "output_type": "execute_result",
                    "data": {
                        "text/plain": [
                            "\"(read more from @horse_ebooks ...)\""
                        ]
                    },
                    "metadata": {},
                    "execution_count": 21
                }
            ],
            "metadata": {}
        },
        {
            "cell_type": "markdown",
            "source": [
                "## ライフタイムで参照を検証する"
            ],
            "metadata": {}
        },
        {
            "cell_type": "code",
            "execution_count": 2,
            "source": [
                "{\n",
                "  let r;\n",
                "\n",
                "  {\n",
                "    let x = 5;\n",
                "    r = &x;\n",
                "  }\n",
                "\n",
                "  println!(\"r: {}\", r);\n",
                "}"
            ],
            "outputs": [
                {
                    "output_type": "error",
                    "ename": "Error",
                    "evalue": "`x` does not live long enough",
                    "traceback": [
                        "    r = &x;",
                        "        ^^ borrowed value does not live long enough",
                        "  }",
                        "  ^ `x` dropped here while still borrowed",
                        "  println!(\"r: {}\", r);",
                        "                    ^ borrow later used here",
                        "`x` does not live long enough"
                    ]
                }
            ],
            "metadata": {}
        },
        {
            "cell_type": "markdown",
            "source": [
                "### 関数のジェネリックなライフタイム"
            ],
            "metadata": {}
        },
        {
            "cell_type": "code",
            "execution_count": 3,
            "source": [
                "fn print() {\n",
                "  let string1 = String::from(\"abcd\");\n",
                "  let string2 = \"xyz\";\n",
                "\n",
                "  let result = longest(string1.as_str(), string2);\n",
                "  println!(\"The longest string is {}\", result);\n",
                "}"
            ],
            "outputs": [
                {
                    "output_type": "error",
                    "ename": "Error",
                    "evalue": "cannot find function `longest` in this scope",
                    "traceback": [
                        "  let result = longest(string1.as_str(), string2);",
                        "               ^^^^^^^ not found in this scope",
                        "cannot find function `longest` in this scope"
                    ]
                }
            ],
            "metadata": {}
        },
        {
            "cell_type": "code",
            "execution_count": 5,
            "source": [
                "fn longest(x: &str, y: &str) -> &str {\n",
                "  if x.len() > y.len() {\n",
                "    x\n",
                "  } else {\n",
                "    y\n",
                "  }\n",
                "}"
            ],
            "outputs": [
                {
                    "output_type": "error",
                    "ename": "Error",
                    "evalue": "missing lifetime specifier",
                    "traceback": [
                        "fn longest(x: &str, y: &str) -> &str {",
                        "              ^^^^ ",
                        "fn longest(x: &str, y: &str) -> &str {",
                        "                       ^^^^ ",
                        "fn longest(x: &str, y: &str) -> &str {",
                        "                                ^ expected named lifetime parameter",
                        "missing lifetime specifier",
                        "help: this function's return type contains a borrowed value, but the signature does not say whether it is borrowed from `x` or `y`",
                        "help: consider introducing a named lifetime parameter\n\n<'a>"
                    ]
                }
            ],
            "metadata": {}
        },
        {
            "cell_type": "markdown",
            "source": [
                "### ライフタイム注釈記法"
            ],
            "metadata": {}
        },
        {
            "cell_type": "code",
            "execution_count": null,
            "source": [
                "&i32        // a reference\n",
                "&'a i32     // a reference with an explicit lifetime\n",
                "&'a mut i32 // a mutable reference with an explicit lifetime"
            ],
            "outputs": [],
            "metadata": {}
        },
        {
            "cell_type": "code",
            "execution_count": 7,
            "source": [
                "fn longest<'a>(x: &'a str, y: &'a str) -> &'a str {\n",
                "  if x.len() > y.len() {\n",
                "    x\n",
                "  } else {\n",
                "    y\n",
                "  }\n",
                "}"
            ],
            "outputs": [],
            "metadata": {}
        },
        {
            "cell_type": "code",
            "execution_count": 8,
            "source": [
                "fn print() {\n",
                "  let string1 = String::from(\"abcd\");\n",
                "  let string2 = \"xyz\";\n",
                "\n",
                "  let result = longest(string1.as_str(), string2);\n",
                "  println!(\"The longest string is {}\", result);\n",
                "}\n",
                "\n",
                "print()"
            ],
            "outputs": [
                {
                    "output_type": "stream",
                    "name": "stdout",
                    "text": [
                        "The longest string is abcd\n"
                    ]
                },
                {
                    "output_type": "execute_result",
                    "data": {
                        "text/plain": [
                            "()"
                        ]
                    },
                    "metadata": {},
                    "execution_count": 8
                }
            ],
            "metadata": {}
        },
        {
            "cell_type": "code",
            "execution_count": 11,
            "source": [
                "fn print() {\n",
                "  let string1 = String::from(\"abcd\");\n",
                "\n",
                "  {\n",
                "    // let string2 = \"xyz\";\n",
                "    let string2 = String::from(\"xyz\");\n",
                "    let result = longest(string1.as_str(), string2.as_str());\n",
                "    println!(\"The longest string is {}\", result);\n",
                "  }\n",
                "}\n",
                "\n",
                "print()"
            ],
            "outputs": [
                {
                    "output_type": "stream",
                    "name": "stdout",
                    "text": [
                        "The longest string is abcd\n"
                    ]
                },
                {
                    "output_type": "execute_result",
                    "data": {
                        "text/plain": [
                            "()"
                        ]
                    },
                    "metadata": {},
                    "execution_count": 11
                }
            ],
            "metadata": {}
        },
        {
            "cell_type": "markdown",
            "source": [
                "```rs\n",
                "fn print() {\n",
                "  | let string1 = String::from(\"abcd\");\n",
                "  |\n",
                "  | {\n",
                "  |  | let string2 = String::from(\"xyz\");\n",
                "  |  | | let result = longest(string1.as_str(), string2.as_str());\n",
                "  |  | | println!(\"The longest string is {}\", result);\n",
                "  |}\n",
                "  |\n",
                "}\n",
                "\n",
                "print()\n",
                "```"
            ],
            "metadata": {}
        },
        {
            "cell_type": "code",
            "execution_count": 14,
            "source": [
                "fn print() {\n",
                "  let string1 = String::from(\"abcd\");\n",
                "  let result;\n",
                "\n",
                "  {\n",
                "    let string2 = String::from(\"xyz\");\n",
                "    result = longest(string1.as_str(), string2.as_str());\n",
                "  }\n",
                "  println!(\"The longest string is {}\", result);\n",
                "}\n",
                "\n",
                "print()"
            ],
            "outputs": [
                {
                    "output_type": "error",
                    "ename": "Error",
                    "evalue": "`string2` does not live long enough",
                    "traceback": [
                        "    result = longest(string1.as_str(), string2.as_str());",
                        "                                       ^^^^^^^ borrowed value does not live long enough",
                        "  }",
                        "  ^ `string2` dropped here while still borrowed",
                        "  println!(\"The longest string is {}\", result);",
                        "                                       ^^^^^^ borrow later used here",
                        "`string2` does not live long enough"
                    ]
                }
            ],
            "metadata": {}
        },
        {
            "cell_type": "markdown",
            "source": [
                "### 構造体定義のライフタイム注釈"
            ],
            "metadata": {}
        },
        {
            "cell_type": "code",
            "execution_count": 18,
            "source": [
                "#[derive(Debug)]\n",
                "struct ImportantExcerpt<'a> {\n",
                "  part: &'a str,\n",
                "}"
            ],
            "outputs": [],
            "metadata": {}
        },
        {
            "cell_type": "code",
            "execution_count": 23,
            "source": [
                "fn call () {\n",
                "  let novel = String::from(\"Call me Ishmael. Some years ago ...\");\n",
                "  let first_sentence = novel.split('.').next().expect(\"Could not find a '.'\");\n",
                "\n",
                "  let i = ImportantExcerpt { part: first_sentence };\n",
                "  println!(\"{:#?}\", i);\n",
                "}\n",
                "\n",
                "call();"
            ],
            "outputs": [
                {
                    "output_type": "stream",
                    "name": "stdout",
                    "text": [
                        "ImportantExcerpt {\n",
                        "    part: \"Call me Ishmael\",\n",
                        "}\n"
                    ]
                }
            ],
            "metadata": {}
        },
        {
            "cell_type": "markdown",
            "source": [
                "### ライフタイム省略"
            ],
            "metadata": {}
        },
        {
            "cell_type": "code",
            "execution_count": null,
            "source": [
                "fn first_word(s: &str) -> &str {\n",
                "  let bytes = s.as_bytes();\n",
                "\n",
                "  for (i, &item) in bytes.iter().enumerate() {\n",
                "      if item == b' ' {\n",
                "          return &s[0..i];\n",
                "      }\n",
                "  }\n",
                "\n",
                "  &s[..]\n",
                "}"
            ],
            "outputs": [],
            "metadata": {}
        },
        {
            "cell_type": "markdown",
            "source": [
                "### メソッド定義におけるライフタイム注釈"
            ],
            "metadata": {}
        },
        {
            "cell_type": "code",
            "execution_count": 24,
            "source": [
                "impl<'a> ImportantExcerpt<'a> {\n",
                "  fn level(&self) -> i32 {\n",
                "      3\n",
                "  }\n",
                "}"
            ],
            "outputs": [],
            "metadata": {}
        },
        {
            "cell_type": "code",
            "execution_count": 25,
            "source": [
                "impl<'a> ImportantExcerpt<'a> {\n",
                "  fn announce_and_return_part(&self, announcement: &str) -> &str {\n",
                "      println!(\"Attention please: {}\", announcement);\n",
                "      self.part\n",
                "  }\n",
                "}"
            ],
            "outputs": [],
            "metadata": {}
        },
        {
            "cell_type": "code",
            "execution_count": 27,
            "source": [
                "impl<'a> ImportantExcerpt<'a> {\n",
                "  fn announce_and_return_part2(&self, announcement: &str) -> &str {\n",
                "      println!(\"Attention please: {}\", announcement);\n",
                "      announcement\n",
                "  }\n",
                "}"
            ],
            "outputs": [
                {
                    "output_type": "error",
                    "ename": "Error",
                    "evalue": "lifetime mismatch",
                    "traceback": [
                        "  fn announce_and_return_part2(&self, announcement: &str) -> &str {",
                        "                                                    ^^^^ this parameter and the return type are declared with different lifetimes...",
                        "  fn announce_and_return_part2(&self, announcement: &str) -> &str {",
                        "                                                             ^^^^ ",
                        "      announcement",
                        "      ^^^^^^^^^^^^ ...but data from `announcement` is returned here",
                        "lifetime mismatch"
                    ]
                }
            ],
            "metadata": {}
        },
        {
            "cell_type": "code",
            "execution_count": 30,
            "source": [
                "impl<'a> ImportantExcerpt<'a> {\n",
                "  fn announce_and_return_part2<'b>(&self, announcement: &'b str) -> &'b str {\n",
                "      println!(\"Attention please: {}\", announcement);\n",
                "      announcement\n",
                "  }\n",
                "}"
            ],
            "outputs": [],
            "metadata": {}
        },
        {
            "cell_type": "code",
            "execution_count": 31,
            "source": [
                "use std::fmt::Display;\n",
                "\n",
                "fn longest_with_an_announcement<T, 'a>(x: &'a str, y: &'a str, ann: T) -> &'a str\n",
                "    where T: Display\n",
                "{\n",
                "    // アナウンス！\n",
                "    println!(\"Announcement! {}\", ann);\n",
                "    if x.len() > y.len() {\n",
                "        x\n",
                "    } else {\n",
                "        y\n",
                "    }\n",
                "}"
            ],
            "outputs": [
                {
                    "output_type": "error",
                    "ename": "Error",
                    "evalue": "lifetime parameters must be declared prior to type parameters",
                    "traceback": [
                        "fn longest_with_an_announcement<T, 'a>(x: &'a str, y: &'a str, ann: T) -> &'a str",
                        "                                   ^^ ",
                        "lifetime parameters must be declared prior to type parameters",
                        "help: reorder the parameters: lifetimes, then types\n\n<'a, T>"
                    ]
                }
            ],
            "metadata": {}
        },
        {
            "cell_type": "code",
            "execution_count": 32,
            "source": [
                "use std::fmt::Display;\n",
                "\n",
                "fn longest_with_an_announcement<'a, T>(x: &'a str, y: &'a str, ann: T) -> &'a str\n",
                "    where T: Display\n",
                "{\n",
                "    // アナウンス！\n",
                "    println!(\"Announcement! {}\", ann);\n",
                "    if x.len() > y.len() {\n",
                "        x\n",
                "    } else {\n",
                "        y\n",
                "    }\n",
                "}"
            ],
            "outputs": [],
            "metadata": {}
        },
        {
            "cell_type": "code",
            "execution_count": null,
            "source": [],
            "outputs": [],
            "metadata": {}
        }
    ],
    "metadata": {
        "orig_nbformat": 4,
        "language_info": {
            "name": "rust",
            "version": "",
            "mimetype": "text/rust",
            "file_extension": ".rs",
            "pygment_lexer": "rust",
            "codemirror_mode": "rust"
        },
        "kernelspec": {
            "name": "rust",
            "display_name": "Rust",
            "language": "rust"
        }
    },
    "nbformat": 4,
    "nbformat_minor": 2
}