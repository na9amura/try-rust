{
 "cells": [
  {
   "cell_type": "markdown",
   "metadata": {},
   "source": [
    "You can use `cargo run` instead of \n",
    "`cargo build` -> `./hello` .\n",
    "\n",
    "You can check only comilable or not by `cargo check`.\n",
    "\n",
    "You can make release build by `cargo build --release`. It costs build time but run faster.\n"
   ]
  },
  {
   "cell_type": "code",
   "execution_count": 2,
   "metadata": {},
   "outputs": [],
   "source": [
    "main () {\n",
    "  println!(\"hello!\");\n",
    "}"
   ]
  },
  {
   "cell_type": "markdown",
   "metadata": {},
   "source": [
    "# SS2: Programming a Guessing Game\n",
    "`cargo new guessing_game --bin`\n"
   ]
  },
  {
   "cell_type": "code",
   "execution_count": null,
   "metadata": {},
   "outputs": [],
   "source": [
    "extern crate rand;\n",
    "\n",
    "use std::io;\n",
    "use rand::Rng;\n",
    "\n",
    "let secret_number = rand::thread_rng().gen_range(1, 101);"
   ]
  },
  {
   "cell_type": "markdown",
   "metadata": {},
   "source": [
    "## random\n",
    "`rand::thread_rng()` returns ThreadRng. ThreadRng implements Rng. Rng requires gen_range function.\n",
    "\n",
    "I guess `use rand::Rng;` is required to tell compiler? "
   ]
  },
  {
   "cell_type": "markdown",
   "metadata": {},
   "source": [
    "## compare"
   ]
  },
  {
   "cell_type": "code",
   "execution_count": null,
   "metadata": {},
   "outputs": [],
   "source": [
    "    let mut guess = String::new();\n",
    "    io::stdin()\n",
    "        .read_line(&mut guess)\n",
    "        .expect(\"Failed to read line\");\n",
    "\n",
    "    let guess: u32 = guess.trim().parse()\n",
    "        .expect(\"Please type a number!\");"
   ]
  },
  {
   "cell_type": "markdown",
   "metadata": {},
   "source": [
    "To compare input and random, we need to parse input value. `String#parse` converts the string to something. `let guess: u32 = ...` tell compiler that we want to convert string to u32."
   ]
  }
 ],
 "metadata": {
  "kernelspec": {
   "display_name": "Rust",
   "language": "rust",
   "name": "rust"
  },
  "language_info": {
   "codemirror_mode": "rust",
   "file_extension": ".rs",
   "mimetype": "text/rust",
   "name": "Rust",
   "pygment_lexer": "rust",
   "version": ""
  },
  "orig_nbformat": 2
 },
 "nbformat": 4,
 "nbformat_minor": 2
}