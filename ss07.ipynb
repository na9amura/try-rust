{
 "cells": [
  {
   "cell_type": "code",
   "execution_count": 3,
   "metadata": {},
   "outputs": [
    {
     "ename": "Error",
     "evalue": "module `hosting` is private",
     "output_type": "error",
     "traceback": [
      "    crate::front_of_house::hosting::add_to_waitlist();",
      "                           ^^^^^^^ private module",
      "module `hosting` is private"
     ]
    },
    {
     "ename": "Error",
     "evalue": "module `hosting` is private",
     "output_type": "error",
     "traceback": [
      "    front_of_house::hosting::add_to_waitlist();",
      "                    ^^^^^^^ private module",
      "module `hosting` is private"
     ]
    }
   ],
   "source": [
    "mod front_of_house {\n",
    "    mod hosting {\n",
    "        fn add_to_waitlist() {}\n",
    "\n",
    "        fn seat_at_table() {}\n",
    "    }\n",
    "\n",
    "    mod serving {\n",
    "        fn take_order() {}\n",
    "\n",
    "        fn serve_order() {}\n",
    "\n",
    "        fn take_payment() {}\n",
    "    }\n",
    "}\n",
    "\n",
    "pub fn eat_at_restaurant() {\n",
    "    // abs path\n",
    "    crate::front_of_house::hosting::add_to_waitlist();\n",
    "\n",
    "    // relative path\n",
    "    front_of_house::hosting::add_to_waitlist();\n",
    "}"
   ]
  },
  {
   "cell_type": "code",
   "execution_count": 4,
   "metadata": {},
   "outputs": [
    {
     "ename": "Error",
     "evalue": "function `add_to_waitlist` is private",
     "output_type": "error",
     "traceback": [
      "    crate::front_of_house::hosting::add_to_waitlist();",
      "                                    ^^^^^^^^^^^^^^^ private function",
      "function `add_to_waitlist` is private"
     ]
    },
    {
     "ename": "Error",
     "evalue": "function `add_to_waitlist` is private",
     "output_type": "error",
     "traceback": [
      "    front_of_house::hosting::add_to_waitlist();",
      "                             ^^^^^^^^^^^^^^^ private function",
      "function `add_to_waitlist` is private"
     ]
    }
   ],
   "source": [
    "mod front_of_house {\n",
    "    pub mod hosting {\n",
    "        fn add_to_waitlist() {}\n",
    "    }\n",
    "}\n",
    "\n",
    "pub fn eat_at_restaurant() {\n",
    "    // abs path\n",
    "    crate::front_of_house::hosting::add_to_waitlist();\n",
    "\n",
    "    // relative path\n",
    "    front_of_house::hosting::add_to_waitlist();\n",
    "}\n"
   ]
  },
  {
   "cell_type": "code",
   "execution_count": 5,
   "metadata": {},
   "outputs": [],
   "source": [
    "mod front_of_house {\n",
    "    pub mod hosting {\n",
    "        pub fn add_to_waitlist() {}\n",
    "    }\n",
    "}\n",
    "\n",
    "pub fn eat_at_restaurant() {\n",
    "    // abs path\n",
    "    crate::front_of_house::hosting::add_to_waitlist();\n",
    "\n",
    "    // relative path\n",
    "    front_of_house::hosting::add_to_waitlist();\n",
    "}\n"
   ]
  },
  {
   "cell_type": "code",
   "execution_count": 7,
   "metadata": {},
   "outputs": [],
   "source": [
    "fn serve_order() {}\n",
    "\n",
    "mod back_of_house {\n",
    "    fn fix_incorrect_order() {\n",
    "        cook_order();\n",
    "        super::serve_order();\n",
    "    }\n",
    "\n",
    "    fn cook_order() {}\n",
    "}\n"
   ]
  },
  {
   "cell_type": "code",
   "execution_count": 12,
   "metadata": {},
   "outputs": [
    {
     "name": "stdout",
     "output_type": "stream",
     "text": [
      "I'd like Wheat toast please\n"
     ]
    }
   ],
   "source": [
    "mod back_of_house {\n",
    "    pub struct Breakfast {\n",
    "        pub toast: String,\n",
    "        seasonal_fruit: String,\n",
    "    }\n",
    "\n",
    "    impl Breakfast {\n",
    "        pub fn summer(toast: &str) -> Breakfast {\n",
    "            Breakfast {\n",
    "                toast: String::from(toast),\n",
    "                seasonal_fruit: String::from(\"peaches\"),\n",
    "            }\n",
    "        }\n",
    "    }\n",
    "}\n",
    "\n",
    "pub fn eat_at_restaurant() {\n",
    "    let mut meal = back_of_house::Breakfast::summer(\"Rye\");\n",
    "    meal.toast = String::from(\"Wheat\");\n",
    "    println!(\"I'd like {} toast please\", meal.toast);\n",
    "}\n",
    "\n",
    "eat_at_restaurant();"
   ]
  },
  {
   "cell_type": "code",
   "execution_count": 13,
   "metadata": {},
   "outputs": [],
   "source": [
    "mod back_of_house {\n",
    "    pub enum Appetizer {\n",
    "        Soup,\n",
    "        Salad,\n",
    "    }\n",
    "}\n",
    "\n",
    "pub fn eat_at_restaurant() {\n",
    "    // we can access bariants of enum without `pub` keyword\n",
    "    let order1 = back_of_house::Appetizer::Soup;\n",
    "    let order2 = back_of_house::Appetizer::Salad;\n",
    "}"
   ]
  },
  {
   "cell_type": "code",
   "execution_count": 14,
   "metadata": {},
   "outputs": [],
   "source": [
    "mod front_of_house {\n",
    "    pub mod hosting {\n",
    "        pub fn add_to_waitlist() {}\n",
    "    }\n",
    "}\n",
    "\n",
    "use crate::front_of_house::hosting;\n",
    "\n",
    "pub fn eat_at_restaurant() {\n",
    "    hosting::add_to_waitlist();\n",
    "    hosting::add_to_waitlist();\n",
    "}"
   ]
  },
  {
   "cell_type": "code",
   "execution_count": 15,
   "metadata": {},
   "outputs": [],
   "source": [
    "mod front_of_house {\n",
    "    pub mod hosting {\n",
    "        pub fn add_to_waitlist() {}\n",
    "    }\n",
    "}\n",
    "\n",
    "// also we can import with relative path\n",
    "use self::front_of_house::hosting;\n",
    "\n",
    "pub fn eat_at_restaurant() {\n",
    "    hosting::add_to_waitlist();\n",
    "    hosting::add_to_waitlist();\n",
    "}"
   ]
  },
  {
   "cell_type": "code",
   "execution_count": 16,
   "metadata": {},
   "outputs": [],
   "source": [
    "// uncommon `use` style.\n",
    "// usually rustician do not import function itself\n",
    "mod front_of_house {\n",
    "    pub mod hosting {\n",
    "        pub fn add_to_waitlist() {}\n",
    "    }\n",
    "}\n",
    "\n",
    "use crate::front_of_house::hosting::add_to_waitlist;\n",
    "\n",
    "pub fn eat_at_restaurant() {\n",
    "    add_to_waitlist();\n",
    "    add_to_waitlist();\n",
    "    add_to_waitlist();\n",
    "}\n"
   ]
  },
  {
   "cell_type": "code",
   "execution_count": 19,
   "metadata": {},
   "outputs": [],
   "source": [
    "// we must import module if struct name were same\n",
    "use std::fmt;\n",
    "use std::io;\n",
    "\n",
    "fn function1() -> fmt::Result {\n",
    "    // --snip--\n",
    "    // （略）\n",
    "    Ok(())\n",
    "}\n",
    "\n",
    "fn function2() -> io::Result<()> {\n",
    "    // --snip--\n",
    "    // （略）\n",
    "    Ok(())\n",
    "}\n"
   ]
  },
  {
   "cell_type": "code",
   "execution_count": 18,
   "metadata": {},
   "outputs": [],
   "source": [
    "// Also we can import with alias\n",
    "use std::fmt::Result;\n",
    "use std::io::Result as IoResult;\n",
    "\n",
    "fn function1() -> Result {\n",
    "    // --snip--\n",
    "    Ok(())\n",
    "}\n",
    "\n",
    "fn function2() -> IoResult<()> {\n",
    "    // --snip--\n",
    "    Ok(())\n",
    "}\n"
   ]
  },
  {
   "cell_type": "code",
   "execution_count": 20,
   "metadata": {},
   "outputs": [],
   "source": [
    "// `pub use` make imported module public\n",
    "\n",
    "mod front_of_house {\n",
    "    pub mod hosting {\n",
    "        pub fn add_to_waitlist() {}\n",
    "    }\n",
    "}\n",
    "\n",
    "pub use crate::front_of_house::hosting;\n",
    "\n",
    "pub fn eat_at_restaurant() {\n",
    "    hosting::add_to_waitlist();\n",
    "    hosting::add_to_waitlist();\n",
    "}\n",
    "\n"
   ]
  },
  {
   "cell_type": "code",
   "execution_count": 3,
   "metadata": {},
   "outputs": [],
   "source": [
    ":dep rand = \"0.5.5\""
   ]
  },
  {
   "cell_type": "code",
   "execution_count": 5,
   "metadata": {},
   "outputs": [
    {
     "name": "stdout",
     "output_type": "stream",
     "text": [
      "49\n"
     ]
    }
   ],
   "source": [
    "use rand::Rng;\n",
    "\n",
    "let secret_number = rand::thread_rng().gen_range(1, 101);\n",
    "println!(\"{}\", secret_number);\n"
   ]
  },
  {
   "cell_type": "code",
   "execution_count": null,
   "metadata": {},
   "outputs": [],
   "source": [
    "// clean up imports from same nest\n",
    "\n",
    "// use std::cmp::Ordering;\n",
    "// use std::id\n",
    "use std::{cmp::Ordering, io};\n",
    "\n",
    "// use std::io;\n",
    "// use std::io::Write;\n",
    "use std::{self, Write};\n"
   ]
  },
  {
   "cell_type": "code",
   "execution_count": null,
   "metadata": {},
   "outputs": [],
   "source": [
    "// glob\n",
    "use std::collections::*;"
   ]
  },
  {
   "cell_type": "markdown",
   "metadata": {},
   "source": []
  }
 ],
 "metadata": {
  "kernelspec": {
   "display_name": "Rust",
   "name": "rust"
  },
  "language_info": {
   "codemirror_mode": "rust",
   "file_extension": ".rs",
   "mimetype": "text/rust",
   "name": "Rust",
   "pygment_lexer": "rust",
   "version": ""
  },
  "orig_nbformat": 2
 },
 "nbformat": 4,
 "nbformat_minor": 2
}