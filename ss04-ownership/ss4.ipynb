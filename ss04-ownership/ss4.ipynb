{
 "cells": [
  {
   "cell_type": "markdown",
   "metadata": {},
   "source": [
    "## Ownershipe rules\n",
    "- Each value in Rust has a variable that’s called its owner.\n",
    "- There can only be one owner at a time.\n",
    "- When the owner goes out of scope, the value will be dropped."
   ]
  },
  {
   "cell_type": "code",
   "execution_count": 2,
   "metadata": {},
   "outputs": [
    {
     "name": "stdout",
     "output_type": "stream",
     "text": [
      "hello, world\n"
     ]
    }
   ],
   "source": [
    "let mut s = String::from(\"hello\");\n",
    "s.push_str(\", world\");\n",
    "println!(\"{}\", s);\n"
   ]
  },
  {
   "cell_type": "code",
   "execution_count": 2,
   "metadata": {},
   "outputs": [
    {
     "ename": "Error",
     "evalue": "cannot borrow `s` as mutable, as it is not declared as mutable",
     "output_type": "error",
     "traceback": [
      "s.push_str(\", world\");",
      "^ cannot borrow as mutable",
      "cannot borrow `s` as mutable, as it is not declared as mutable",
      "help: consider changing this to be mutable\n\nmut s"
     ]
    }
   ],
   "source": [
    "let s = String::from(\"hello\");\n",
    "s.push_str(\", world\");\n",
    "println!(\"{}\", s);\n"
   ]
  },
  {
   "cell_type": "code",
   "execution_count": 3,
   "metadata": {},
   "outputs": [
    {
     "ename": "Error",
     "evalue": "no method named `push_str` found for reference `&str` in the current scope",
     "output_type": "error",
     "traceback": [
      "s.push_str(\", world\");",
      "  ^^^^^^^^ method not found in `&str`",
      "no method named `push_str` found for reference `&str` in the current scope"
     ]
    }
   ],
   "source": [
    "let mut s = \"hello\";\n",
    "s.push_str(\", world\");\n",
    "println!(\"{}\", s);"
   ]
  },
  {
   "cell_type": "code",
   "execution_count": 2,
   "metadata": {},
   "outputs": [
    {
     "ename": "Error",
     "evalue": "cannot find value `s` in this scope",
     "output_type": "error",
     "traceback": [
      "println!(\"{}\", s);",
      "               ^ not found in this scope",
      "cannot find value `s` in this scope"
     ]
    }
   ],
   "source": [
    "{\n",
    "    let s = String::from(\"hello\");\n",
    "} // rust invoke `drop` function automatically here.   \n",
    "println!(\"{}\", s);"
   ]
  },
  {
   "cell_type": "markdown",
   "metadata": {},
   "source": [
    "```\n",
    "String {\n",
    "    ptr: Heap\n",
    "    len: number\n",
    "    capacity: number\n",
    "}\n",
    "```\n",
    "\n",
    "```\n",
    "let s1 = String::from(\"hello\");\n",
    "let s2 = s1;\n",
    "```\n",
    "\n",
    "s1 and s2 do not share len and capacity, but share ptr.\n"
   ]
  },
  {
   "cell_type": "code",
   "execution_count": 3,
   "metadata": {},
   "outputs": [
    {
     "ename": "Error",
     "evalue": "borrow of moved value: `s1`",
     "output_type": "error",
     "traceback": [
      "let s2 = s1;",
      "         ^^ value moved here",
      "println!(\"{}, world!\", s1);",
      "                       ^^ value borrowed here after move",
      "let s1 = String::from(\"hello\");",
      "    ^^ move occurs because `s1` has type `String`, which does not implement the `Copy` trait",
      "borrow of moved value: `s1`"
     ]
    }
   ],
   "source": [
    "let s1 = String::from(\"hello\");\n",
    "let s2 = s1;\n",
    "\n",
    "println!(\"{}, world!\", s1);"
   ]
  },
  {
   "cell_type": "code",
   "execution_count": 4,
   "metadata": {},
   "outputs": [
    {
     "name": "stdout",
     "output_type": "stream",
     "text": [
      "s1 = hello, s2 = hello\n"
     ]
    }
   ],
   "source": [
    "let s1 = String::from(\"hello\");\n",
    "let s2 = s1.clone();\n",
    "\n",
    "println!(\"s1 = {}, s2 = {}\", s1, s2);"
   ]
  },
  {
   "cell_type": "code",
   "execution_count": 6,
   "metadata": {},
   "outputs": [
    {
     "name": "stdout",
     "output_type": "stream",
     "text": [
      "x = 5, y = 5\n"
     ]
    }
   ],
   "source": [
    "let x = 5;\n",
    "let y = x;\n",
    "\n",
    "println!(\"x = {}, y = {}\", x, y);"
   ]
  },
  {
   "cell_type": "code",
   "execution_count": 2,
   "metadata": {},
   "outputs": [
    {
     "ename": "Error",
     "evalue": "borrow of moved value: `s`",
     "output_type": "error",
     "traceback": [
      "take_ownership(s); // moved",
      "               ^ value moved here",
      "println!(\"s = {}, x = {}\", s, x);",
      "                           ^ value borrowed here after move",
      "let s = String::from(\"hello\");",
      "    ^ move occurs because `s` has type `String`, which does not implement the `Copy` trait",
      "borrow of moved value: `s`"
     ]
    }
   ],
   "source": [
    "\n",
    "fn take_ownership (string: String) {\n",
    "    println!(\"{}\", string);\n",
    "} // call drop and release backing memory\n",
    "\n",
    "fn makes_copy(int: i32) {\n",
    "    println!(\"{}\", int);\n",
    "} // call drop but do nothoing\n",
    "\n",
    "let s = String::from(\"hello\");\n",
    "take_ownership(s); // moved\n",
    "\n",
    "let x = 5;\n",
    "makes_copy(x); // moved but still valid as x is `Copy`\n",
    "\n",
    "println!(\"s = {}, x = {}\", s, x);"
   ]
  },
  {
   "cell_type": "code",
   "execution_count": 4,
   "metadata": {},
   "outputs": [
    {
     "ename": "Error",
     "evalue": "borrow of moved value: `s2`",
     "output_type": "error",
     "traceback": [
      "let s3 = takes_and_gives_back(s2);",
      "                              ^^ value moved here",
      "println!(\"s1 = {}, s2 = {}, s3 = {}\", s1, s2, s3);",
      "                                          ^^ value borrowed here after move",
      "let s2 = String::from(\"hello\");",
      "    ^^ move occurs because `s2` has type `String`, which does not implement the `Copy` trait",
      "borrow of moved value: `s2`"
     ]
    }
   ],
   "source": [
    "fn gives_ownership () -> String {\n",
    "    let str = String::from(\"hello\");\n",
    "    str\n",
    "}\n",
    "\n",
    "fn takes_and_gives_back(str: String) -> String {\n",
    "    str\n",
    "}\n",
    "\n",
    "let s1 = gives_ownership();\n",
    "let s2 = String::from(\"hello\");\n",
    "let s3 = takes_and_gives_back(s2);\n",
    "\n",
    "println!(\"s1 = {}, s2 = {}, s3 = {}\", s1, s2, s3);\n"
   ]
  },
  {
   "cell_type": "code",
   "execution_count": 5,
   "metadata": {},
   "outputs": [
    {
     "name": "stdout",
     "output_type": "stream",
     "text": [
      "The length of 'hello' is 5.\n"
     ]
    }
   ],
   "source": [
    "fn calc_length (s: String) -> (String, usize) {\n",
    "    let length = s.len();\n",
    "    (s, length)\n",
    "}\n",
    "\n",
    "let s1 = String::from(\"hello\");\n",
    "let (s2, len) = calc_length(s1); // s1 will be move and drop\n",
    "println!(\"The length of '{}' is {}.\", s2, len); \n"
   ]
  },
  {
   "cell_type": "code",
   "execution_count": 7,
   "metadata": {},
   "outputs": [
    {
     "name": "stdout",
     "output_type": "stream",
     "text": [
      "The length of 'hello' is 5.\n"
     ]
    }
   ],
   "source": [
    "fn calc_length (s: &String) -> usize {\n",
    "    s.len()\n",
    "}\n",
    "\n",
    "let s1 = String::from(\"hello\");\n",
    "let len = calc_length(&s1);\n",
    "println!(\"The length of '{}' is {}.\", s1, len);"
   ]
  },
  {
   "cell_type": "code",
   "execution_count": 2,
   "metadata": {},
   "outputs": [
    {
     "ename": "Error",
     "evalue": "cannot borrow `*s` as mutable, as it is behind a `&` reference",
     "output_type": "error",
     "traceback": [
      "    s.push_str(\", world\");",
      "    ^ `s` is a `&` reference, so the data it refers to cannot be borrowed as mutable",
      "cannot borrow `*s` as mutable, as it is behind a `&` reference",
      "help: consider changing this to be a mutable reference\n\n&mut String"
     ]
    }
   ],
   "source": [
    "fn change (s: &String) {\n",
    "    s.push_str(\", world\");\n",
    "}\n",
    "let s = String::from(\"hello\");\n",
    "change(&s);"
   ]
  },
  {
   "cell_type": "code",
   "execution_count": 6,
   "metadata": {},
   "outputs": [
    {
     "name": "stdout",
     "output_type": "stream",
     "text": [
      "hello, world\n"
     ]
    }
   ],
   "source": [
    "fn change (s: &mut String) {\n",
    "    s.push_str(\", world\");\n",
    "}\n",
    "\n",
    "let mut s = String::from(\"hello\");\n",
    "change(&mut s);\n",
    "println!(\"{}\", s);"
   ]
  },
  {
   "cell_type": "code",
   "execution_count": 13,
   "metadata": {},
   "outputs": [
    {
     "ename": "Error",
     "evalue": "cannot borrow `s` as mutable more than once at a time",
     "output_type": "error",
     "traceback": [
      "    let a = &mut s;",
      "            ^^^^^^ first mutable borrow occurs here",
      "    let b = &mut s;",
      "            ^^^^^^ second mutable borrow occurs here",
      "    println!(\"{}, {}\", a, b);",
      "                       ^ first borrow later used here",
      "cannot borrow `s` as mutable more than once at a time"
     ]
    }
   ],
   "source": [
    "let mut s = String::from(\"hello\");\n",
    "\n",
    "{\n",
    "    let a = &mut s;\n",
    "    let b = &mut s;\n",
    "\n",
    "    println!(\"{}, {}\", a, b);\n",
    "}"
   ]
  },
  {
   "cell_type": "code",
   "execution_count": 12,
   "metadata": {},
   "outputs": [
    {
     "name": "stdout",
     "output_type": "stream",
     "text": [
      "a = hello\n",
      "b = hello\n"
     ]
    },
    {
     "data": {
      "text/plain": [
       "()"
      ]
     },
     "execution_count": 12,
     "metadata": {},
     "output_type": "execute_result"
    }
   ],
   "source": [
    "let mut s = String::from(\"hello\");\n",
    "\n",
    "{\n",
    "    {\n",
    "        let a = &mut s;\n",
    "        println!(\"a = {}\", a);\n",
    "    } // a becomes out of scope, then s is not borrowed by anyone.\n",
    "    let b = &mut s;\n",
    "\n",
    "    println!(\"b = {}\", b);\n",
    "}"
   ]
  },
  {
   "cell_type": "code",
   "execution_count": 3,
   "metadata": {},
   "outputs": [
    {
     "name": "stdout",
     "output_type": "stream",
     "text": [
      "hello, hello\n"
     ]
    },
    {
     "data": {
      "text/plain": "()"
     },
     "execution_count": 3,
     "metadata": {},
     "output_type": "execute_result"
    }
   ],
   "source": [
    "let mut s = String::from(\"hello\");\n",
    "\n",
    "{\n",
    "    let r1 = &s;\n",
    "    let r2 = &s;\n",
    "    println!(\"{}, {}\", r1, r2);\n",
    "}"
   ]
  },
  {
   "cell_type": "code",
   "execution_count": 15,
   "metadata": {},
   "outputs": [
    {
     "ename": "Error",
     "evalue": "cannot borrow `s` as mutable because it is also borrowed as immutable",
     "output_type": "error",
     "traceback": [
      "    let r3 = &mut s;",
      "             ^^^^^^ mutable borrow occurs here",
      "    let r1 = &s;",
      "             ^^ immutable borrow occurs here",
      "    println!(\"{}, {}, {}\", r1, r2, r3);",
      "                           ^^ immutable borrow later used here",
      "cannot borrow `s` as mutable because it is also borrowed as immutable"
     ]
    }
   ],
   "source": [
    "let mut s = String::from(\"hello\");\n",
    "\n",
    "{\n",
    "    let r1 = &s;\n",
    "    let r2 = &s;\n",
    "    let r3 = &mut s;\n",
    "    println!(\"{}, {}, {}\", r1, r2, r3);\n",
    "}"
   ]
  },
  {
   "cell_type": "code",
   "execution_count": 17,
   "metadata": {},
   "outputs": [
    {
     "ename": "Error",
     "evalue": "missing lifetime specifier",
     "output_type": "error",
     "traceback": [
      "fn dangle () -> &String {",
      "                ^ expected named lifetime parameter",
      "missing lifetime specifier",
      "help: this function's return type contains a borrowed value, but there is no value for it to be borrowed from",
      "help: consider using the `'static` lifetime\n\n&'static"
     ]
    }
   ],
   "source": [
    "fn dangle () -> &String {\n",
    "    let s = String::from(\"hello\");\n",
    "    &s\n",
    "} // `s` will be dropped\n",
    "\n",
    "let s2 = dangle(); // but `s2` wants to see `s`\n",
    "println!(\"{}\", s2);"
   ]
  },
  {
   "cell_type": "code",
   "execution_count": 2,
   "metadata": {},
   "outputs": [
    {
     "name": "stdout",
     "output_type": "stream",
     "text": [
      "hello\n"
     ]
    }
   ],
   "source": [
    "fn dangle () -> String {\n",
    "    let s = String::from(\"hello\");\n",
    "    s\n",
    "}\n",
    "\n",
    "let s2 = dangle(); // heap of `s` will be owned by `s2`\n",
    "println!(\"{}\", s2);"
   ]
  },
  {
   "cell_type": "code",
   "execution_count": 4,
   "metadata": {},
   "outputs": [
    {
     "name": "stdout",
     "output_type": "stream",
     "text": [
      "5\n"
     ]
    }
   ],
   "source": [
    "// naive implementation of finding words\n",
    "\n",
    "fn first_word(s: &String) -> usize {\n",
    "    let bytes = s.as_bytes();\n",
    "\n",
    "    for (i, &item) in bytes.iter().enumerate() {\n",
    "        if item == b' ' {\n",
    "            return i;\n",
    "        }\n",
    "    }\n",
    "\n",
    "    s.len()\n",
    "}\n",
    "\n",
    "let s = String::from(\"Hello world!\");\n",
    "println!(\"{}\", first_word(&s));\n"
   ]
  },
  {
   "cell_type": "code",
   "execution_count": 7,
   "metadata": {},
   "outputs": [
    {
     "name": "stdout",
     "output_type": "stream",
     "text": [
      "llo \n",
      "Hello w\n",
      "o world!\n",
      "Hello world!\n"
     ]
    },
    {
     "data": {
      "text/plain": "()"
     },
     "execution_count": 7,
     "metadata": {},
     "output_type": "execute_result"
    }
   ],
   "source": [
    "{\n",
    "    let s = String::from(\"Hello world!\");\n",
    "    println!(\"{}\", &s[2..6]);\n",
    "    println!(\"{}\", &s[..7]);\n",
    "    println!(\"{}\", &s[4..]);\n",
    "    println!(\"{}\", &s[..]);\n",
    "}"
   ]
  },
  {
   "cell_type": "code",
   "execution_count": 6,
   "metadata": {},
   "outputs": [
    {
     "name": "stderr",
     "output_type": "stream",
     "text": [
      "thread '<unnamed>' panicked at 'byte index 15 is out of bounds of `Hello world!`', src/lib.rs:144:21\n",
      "stack backtrace:\n",
      "   0: _rust_begin_unwind\n",
      "   1: core::panicking::panic_fmt\n",
      "   2: core::str::slice_error_fail\n",
      "   3: _run_user_code_4\n",
      "   4: evcxr::runtime::Runtime::run_loop\n",
      "   5: evcxr::runtime::runtime_hook\n",
      "   6: evcxr_jupyter::main\n",
      "note: Some details are omitted, run with `RUST_BACKTRACE=full` for a verbose backtrace.\n"
     ]
    },
    {
     "ename": "Error",
     "evalue": "Child process terminated with status: exit code: 101",
     "output_type": "error",
     "traceback": [
      "Child process terminated with status: exit code: 101"
     ]
    }
   ],
   "source": [
    "{\n",
    "    let s = String::from(\"Hello world!\");\n",
    "    println!(\"{}\", &s[2..15]);\n",
    "}"
   ]
  },
  {
   "cell_type": "code",
   "execution_count": 10,
   "metadata": {},
   "outputs": [
    {
     "name": "stderr",
     "output_type": "stream",
     "text": [
      "thread '<unnamed>' panicked at 'byte index 8 is not a char boundary; it is inside '�' (bytes 6..9) of `Hello ��`', src/lib.rs:40:21\n",
      "stack backtrace:\n",
      "   0: _rust_begin_unwind\n",
      "   1: core::panicking::panic_fmt\n",
      "   2: core::str::slice_error_fail\n",
      "   3: _run_user_code_6\n",
      "   4: evcxr::runtime::Runtime::run_loop\n",
      "   5: evcxr::runtime::runtime_hook\n",
      "   6: evcxr_jupyter::main\n",
      "note: Some details are omitted, run with `RUST_BACKTRACE=full` for a verbose backtrace.\n"
     ]
    },
    {
     "ename": "Error",
     "evalue": "Child process terminated with status: exit code: 101",
     "output_type": "error",
     "traceback": [
      "Child process terminated with status: exit code: 101"
     ]
    }
   ],
   "source": [
    "// can't split multibyte char\n",
    "{\n",
    "    let s = String::from(\"Hello ��\");\n",
    "    println!(\"{}\", &s[8..9]);\n",
    "}"
   ]
  },
  {
   "cell_type": "code",
   "execution_count": 13,
   "metadata": {},
   "outputs": [
    {
     "data": {
      "text/plain": "()"
     },
     "execution_count": 13,
     "metadata": {},
     "output_type": "execute_result"
    }
   ],
   "source": [
    "// return sliced string\n",
    "fn first_word(s: &str) -> &str {\n",
    "    let bytes = s.as_bytes();\n",
    "\n",
    "    for (i, &item) in bytes.iter().enumerate() {\n",
    "        if item == b' ' {\n",
    "            return &s[0..i];\n",
    "        }\n",
    "    }\n",
    "\n",
    "    &s[..]\n",
    "}\n",
    "\n",
    "{\n",
    "    let my_string = String::from(\"hello world\");\n",
    "\n",
    "    // first_wordは`String`のスライスに対して機能する\n",
    "    let word = first_word(&my_string[..]);\n",
    "\n",
    "    let my_string_literal = \"hello world\";\n",
    "\n",
    "    // first_wordは文字列リテラルのスライスに対して機能する\n",
    "    let word = first_word(&my_string_literal[..]);\n",
    "\n",
    "    // 文字列リテラルは、すでに文字列スライス*な*ので、\n",
    "    // スライス記法なしでも機能するのだ！\n",
    "    let word = first_word(my_string_literal);\n",
    "}\n"
   ]
  }
 ],
 "metadata": {
  "kernelspec": {
   "display_name": "Rust",
   "language": "rust",
   "name": "rust"
  },
  "language_info": {
   "codemirror_mode": "rust",
   "file_extension": ".rs",
   "mimetype": "text/rust",
   "name": "Rust",
   "pygment_lexer": "rust",
   "version": ""
  },
  "orig_nbformat": 2
 },
 "nbformat": 4,
 "nbformat_minor": 2
}