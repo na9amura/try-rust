{
    "cells": [
        {
            "cell_type": "markdown",
            "source": [
                "# 9. Error handling\n",
                "\n",
                "Use `Result<T, E>` for recoverable errors\n",
                "\n",
                "Use `panic!` macro for unrecoverable errors"
            ],
            "metadata": {}
        },
        {
            "cell_type": "markdown",
            "source": [
                "## `panic!`\n",
                "\n",
                "By dafault, rust \n"
            ],
            "metadata": {}
        },
        {
            "cell_type": "code",
            "execution_count": 2,
            "source": [
                "{\n",
                "  panic!(\"crush!\")\n",
                "}"
            ],
            "outputs": [
                {
                    "output_type": "stream",
                    "name": "stderr",
                    "text": [
                        "thread '<unnamed>' panicked at 'crush!', src/lib.rs:22:3\n",
                        "stack backtrace:\n",
                        "   0: std::panicking::begin_panic\n",
                        "   1: _run_user_code_1\n",
                        "   2: evcxr::runtime::Runtime::run_loop\n",
                        "   3: evcxr::runtime::runtime_hook\n",
                        "   4: evcxr_jupyter::main\n",
                        "note: Some details are omitted, run with `RUST_BACKTRACE=full` for a verbose backtrace.\n",
                        "Segmentation fault.\n",
                        "   0: backtrace::backtrace::trace\n",
                        "   1: backtrace::capture::Backtrace::new\n",
                        "   2: evcxr::runtime::Runtime::install_crash_handlers::segfault_handler\n",
                        "   3: __sigtramp\n",
                        "   4: core::ptr::drop_in_place\n",
                        "             at /rustc/7eac88abb2e57e752f3302f02be5f3ce3d7adfb4/library/core/src/ptr/mod.rs:175:1\n",
                        "      core::ptr::drop_in_place\n",
                        "             at /rustc/7eac88abb2e57e752f3302f02be5f3ce3d7adfb4/library/core/src/ptr/mod.rs:175:1\n",
                        "      core::result::Result<T,E>::unwrap_or\n",
                        "             at /rustc/7eac88abb2e57e752f3302f02be5f3ce3d7adfb4/library/core/src/result.rs:805:5\n",
                        "      std::rt::lang_start_internal\n",
                        "             at /rustc/7eac88abb2e57e752f3302f02be5f3ce3d7adfb4/library/std/src/rt.rs:54:9\n",
                        "   5: _main\n",
                        "\n"
                    ]
                },
                {
                    "output_type": "error",
                    "ename": "Error",
                    "evalue": "Child process terminated with status: signal: 6",
                    "traceback": [
                        "Child process terminated with status: signal: 6"
                    ]
                }
            ],
            "metadata": {}
        },
        {
            "cell_type": "code",
            "execution_count": 3,
            "source": [
                "let v = vec![1,2,3];\n",
                "v[99];"
            ],
            "outputs": [
                {
                    "output_type": "stream",
                    "name": "stderr",
                    "text": [
                        "thread '<unnamed>' panicked at 'index out of bounds: the len is 3 but the index is 99', src/lib.rs:106:1\n",
                        "stack backtrace:\n",
                        "   0: _rust_begin_unwind\n",
                        "   1: core::panicking::panic_fmt\n",
                        "   2: core::panicking::panic_bounds_check\n",
                        "   3: _run_user_code_1\n",
                        "   4: evcxr::runtime::Runtime::run_loop\n",
                        "   5: evcxr::runtime::runtime_hook\n",
                        "   6: evcxr_jupyter::main\n",
                        "note: Some details are omitted, run with `RUST_BACKTRACE=full` for a verbose backtrace.\n"
                    ]
                },
                {
                    "output_type": "error",
                    "ename": "Error",
                    "evalue": "Child process terminated with status: exit code: 101",
                    "traceback": [
                        "Child process terminated with status: exit code: 101"
                    ]
                }
            ],
            "metadata": {}
        },
        {
            "cell_type": "markdown",
            "source": [
                "When we set `RUST_BACKTRACE=1`, we can get detailed reason."
            ],
            "metadata": {}
        },
        {
            "cell_type": "markdown",
            "source": [
                "## Result\n",
                "Use `Result` to handle error. \n",
                "`Result` enum has `Ok` and `Err`. We can write `match` expression and control each pattern."
            ],
            "metadata": {}
        },
        {
            "cell_type": "code",
            "execution_count": 3,
            "source": [
                "use std::fs::File;\n",
                "\n",
                "let f = File::open(\"hello.txt\");\n",
                "\n",
                "let f = match f {\n",
                "  Ok(file) => file,\n",
                "  Err(error) => {\n",
                "    panic!(\"There was a problem opening the file: {:?}\", error)\n",
                "  },\n",
                "};"
            ],
            "outputs": [
                {
                    "output_type": "stream",
                    "name": "stderr",
                    "text": [
                        "thread '<unnamed>' panicked at 'There was a problem opening the file: Os { code: 2, kind: NotFound, message: \"No such file or directory\" }', src/lib.rs:111:5\n",
                        "stack backtrace:\n",
                        "   0: _rust_begin_unwind\n",
                        "   1: std::panicking::begin_panic_fmt\n",
                        "   2: _run_user_code_1\n",
                        "   3: evcxr::runtime::Runtime::run_loop\n",
                        "   4: evcxr::runtime::runtime_hook\n",
                        "   5: evcxr_jupyter::main\n",
                        "note: Some details are omitted, run with `RUST_BACKTRACE=full` for a verbose backtrace.\n"
                    ]
                },
                {
                    "output_type": "error",
                    "ename": "Error",
                    "evalue": "Child process terminated with status: exit code: 101",
                    "traceback": [
                        "Child process terminated with status: exit code: 101"
                    ]
                }
            ],
            "metadata": {}
        },
        {
            "cell_type": "markdown",
            "source": [
                "We can change error handling by error type.\n",
                "In this case, we'll create new file if file were not found, invoke `panic!` if file could not be opened."
            ],
            "metadata": {}
        },
        {
            "cell_type": "code",
            "execution_count": 3,
            "source": [
                "use std::fs::File;\n",
                "use std::io::ErrorKind;\n",
                "\n",
                "let f = File::open(\"ss09/hello.txt\");\n",
                "\n",
                "let f = match f {\n",
                "  Ok(file) => file,\n",
                "  Err(ref error) if error.kind() == ErrorKind::NotFound => {\n",
                "    match File::create(\"ss09/hello.txt\") {\n",
                "      Ok(fc) => fc,\n",
                "      Err(e) => {\n",
                "        panic!(\"Tried to create file but there was a problem: {:?}\", e)\n",
                "      },\n",
                "    }\n",
                "  },\n",
                "  Err(error) => {\n",
                "    panic!(\"There was a problem opening the file: {:?}\", error)\n",
                "  },\n",
                "};\n",
                "\n",
                "println!(\"{:?}\", f);"
            ],
            "outputs": [
                {
                    "output_type": "stream",
                    "name": "stdout",
                    "text": [
                        "File { fd: 3, path: \"/Users/ta.nakamura/workspace/na9amura/tutorials/rust/ss09/hello.txt\", read: false, write: true }\n"
                    ]
                }
            ],
            "metadata": {}
        },
        {
            "cell_type": "markdown",
            "source": [
                "When we don't need to have complex error handling, using `unwrap` or `ecxpect` is good enough. Sometimes `match` statement is too long to handle simple error. \n",
                "- `Result#unrwap` returns contents of `Ok` or call `panic`.\n",
                "- `Result#expect` returns contents of `Ok` or call `panic` with indicated message."
            ],
            "metadata": {}
        },
        {
            "cell_type": "code",
            "execution_count": 4,
            "source": [
                "let f = File::open(\"hello.txt\").unwrap();"
            ],
            "outputs": [
                {
                    "output_type": "stream",
                    "name": "stderr",
                    "text": [
                        "thread '<unnamed>' panicked at 'called `Result::unwrap()` on an `Err` value: Os { code: 2, kind: NotFound, message: \"No such file or directory\" }', src/lib.rs:109:33\n",
                        "stack backtrace:\n",
                        "   0: _rust_begin_unwind\n",
                        "   1: core::panicking::panic_fmt\n",
                        "   2: core::option::expect_none_failed\n",
                        "   3: _run_user_code_2\n",
                        "   4: evcxr::runtime::Runtime::run_loop\n",
                        "   5: evcxr::runtime::runtime_hook\n",
                        "   6: evcxr_jupyter::main\n",
                        "note: Some details are omitted, run with `RUST_BACKTRACE=full` for a verbose backtrace.\n"
                    ]
                },
                {
                    "output_type": "error",
                    "ename": "Error",
                    "evalue": "Child process terminated with status: exit code: 101",
                    "traceback": [
                        "Child process terminated with status: exit code: 101"
                    ]
                }
            ],
            "metadata": {}
        },
        {
            "cell_type": "code",
            "execution_count": 5,
            "source": [
                "let f = File::open(\"hello.txt\").expect(\"Failed to open file\");"
            ],
            "outputs": [
                {
                    "output_type": "stream",
                    "name": "stderr",
                    "text": [
                        "thread '<unnamed>' panicked at 'Failed to open file: Os { code: 2, kind: NotFound, message: \"No such file or directory\" }', src/lib.rs:107:33\n",
                        "stack backtrace:\n",
                        "   0: _rust_begin_unwind\n",
                        "   1: core::panicking::panic_fmt\n",
                        "   2: core::option::expect_none_failed\n",
                        "   3: _run_user_code_2\n",
                        "   4: evcxr::runtime::Runtime::run_loop\n",
                        "   5: evcxr::runtime::runtime_hook\n",
                        "   6: evcxr_jupyter::main\n",
                        "note: Some details are omitted, run with `RUST_BACKTRACE=full` for a verbose backtrace.\n"
                    ]
                },
                {
                    "output_type": "error",
                    "ename": "Error",
                    "evalue": "Child process terminated with status: exit code: 101",
                    "traceback": [
                        "Child process terminated with status: exit code: 101"
                    ]
                }
            ],
            "metadata": {}
        },
        {
            "cell_type": "markdown",
            "source": [
                "## Delegate error\n",
                "When we define function, we usually delegate error handling to callee.\n",
                "It makes us to be able to write error handler in appropriate block."
            ],
            "metadata": {}
        },
        {
            "cell_type": "code",
            "execution_count": 26,
            "source": [
                "use std::io;\n",
                "use std::io::Read;\n",
                "use std::fs::File;\n",
                "\n",
                "fn read_username_from_file (path: &str) -> Result<String, io::Error> {\n",
                "  let f = File::open(path);\n",
                "\n",
                "  let mut f = match f {\n",
                "    Ok(file) => file,\n",
                "    Err(e) => return Err(e),\n",
                "  };\n",
                "\n",
                "  let mut s = String::new(); // read_to_string will bind contents of file here\n",
                "  match f.read_to_string(&mut s) {\n",
                "    Ok(_) => Ok(s),\n",
                "    Err(e) => Err(e),\n",
                "  }\n",
                "}"
            ],
            "outputs": [],
            "metadata": {}
        },
        {
            "cell_type": "markdown",
            "source": [
                "In this case, `read_username_from_file` is be able to concentrate to read file.\n",
                "We need to handle error when we call this function."
            ],
            "metadata": {}
        },
        {
            "cell_type": "code",
            "execution_count": 33,
            "source": [
                "let s = match read_username_from_file(\"ss09/hello.txt\") {\n",
                "  Ok(s) => s,\n",
                "  Err(_) => String::from(\"guest\"),\n",
                "};\n",
                "\n",
                "println!(\"Hello, {}\", s);"
            ],
            "outputs": [
                {
                    "output_type": "stream",
                    "name": "stdout",
                    "text": [
                        "Hello, na9amura\n"
                    ]
                }
            ],
            "metadata": {}
        },
        {
            "cell_type": "code",
            "execution_count": 34,
            "source": [
                "let s = read_username_from_file(\"ss09/foobar.txt\").unwrap_or(String::from(\"guest\"));\n",
                "\n",
                "println!(\"Hello, {}\", s);"
            ],
            "outputs": [
                {
                    "output_type": "stream",
                    "name": "stdout",
                    "text": [
                        "Hello, guest\n"
                    ]
                }
            ],
            "metadata": {}
        },
        {
            "cell_type": "markdown",
            "source": [
                "### Error delegation in shorthand\n",
                "We can write `?` operator to delegete error handling in short style."
            ],
            "metadata": {}
        },
        {
            "cell_type": "code",
            "execution_count": 35,
            "source": [
                "use std::io;\n",
                "use std::io::Read;\n",
                "use std::fs::File;\n",
                "\n",
                "fn read_username_from_file (path: &str) -> Result<String, io::Error> {\n",
                "  let mut f = File::open(\"hello.txt\")?; // returns contents of Err here if error occured.\n",
                "  let mut s = String::new();\n",
                "  f.read_to_string(&mut s)?; // returns contents of Err here if error occured.\n",
                "  Ok(s)\n",
                "}"
            ],
            "outputs": [],
            "metadata": {}
        },
        {
            "cell_type": "markdown",
            "source": [
                "`?` operator is really simillar to `match` statement. But different from it, `?` operator pass the error to `from` function in `From` trait.\n",
                "(Note: `From::from` converts error by type inference? In this case, `From::from` converts error to `io::Error`?)"
            ],
            "metadata": {}
        },
        {
            "cell_type": "markdown",
            "source": [
                "We can chain methods using `?` operator."
            ],
            "metadata": {}
        },
        {
            "cell_type": "code",
            "execution_count": null,
            "source": [
                "use std::io;\n",
                "use std::io::Read;\n",
                "use std::fs::File;\n",
                "\n",
                "fn read_username_from_file (path: &str) -> Result<String, io::Error> {\n",
                "  let mut s = String::new();\n",
                "  File::open(\"hello.txt\")?.read_to_string(&mut s)?;\n",
                "  Ok(s)\n",
                "}"
            ],
            "outputs": [],
            "metadata": {}
        },
        {
            "cell_type": "markdown",
            "source": [
                "### `?` operator must be used in function returns `Result`\n",
                "(Note: Currently we can use in function returns `Result` or `Optioin`)"
            ],
            "metadata": {}
        },
        {
            "cell_type": "code",
            "execution_count": 37,
            "source": [
                "fn read () {\n",
                "  let f = File::open(\"hello.txt\")?;\n",
                "}"
            ],
            "outputs": [
                {
                    "output_type": "error",
                    "ename": "Error",
                    "evalue": "the `?` operator can only be used in a function that returns `Result` or `Option` (or another type that implements `Try`)",
                    "traceback": [
                        "  let f = File::open(\"hello.txt\")?;",
                        "          ^^^^^^^^^^^^^^^^^^^^^^^^ cannot use the `?` operator in a function that returns `()`",
                        "fn read () {",
                        "  let f = File::open(\"hello.txt\")?;",
                        "}",
                        "^ this function should return `Result` or `Option` to accept `?`",
                        "the `?` operator can only be used in a function that returns `Result` or `Option` (or another type that implements `Try`)",
                        "help: the trait `Try` is not implemented for `()`"
                    ]
                }
            ],
            "metadata": {}
        },
        {
            "cell_type": "code",
            "execution_count": 11,
            "source": [
                "use std::io;\n",
                "use std::fs::File;\n",
                "\n",
                "fn read () -> Result<File, std::io::Error> {\n",
                "  let f = File::open(\"hello.txt\")?;\n",
                "  Ok(f)\n",
                "}"
            ],
            "outputs": [],
            "metadata": {}
        },
        {
            "cell_type": "markdown",
            "source": [
                "## panic! or Result\n",
                "\n",
                "### prefer panic\n",
                "- examples, protprype, test code\n",
                "- \n"
            ],
            "metadata": {}
        },
        {
            "cell_type": "code",
            "execution_count": 15,
            "source": [
                "use std::net::IpAddr;\n",
                "\n",
                "\"127.0.0.1\".parse::<IpAddr>()"
            ],
            "outputs": [
                {
                    "output_type": "execute_result",
                    "data": {
                        "text/plain": [
                            "Ok(127.0.0.1)"
                        ]
                    },
                    "metadata": {},
                    "execution_count": 15
                }
            ],
            "metadata": {}
        },
        {
            "cell_type": "code",
            "execution_count": 17,
            "source": [
                "let home: IpAddr = \"127.0.0.1\".parse().unwrap();\n",
                "home"
            ],
            "outputs": [
                {
                    "output_type": "execute_result",
                    "data": {
                        "text/plain": [
                            "127.0.0.1"
                        ]
                    },
                    "metadata": {},
                    "execution_count": 17
                }
            ],
            "metadata": {}
        },
        {
            "cell_type": "markdown",
            "source": [
                "↑ これは絶対失敗しないのでエラー処理なしに unwrap して問題ない。"
            ],
            "metadata": {}
        },
        {
            "cell_type": "markdown",
            "source": [
                "> 悪い状態とは、何らかの前提、保証、契約、不変性が破られたこと\n",
                "\n",
                "- 以下のような値がプログラムに渡される\n",
                "  - 無効な値\n",
                "  - 矛盾する値\n",
                "  - 行方不明な値\n",
                "\n",
                "- かつ\n",
                "  - エラー処理が正しく行われていない\n",
                "  - "
            ],
            "metadata": {}
        },
        {
            "cell_type": "markdown",
            "source": [
                "### 検証のために独自の型を作る"
            ],
            "metadata": {}
        },
        {
            "cell_type": "code",
            "execution_count": 21,
            "source": [
                "let guess = String::from(\"100\");\n",
                "let guess: u32 = match guess.trim().parse() {\n",
                "  Ok(num) => num,\n",
                "  Err(_) => {\n",
                "    println!(\"failed to parse\");\n",
                "    0\n",
                "  },\n",
                "};"
            ],
            "outputs": [],
            "metadata": {}
        },
        {
            "cell_type": "code",
            "execution_count": 23,
            "source": [
                "let guess = String::from(\"-100\");\n",
                "let guess: i32 = match guess.trim().parse() {\n",
                "  Ok(num) => num,\n",
                "  Err(_) => {\n",
                "    println!(\"failed to parse\");\n",
                "    -1 // tmp\n",
                "  },\n",
                "};\n",
                "\n",
                "if guess < 1 || guess > 100 {\n",
                "  println!(\"The secret number will be between 1 and 100\");\n",
                "}"
            ],
            "outputs": [
                {
                    "output_type": "stream",
                    "name": "stdout",
                    "text": [
                        "The secret number will be between 1 and 100\n"
                    ]
                },
                {
                    "output_type": "execute_result",
                    "data": {
                        "text/plain": [
                            "()"
                        ]
                    },
                    "metadata": {},
                    "execution_count": 23
                }
            ],
            "metadata": {}
        },
        {
            "cell_type": "markdown",
            "source": [
                "> 新しい型を作って検証を関数内に閉じ込め、検証を全箇所で繰り返すのではなく、 その型のインスタンスを生成する"
            ],
            "metadata": {}
        },
        {
            "cell_type": "code",
            "execution_count": 25,
            "source": [
                "pub struct Guess {\n",
                "  value: u32,\n",
                "}\n",
                "\n",
                "impl Guess {\n",
                "  pub fn new(value: u32) -> Guess {\n",
                "    if value < 1 || value > 100 {\n",
                "      panic!(\"Guess value must be between 1 and 100, got {}.\", value);\n",
                "    }\n",
                "\n",
                "    Guess {\n",
                "      value\n",
                "    }\n",
                "  }\n",
                "\n",
                "  pub fn value(&self) -> u32 {\n",
                "    self.value\n",
                "  }\n",
                "}"
            ],
            "outputs": [],
            "metadata": {}
        },
        {
            "cell_type": "code",
            "execution_count": null,
            "source": [],
            "outputs": [],
            "metadata": {}
        }
    ],
    "metadata": {
        "orig_nbformat": 4,
        "language_info": {
            "name": "python"
        }
    },
    "nbformat": 4,
    "nbformat_minor": 2
}