{
 "cells": [
  {
   "cell_type": "code",
   "execution_count": 2,
   "metadata": {},
   "outputs": [
    {
     "name": "stdout",
     "output_type": "stream",
     "text": [
      "[]\n"
     ]
    }
   ],
   "source": [
    "let v: Vec<i32> = Vec::new();\n",
    "println!(\"{:?}\", v);\n"
   ]
  },
  {
   "cell_type": "code",
   "execution_count": 5,
   "metadata": {},
   "outputs": [
    {
     "name": "stdout",
     "output_type": "stream",
     "text": [
      "[1, 2, 3]\n"
     ]
    }
   ],
   "source": [
    "// shorthand to create vector\n",
    "let v = vec![1,2,3];\n",
    "println!(\"{:?}\", v);\n"
   ]
  },
  {
   "cell_type": "code",
   "execution_count": 6,
   "metadata": {},
   "outputs": [
    {
     "name": "stdout",
     "output_type": "stream",
     "text": [
      "[5, 6, 7, 8]\n"
     ]
    }
   ],
   "source": [
    "// add element in vector\n",
    "let mut v = Vec::new();\n",
    "\n",
    "v.push(5);\n",
    "v.push(6);\n",
    "v.push(7);\n",
    "v.push(8);\n",
    "println!(\"{:?}\", v);\n"
   ]
  },
  {
   "cell_type": "code",
   "execution_count": 8,
   "metadata": {},
   "outputs": [
    {
     "ename": "Error",
     "evalue": "cannot find value `v2` in this scope",
     "output_type": "error",
     "traceback": [
      "println!(\"{:?}\", v2);",
      "                 ^^ ",
      "cannot find value `v2` in this scope",
      "help: a local variable with a similar name exists\n\nv"
     ]
    }
   ],
   "source": [
    "\n",
    "{\n",
    "    let v2 = vec![1, 2, 3, 4];\n",
    "} // <- v2はここでスコープを抜け、解放される\n",
    "println!(\"{:?}\", v2);\n"
   ]
  },
  {
   "cell_type": "code",
   "execution_count": 10,
   "metadata": {},
   "outputs": [
    {
     "name": "stdout",
     "output_type": "stream",
     "text": [
      "3\n",
      "Some(3)\n"
     ]
    },
    {
     "data": {
      "text/plain": [
       "()"
      ]
     },
     "execution_count": 10,
     "metadata": {},
     "output_type": "execute_result"
    }
   ],
   "source": [
    "// Read vector elemnt\n",
    "{\n",
    "    let v = vec![1, 2, 3, 4, 5];\n",
    "\n",
    "    let third: &i32 = &v[2];\n",
    "    println!(\"{:?}\", third);\n",
    "\n",
    "    let third: Option<&i32> = v.get(2);\n",
    "    println!(\"{:?}\", third);\n",
    "}\n"
   ]
  },
  {
   "cell_type": "code",
   "execution_count": 11,
   "metadata": {},
   "outputs": [
    {
     "name": "stderr",
     "output_type": "stream",
     "text": [
      "thread '<unnamed>' panicked at 'index out of bounds: the len is 5 but the index is 100', src/lib.rs:126:24\n",
      "stack backtrace:\n",
      "   0: _rust_begin_unwind\n",
      "   1: core::panicking::panic_fmt\n",
      "   2: core::panicking::panic_bounds_check\n",
      "   3: _run_user_code_6\n",
      "   4: evcxr::runtime::Runtime::run_loop\n",
      "   5: evcxr::runtime::runtime_hook\n",
      "   6: evcxr_jupyter::main\n",
      "note: Some details are omitted, run with `RUST_BACKTRACE=full` for a verbose backtrace.\n"
     ]
    },
    {
     "ename": "Error",
     "evalue": "Child process terminated with status: exit code: 101",
     "output_type": "error",
     "traceback": [
      "Child process terminated with status: exit code: 101"
     ]
    }
   ],
   "source": [
    "// access \n",
    "{\n",
    "    let v = vec![1, 2, 3, 4, 5];\n",
    "    let third: &i32 = &v[100];\n",
    "    println!(\"{:?}\", third);\n",
    "}\n"
   ]
  },
  {
   "cell_type": "code",
   "execution_count": 12,
   "metadata": {},
   "outputs": [
    {
     "name": "stdout",
     "output_type": "stream",
     "text": [
      "Some(3)\n"
     ]
    },
    {
     "data": {
      "text/plain": [
       "()"
      ]
     },
     "execution_count": 12,
     "metadata": {},
     "output_type": "execute_result"
    }
   ],
   "source": [
    "// Vector#get do not cause panic\n",
    "{\n",
    "    let v = vec![1, 2, 3, 4, 5];\n",
    "    let third: Option<&i32> = v.get(2);\n",
    "    println!(\"{:?}\", third);\n",
    "}\n"
   ]
  },
  {
   "cell_type": "code",
   "execution_count": 15,
   "metadata": {},
   "outputs": [
    {
     "ename": "Error",
     "evalue": "cannot borrow `v` as mutable because it is also borrowed as immutable",
     "output_type": "error",
     "traceback": [
      "v.push(6);",
      "^^^^^^^^^ mutable borrow occurs here",
      "let first = &v[0];",
      "             ^ immutable borrow occurs here",
      "println!(\"The first element is: {}\", first);",
      "                                     ^^^^^ immutable borrow later used here",
      "cannot borrow `v` as mutable because it is also borrowed as immutable"
     ]
    }
   ],
   "source": [
    "{\n",
    "let mut v = vec![1, 2, 3, 4, 5];\n",
    "\n",
    "let first = &v[0];\n",
    "\n",
    "v.push(6);\n",
    "\n",
    "println!(\"The first element is: {}\", first);\n",
    "}\n"
   ]
  },
  {
   "cell_type": "code",
   "execution_count": 17,
   "metadata": {},
   "outputs": [
    {
     "name": "stdout",
     "output_type": "stream",
     "text": [
      "100\n",
      "32\n",
      "57\n"
     ]
    },
    {
     "data": {
      "text/plain": [
       "()"
      ]
     },
     "execution_count": 17,
     "metadata": {},
     "output_type": "execute_result"
    }
   ],
   "source": [
    "{\n",
    "    let v = vec![100, 32, 57];\n",
    "    for i in &v {\n",
    "        println!(\"{}\", i);\n",
    "    }\n",
    "}"
   ]
  },
  {
   "cell_type": "code",
   "execution_count": 19,
   "metadata": {},
   "outputs": [
    {
     "name": "stdout",
     "output_type": "stream",
     "text": [
      "[150, 82, 107]\n"
     ]
    },
    {
     "data": {
      "text/plain": [
       "()"
      ]
     },
     "execution_count": 19,
     "metadata": {},
     "output_type": "execute_result"
    }
   ],
   "source": [
    "{\n",
    "    let mut v = vec![100, 32, 57];\n",
    "    for i in &mut v {\n",
    "        *i += 50;\n",
    "    }\n",
    "    println!(\"{:?}\", v);\n",
    "}"
   ]
  },
  {
   "cell_type": "code",
   "execution_count": 21,
   "metadata": {},
   "outputs": [
    {
     "name": "stdout",
     "output_type": "stream",
     "text": [
      "[Int(3), Text(\"blue\"), Float(19.33)]\n"
     ]
    },
    {
     "data": {
      "text/plain": [
       "()"
      ]
     },
     "execution_count": 21,
     "metadata": {},
     "output_type": "execute_result"
    }
   ],
   "source": [
    "// allow multiple type using Enumb\n",
    "\n",
    "{\n",
    "    #[derive(Debug)]\n",
    "    enum Cell {\n",
    "        Int(i32),\n",
    "        Float(f64),\n",
    "        Text(String),\n",
    "    }\n",
    "\n",
    "    let row = vec![\n",
    "        Cell::Int(3),\n",
    "        Cell::Text(String::from(\"blue\")),\n",
    "        Cell::Float(19.33)\n",
    "    ];\n",
    "\n",
    "    println!(\"{:?}\", row);\n",
    "}\n"
   ]
  },
  {
   "cell_type": "markdown",
   "metadata": {},
   "source": [
    "## String"
   ]
  },
  {
   "cell_type": "code",
   "execution_count": 22,
   "metadata": {},
   "outputs": [
    {
     "data": {
      "text/plain": [
       "()"
      ]
     },
     "execution_count": 22,
     "metadata": {},
     "output_type": "execute_result"
    }
   ],
   "source": [
    "{\n",
    "    let mut s = String::new();\n",
    "}"
   ]
  },
  {
   "cell_type": "code",
   "execution_count": 23,
   "metadata": {},
   "outputs": [
    {
     "data": {
      "text/plain": [
       "()"
      ]
     },
     "execution_count": 23,
     "metadata": {},
     "output_type": "execute_result"
    }
   ],
   "source": [
    "{\n",
    "    let data = \"initial contents\";\n",
    "    let s = data.to_string();\n",
    "    let s = \"initial contents\".to_string();\n",
    "}"
   ]
  },
  {
   "cell_type": "code",
   "execution_count": 24,
   "metadata": {},
   "outputs": [
    {
     "data": {
      "text/plain": [
       "()"
      ]
     },
     "execution_count": 24,
     "metadata": {},
     "output_type": "execute_result"
    }
   ],
   "source": [
    "{\n",
    "    let s = String::from(\"initial contents\");\n",
    "}"
   ]
  },
  {
   "cell_type": "code",
   "execution_count": 26,
   "metadata": {},
   "outputs": [
    {
     "name": "stdout",
     "output_type": "stream",
     "text": [
      "foobar\n"
     ]
    }
   ],
   "source": [
    "let mut s = String::from(\"foo\");\n",
    "s.push_str(\"bar\");\n",
    "println!(\"{}\", s);"
   ]
  },
  {
   "cell_type": "code",
   "execution_count": 27,
   "metadata": {},
   "outputs": [
    {
     "name": "stdout",
     "output_type": "stream",
     "text": [
      "bar\n"
     ]
    }
   ],
   "source": [
    "// push_str does not get ownership\n",
    "let mut s = String::from(\"foo\");\n",
    "let s2 = \"bar\";\n",
    "s.push_str(s2);\n",
    "println!(\"{}\", s2);"
   ]
  },
  {
   "cell_type": "code",
   "execution_count": 28,
   "metadata": {},
   "outputs": [
    {
     "name": "stdout",
     "output_type": "stream",
     "text": [
      "lol\n"
     ]
    }
   ],
   "source": [
    "// we can push one character with `push`\n",
    "let mut s = String::from(\"lo\");\n",
    "s.push('l');\n",
    "println!(\"{}\", s);\n"
   ]
  },
  {
   "cell_type": "code",
   "execution_count": 34,
   "metadata": {},
   "outputs": [
    {
     "name": "stdout",
     "output_type": "stream",
     "text": [
      "Hello, world!, world!\n"
     ]
    },
    {
     "data": {
      "text/plain": [
       "()"
      ]
     },
     "execution_count": 34,
     "metadata": {},
     "output_type": "execute_result"
    }
   ],
   "source": [
    "{\n",
    "    let s1 = String::from(\"Hello, \");\n",
    "    let s2 = String::from(\"world!\");\n",
    "    let s3 = s1 + &s2;\n",
    "    println!(\"{}, {}\", s3, s2);\n",
    "}"
   ]
  },
  {
   "cell_type": "code",
   "execution_count": 36,
   "metadata": {},
   "outputs": [
    {
     "name": "stdout",
     "output_type": "stream",
     "text": [
      "tic-tac-toe\n"
     ]
    }
   ],
   "source": [
    "let s1 = String::from(\"tic\");\n",
    "let s2 = String::from(\"tac\");\n",
    "let s3 = String::from(\"toe\");\n",
    "\n",
    "// let s = s1 + \"-\" + s2 + \"-\" + s3\n",
    "let s = format!(\"{}-{}-{}\", s1, s2, s3);\n",
    "println!(\"{}\", s);"
   ]
  },
  {
   "cell_type": "code",
   "execution_count": 37,
   "metadata": {},
   "outputs": [
    {
     "ename": "Error",
     "evalue": "the type `String` cannot be indexed by `{integer}`",
     "output_type": "error",
     "traceback": [
      "let h = s1[0];",
      "        ^^^^^ `String` cannot be indexed by `{integer}`",
      "the type `String` cannot be indexed by `{integer}`",
      "help: the trait `Index<{integer}>` is not implemented for `String`"
     ]
    }
   ],
   "source": [
    "let s1 = String::from(\"hello\");\n",
    "let h = s1[0];\n"
   ]
  },
  {
   "cell_type": "code",
   "execution_count": 39,
   "metadata": {},
   "outputs": [
    {
     "ename": "Error",
     "evalue": "the type `str` cannot be indexed by `{integer}`",
     "output_type": "error",
     "traceback": [
      "let answer = &hello[0];",
      "              ^^^^^^^^ string indices are ranges of `usize`",
      "the type `str` cannot be indexed by `{integer}`",
      "help: the trait `SliceIndex<str>` is not implemented for `{integer}`"
     ]
    }
   ],
   "source": [
    "{\n",
    "    let hello = \"Здравствуйте\";\n",
    "    let answer = &hello[0];\n",
    "    println!(\"{}\", answer);\n",
    "}"
   ]
  },
  {
   "cell_type": "markdown",
   "metadata": {},
   "source": []
  },
  {
   "cell_type": "code",
   "execution_count": 41,
   "metadata": {},
   "outputs": [
    {
     "name": "stdout",
     "output_type": "stream",
     "text": [
      "Зд\n"
     ]
    },
    {
     "data": {
      "text/plain": [
       "()"
      ]
     },
     "execution_count": 41,
     "metadata": {},
     "output_type": "execute_result"
    }
   ],
   "source": [
    "{\n",
    "    let hello = \"Здравствуйте\";\n",
    "    let s = &hello[0..4];\n",
    "    println!(\"{}\", s);\n",
    "}\n"
   ]
  },
  {
   "cell_type": "code",
   "execution_count": 42,
   "metadata": {},
   "outputs": [
    {
     "name": "stderr",
     "output_type": "stream",
     "text": [
      "thread '<unnamed>' panicked at 'byte index 1 is not a char boundary; it is inside 'З' (bytes 0..2) of `Здравствуйте`', src/lib.rs:131:14\n",
      "stack backtrace:\n",
      "   0: _rust_begin_unwind\n",
      "   1: core::panicking::panic_fmt\n",
      "   2: core::str::slice_error_fail\n",
      "   3: _run_user_code_21\n",
      "   4: evcxr::runtime::Runtime::run_loop\n",
      "   5: evcxr::runtime::runtime_hook\n",
      "   6: evcxr_jupyter::main\n",
      "note: Some details are omitted, run with `RUST_BACKTRACE=full` for a verbose backtrace.\n"
     ]
    },
    {
     "ename": "Error",
     "evalue": "Child process terminated with status: exit code: 101",
     "output_type": "error",
     "traceback": [
      "Child process terminated with status: exit code: 101"
     ]
    }
   ],
   "source": [
    "{\n",
    "    let hello = \"Здравствуйте\";\n",
    "    let s = &hello[1..4];\n",
    "    println!(\"{}\", s);\n",
    "}\n"
   ]
  },
  {
   "cell_type": "code",
   "execution_count": 43,
   "metadata": {},
   "outputs": [
    {
     "name": "stdout",
     "output_type": "stream",
     "text": [
      "न\n",
      "म\n",
      "स\n",
      "्\n",
      "त\n",
      "े\n"
     ]
    },
    {
     "data": {
      "text/plain": [
       "()"
      ]
     },
     "execution_count": 43,
     "metadata": {},
     "output_type": "execute_result"
    }
   ],
   "source": [
    "for c in \"नमस्ते\".chars() {\n",
    "    println!(\"{}\", c)\n",
    "}"
   ]
  },
  {
   "cell_type": "code",
   "execution_count": 44,
   "metadata": {},
   "outputs": [
    {
     "name": "stdout",
     "output_type": "stream",
     "text": [
      "224\n",
      "164\n",
      "168\n",
      "224\n",
      "164\n",
      "174\n",
      "224\n",
      "164\n",
      "184\n",
      "224\n",
      "165\n",
      "141\n",
      "224\n",
      "164\n",
      "164\n",
      "224\n",
      "165\n",
      "135\n"
     ]
    },
    {
     "data": {
      "text/plain": [
       "()"
      ]
     },
     "execution_count": 44,
     "metadata": {},
     "output_type": "execute_result"
    }
   ],
   "source": [
    "for b in \"नमस्ते\".bytes() {\n",
    "    println!(\"{}\", b);\n",
    "}\n"
   ]
  },
  {
   "cell_type": "code",
   "execution_count": 46,
   "metadata": {},
   "outputs": [
    {
     "name": "stdout",
     "output_type": "stream",
     "text": [
      "こ\n",
      "ん\n",
      "ば\n",
      "ん\n",
      "は\n"
     ]
    },
    {
     "data": {
      "text/plain": [
       "()"
      ]
     },
     "execution_count": 46,
     "metadata": {},
     "output_type": "execute_result"
    }
   ],
   "source": [
    "for c in \"こんばんは\".chars() {\n",
    "    println!(\"{}\", c);\n",
    "}"
   ]
  },
  {
   "cell_type": "markdown",
   "metadata": {},
   "source": [
    "## HashMap"
   ]
  },
  {
   "cell_type": "code",
   "execution_count": 53,
   "metadata": {},
   "outputs": [],
   "source": [
    "use std::collections::HashMap;"
   ]
  },
  {
   "cell_type": "code",
   "execution_count": 54,
   "metadata": {},
   "outputs": [
    {
     "name": "stdout",
     "output_type": "stream",
     "text": [
      "{\"Blue\": 10, \"Yellow\": 50}\n"
     ]
    },
    {
     "data": {
      "text/plain": [
       "()"
      ]
     },
     "execution_count": 54,
     "metadata": {},
     "output_type": "execute_result"
    }
   ],
   "source": [
    "{\n",
    "    let mut scores = HashMap::new();\n",
    "    scores.insert(String::from(\"Blue\"), 10);\n",
    "    scores.insert(String::from(\"Yellow\"), 50);\n",
    "\n",
    "    println!(\"{:?}\", scores);\n",
    "}"
   ]
  },
  {
   "cell_type": "code",
   "execution_count": 56,
   "metadata": {},
   "outputs": [
    {
     "ename": "Error",
     "evalue": "mismatched types",
     "output_type": "error",
     "traceback": [
      "    scores.insert(50, String::from(\"50\"));",
      "                  ^^ expected struct `String`, found integer",
      "mismatched types",
      "help: try using a conversion method\n\n50.to_string()"
     ]
    },
    {
     "ename": "Error",
     "evalue": "mismatched types",
     "output_type": "error",
     "traceback": [
      "    scores.insert(50, String::from(\"50\"));",
      "                      ^^^^^^^^^^^^^^^^^^ expected integer, found struct `String`",
      "mismatched types"
     ]
    }
   ],
   "source": [
    "// key and value must be same type in a\n",
    "{\n",
    "    let mut scores = HashMap::new();\n",
    "    scores.insert(String::from(\"Blue\"), 10);\n",
    "    scores.insert(50, String::from(\"50\"));\n",
    "}"
   ]
  },
  {
   "cell_type": "code",
   "execution_count": 57,
   "metadata": {},
   "outputs": [
    {
     "ename": "Error",
     "evalue": "comparison operators cannot be chained",
     "output_type": "error",
     "traceback": [
      "    let scores = teams.iter().zip(initial_scores.iter()).collect<HashMap<_, _>>();",
      "                                                                ^ ",
      "    let scores = teams.iter().zip(initial_scores.iter()).collect<HashMap<_, _>>();",
      "                                                                        ^ ",
      "comparison operators cannot be chained",
      "help: use `::<...>` instead of `<...>` to specify type arguments\n\n::"
     ]
    }
   ],
   "source": [
    "use std::collections::HashMap;\n",
    "\n",
    "{\n",
    "    let teams = vec![String::from(\"Blue\"), String::from(\"Yellow\")];\n",
    "    let initial_scores = vec![10, 50];\n",
    "    let scores: HashMap<_, _> = teams.iter().zip(initial_scores.iter()).collect();\n",
    "    println!(\"{:?}\", scores);\n",
    "}"
   ]
  },
  {
   "cell_type": "code",
   "execution_count": 59,
   "metadata": {},
   "outputs": [
    {
     "ename": "Error",
     "evalue": "borrow of moved value: `field_name`",
     "output_type": "error",
     "traceback": [
      "    map.insert(field_name, field_value);",
      "               ^^^^^^^^^^ value moved here",
      "    println!(\"{}: {}\", field_name, field_value);",
      "                       ^^^^^^^^^^ value borrowed here after move",
      "    let field_name = String::from(\"Favorite color\");",
      "        ^^^^^^^^^^ move occurs because `field_name` has type `String`, which does not implement the `Copy` trait",
      "borrow of moved value: `field_name`"
     ]
    },
    {
     "ename": "Error",
     "evalue": "borrow of moved value: `field_value`",
     "output_type": "error",
     "traceback": [
      "    map.insert(field_name, field_value);",
      "                           ^^^^^^^^^^^ value moved here",
      "    println!(\"{}: {}\", field_name, field_value);",
      "                                   ^^^^^^^^^^^ value borrowed here after move",
      "    let field_value = String::from(\"Blue\");",
      "        ^^^^^^^^^^^ move occurs because `field_value` has type `String`, which does not implement the `Copy` trait",
      "borrow of moved value: `field_value`"
     ]
    }
   ],
   "source": [
    "{\n",
    "    let field_name = String::from(\"Favorite color\");\n",
    "    let field_value = String::from(\"Blue\");\n",
    "    let mut map = HashMap::new();\n",
    "    map.insert(field_name, field_value);\n",
    "    println!(\"{}: {}\", field_name, field_value);\n",
    "}\n"
   ]
  },
  {
   "cell_type": "code",
   "execution_count": 61,
   "metadata": {},
   "outputs": [
    {
     "name": "stdout",
     "output_type": "stream",
     "text": [
      "Blue\n"
     ]
    },
    {
     "data": {
      "text/plain": [
       "()"
      ]
     },
     "execution_count": 61,
     "metadata": {},
     "output_type": "execute_result"
    }
   ],
   "source": [
    "{\n",
    "    let field_name = String::from(\"Favorite color\");\n",
    "    let field_value = String::from(\"Blue\");\n",
    "    let mut map = HashMap::new();\n",
    "    map.insert(field_name, &field_value);\n",
    "    println!(\"{}\", field_value);\n",
    "}\n"
   ]
  },
  {
   "cell_type": "code",
   "execution_count": 68,
   "metadata": {},
   "outputs": [
    {
     "name": "stdout",
     "output_type": "stream",
     "text": [
      "10\n"
     ]
    },
    {
     "data": {
      "text/plain": [
       "()"
      ]
     },
     "execution_count": 68,
     "metadata": {},
     "output_type": "execute_result"
    }
   ],
   "source": [
    "// get value by key\n",
    "{\n",
    "    let mut scores = HashMap::new();\n",
    "\n",
    "    scores.insert(String::from(\"blue\"), 10);\n",
    "    scores.insert(String::from(\"yellow\"), 50);\n",
    "    let team_name = String::from(\"blue\");\n",
    "    if let Some(score) = scores.get(&team_name) {\n",
    "        println!(\"{}\", score);\n",
    "    }\n",
    "}"
   ]
  },
  {
   "cell_type": "code",
   "execution_count": 72,
   "metadata": {},
   "outputs": [
    {
     "name": "stdout",
     "output_type": "stream",
     "text": [
      "Yellow: 50\n",
      "Blue: 10\n"
     ]
    },
    {
     "data": {
      "text/plain": [
       "()"
      ]
     },
     "execution_count": 72,
     "metadata": {},
     "output_type": "execute_result"
    }
   ],
   "source": [
    "// loop entries\n",
    "{\n",
    "    let mut scores = HashMap::new();\n",
    "\n",
    "    scores.insert(String::from(\"Blue\"), 10);\n",
    "    scores.insert(String::from(\"Yellow\"), 50);\n",
    "\n",
    "    for (key, value) in &scores {\n",
    "        println!(\"{}: {}\", key, value);\n",
    "    }\n",
    "}\n"
   ]
  },
  {
   "cell_type": "markdown",
   "metadata": {},
   "source": [
    "### update hash map\n"
   ]
  },
  {
   "cell_type": "code",
   "execution_count": 73,
   "metadata": {},
   "outputs": [
    {
     "name": "stdout",
     "output_type": "stream",
     "text": [
      "{\"blue\": 42}\n"
     ]
    },
    {
     "data": {
      "text/plain": [
       "()"
      ]
     },
     "execution_count": 73,
     "metadata": {},
     "output_type": "execute_result"
    }
   ],
   "source": [
    "// overwrite by default\n",
    "{\n",
    "    let mut scores = HashMap::new();\n",
    "    scores.insert(String::from(\"blue\"), 10);\n",
    "    scores.insert(String::from(\"blue\"), 42);\n",
    "    println!(\"{:?}\", scores);\n",
    "}"
   ]
  },
  {
   "cell_type": "code",
   "execution_count": 75,
   "metadata": {},
   "outputs": [
    {
     "name": "stdout",
     "output_type": "stream",
     "text": [
      "{\"yellow\": 20, \"blue\": 10}\n"
     ]
    },
    {
     "data": {
      "text/plain": [
       "()"
      ]
     },
     "execution_count": 75,
     "metadata": {},
     "output_type": "execute_result"
    }
   ],
   "source": [
    "// do not overwrite by or_insert\n",
    "{\n",
    "    let mut scores = HashMap::new();\n",
    "    scores.insert(String::from(\"blue\"), 10);\n",
    "\n",
    "    scores.entry(String::from(\"yellow\")).or_insert(20);\n",
    "    scores.entry(String::from(\"blue\")).or_insert(20); // do not overwrite because \"blue\": 10 already exists.\n",
    "    println!(\"{:?}\", scores);\n",
    "}"
   ]
  },
  {
   "cell_type": "code",
   "execution_count": 76,
   "metadata": {},
   "outputs": [
    {
     "name": "stdout",
     "output_type": "stream",
     "text": [
      "{\"world\": 2, \"wonderful\": 1, \"hello\": 1}\n"
     ]
    },
    {
     "data": {
      "text/plain": [
       "()"
      ]
     },
     "execution_count": 76,
     "metadata": {},
     "output_type": "execute_result"
    }
   ],
   "source": [
    "// update value\n",
    "{\n",
    "    let text = \"hello world wonderful world\";\n",
    "    let mut map = HashMap::new();\n",
    "\n",
    "    for word in text.split_whitespace() {\n",
    "        let count = map.entry(word).or_insert(0);\n",
    "        *count += 1;\n",
    "    }\n",
    "    println!(\"{:?}\", map);\n",
    "}"
   ]
  },
  {
   "cell_type": "markdown",
   "metadata": {},
   "source": [
    "### Practice"
   ]
  },
  {
   "cell_type": "code",
   "execution_count": 111,
   "metadata": {},
   "outputs": [],
   "source": [
    "let mut ns = vec![2,3,5,7,4,2,1,54,25,64,4,6,43,3,33,3,4,2,1,1,24,5,6];"
   ]
  },
  {
   "cell_type": "code",
   "execution_count": 112,
   "metadata": {},
   "outputs": [
    {
     "name": "stdout",
     "output_type": "stream",
     "text": [
      "302\n"
     ]
    }
   ],
   "source": [
    "let mut sum = 0;\n",
    "for n in &ns {\n",
    "    sum += n;\n",
    "}\n",
    "println!(\"{}\", sum);"
   ]
  },
  {
   "cell_type": "code",
   "execution_count": 116,
   "metadata": {},
   "outputs": [
    {
     "name": "stdout",
     "output_type": "stream",
     "text": [
      "mean is 13\n"
     ]
    }
   ],
   "source": [
    "println!(\"mean is {}\", sum as usize / ns.len());"
   ]
  },
  {
   "cell_type": "code",
   "execution_count": 117,
   "metadata": {},
   "outputs": [
    {
     "name": "stdout",
     "output_type": "stream",
     "text": [
      "[1, 1, 1, 2, 2, 2, 3, 3, 3, 4, 4, 4, 5, 5, 6, 6, 7, 24, 25, 33, 43, 54, 64]\n",
      "median is 4 at 11\n"
     ]
    }
   ],
   "source": [
    "ns.sort();\n",
    "println!(\"{:?}\", ns);\n",
    "let median_position = ns.len() / 2;\n",
    "println!(\"median is {} at {}\", ns[median_position], median_position);"
   ]
  },
  {
   "cell_type": "code",
   "execution_count": 83,
   "metadata": {},
   "outputs": [
    {
     "name": "stdout",
     "output_type": "stream",
     "text": [
      "mode: {24: 1, 3: 3, 7: 1, 43: 1, 54: 1, 1: 2, 2: 3, 6: 2, 33: 1, 5: 2, 4: 3, 25: 1, 64: 1}\n"
     ]
    },
    {
     "data": {
      "text/plain": [
       "()"
      ]
     },
     "execution_count": 83,
     "metadata": {},
     "output_type": "execute_result"
    }
   ],
   "source": [
    "{\n",
    "    let mut mode = HashMap::new();\n",
    "\n",
    "    for n in &ns {\n",
    "        let count = mode.entry(n).or_insert(0);\n",
    "        *count += 1;\n",
    "    }\n",
    "    println!(\"mode: {:?}\", mode);\n",
    "}"
   ]
  },
  {
   "cell_type": "code",
   "execution_count": 130,
   "metadata": {},
   "outputs": [
    {
     "name": "stdout",
     "output_type": "stream",
     "text": [
      "CharIndices { front_offset: 0, iter: Chars(['a', 'p', 'p', 'l', 'e']) }\n",
      "(2, Some(5))\n",
      "(0, 'a')\n"
     ]
    }
   ],
   "source": [
    "let text = String::from(\"apple\");\n",
    "println!(\"{:?}\", text.char_indices());\n",
    "println!(\"{:?}\", text.char_indices().size_hint());\n",
    "println!(\"{:?}\", text.char_indices().nth(0).unwrap());\n"
   ]
  },
  {
   "cell_type": "code",
   "execution_count": 170,
   "metadata": {},
   "outputs": [
    {
     "name": "stdout",
     "output_type": "stream",
     "text": [
      "orld-way\n",
      "apple-hay\n",
      "はよう-おay\n",
      "्ते-सay\n"
     ]
    }
   ],
   "source": [
    "fn pig_latain(text: &str) {\n",
    "    let begin = text.char_indices().nth(1).unwrap().0;\n",
    "    let (head, tail) = text.split_at(begin);\n",
    "    let vowel = vec![\"a\", \"i\", \"u\", \"e\", \"o\"];\n",
    "    if vowel.contains(&head) {\n",
    "        println!(\"{}-hay\", text);\n",
    "    } else {\n",
    "        println!(\"{}-{}ay\", tail, head);\n",
    "    }\n",
    "}\n",
    "\n",
    "pig_latain(\"world\");\n",
    "pig_latain(\"apple\");\n",
    "pig_latain(\"おはよう\");\n",
    "pig_latain(\"स्ते\");"
   ]
  },
  {
   "cell_type": "markdown",
   "metadata": {},
   "source": [
    "Using a hash map and vectors, create a text interface to allow a user to add employee names to a department in a company. For example, “Add Sally to Engineering” or “Add Amir to Sales.” Then let the user retrieve a list of all people in a department or all people in the company by department, sorted alphabetically."
   ]
  },
  {
   "cell_type": "code",
   "execution_count": 54,
   "metadata": {},
   "outputs": [
    {
     "name": "stdout",
     "output_type": "stream",
     "text": [
      "()\n",
      "()\n",
      "[\"Sally\"]\n",
      "[\"Amir\"]\n",
      "all_members [\"Amir\", \"Sally\"]\n"
     ]
    },
    {
     "data": {
      "text/plain": [
       "()"
      ]
     },
     "execution_count": 54,
     "metadata": {},
     "output_type": "execute_result"
    }
   ],
   "source": [
    "use std::collections::HashMap;\n",
    "\n",
    "{\n",
    "  struct Company {\n",
    "    organization: HashMap<String, Vec<String>>,\n",
    "  }\n",
    "\n",
    "  impl Company {\n",
    "    fn update (&mut self, command: &str) -> () {\n",
    "      let v: Vec<&str> = command.split(' ').collect();\n",
    "      // println!(\"{:?}\", v);\n",
    "\n",
    "      if let Some(member) = v.get(1) {\n",
    "        if let Some(division) = v.get(3) {\n",
    "          let key = String::from(*division);\n",
    "          let members = self.organization.entry(key).or_insert(Vec::new());\n",
    "          members.push(String::from(*member));\n",
    "        }\n",
    "      }\n",
    "    }\n",
    "\n",
    "    fn members_in (&self, division: &str) -> Option<&Vec<String>> {\n",
    "      // if let Some(members) = self.organization.get(division) {\n",
    "      //   return Some(members)\n",
    "      // }\n",
    "      // None\n",
    "      self.organization\n",
    "    }\n",
    "\n",
    "    fn all_members (&self) -> Vec<String> {\n",
    "      let mut all_members: Vec<String> = Vec::new();\n",
    "      for (_, members) in &self.organization {\n",
    "        println!(\"{:?}\", members);\n",
    "        all_members.append(&mut members.clone())\n",
    "      }\n",
    "      all_members.sort();\n",
    "      all_members\n",
    "    }\n",
    "  }\n",
    "\n",
    "  let mut company = Company { organization: HashMap::new() };\n",
    "  println!(\"{:?}\", company.update(\"Add Sally to Engineering\"));\n",
    "  println!(\"{:?}\", company.update(\"Add Amir to Sales\"));\n",
    "  println!(\"{:?}\", company.members_in(\"Engineering\"));\n",
    "  println!(\"{:?}\", company.members_in(\"Sales\"));\n",
    "  println!(\"{:?}\", company.members_in(\"CS\"));\n",
    "  println!(\"all_members {:?}\", company.all_members());\n",
    "}"
   ]
  },
  {
   "cell_type": "code",
   "execution_count": null,
   "metadata": {},
   "outputs": [],
   "source": []
  }
 ],
 "metadata": {
  "kernelspec": {
   "display_name": "Rust",
   "name": "rust"
  },
  "language_info": {
   "codemirror_mode": "rust",
   "file_extension": ".rs",
   "mimetype": "text/rust",
   "name": "Rust",
   "pygment_lexer": "rust",
   "version": ""
  },
  "orig_nbformat": 3
 },
 "nbformat": 4,
 "nbformat_minor": 2
}