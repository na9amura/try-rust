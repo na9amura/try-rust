{
 "cells": [
  {
   "cell_type": "code",
   "execution_count": 2,
   "metadata": {},
   "outputs": [],
   "source": [
    "let x = 5;\n",
    "println!(\"The value of x is {}\", x);\n",
    "x = 6;\n",
    "println!(\"The value of x is {}\", x);"
   ]
  },
  {
   "cell_type": "code",
   "execution_count": null,
   "metadata": {},
   "outputs": [
    {
     "name": "stdout",
     "output_type": "stream",
     "text": [
      "The value of x is 5\n",
      "The value of x is 6\n"
     ]
    }
   ],
   "source": [
    "let mut x = 5;\n",
    "println!(\"The value of x is {}\", x);\n",
    "x = 6;\n",
    "println!(\"The value of x is {}\", x);"
   ]
  },
  {
   "cell_type": "code",
   "execution_count": null,
   "metadata": {},
   "outputs": [
    {
     "name": "stdout",
     "output_type": "stream",
     "text": [
      "The value of x is: 12\n",
      "The value of spaces is: 7\n"
     ]
    }
   ],
   "source": [
    "// shadowig\n",
    "let x = 5;\n",
    "let x = x + 1;\n",
    "let x = x * 2;\n",
    "println!(\"The value of x is: {}\", x);\n",
    "\n",
    "// we can shadow other type\n",
    "let spaces = \"       \";\n",
    "let spaces = spaces.len();\n",
    "println!(\"The value of spaces is: {}\", spaces);\n"
   ]
  },
  {
   "cell_type": "code",
   "execution_count": null,
   "metadata": {},
   "outputs": [
    {
     "name": "stdout",
     "output_type": "stream",
     "text": [
      "The value is: 500\n",
      "The value is: 6.1\n",
      "The value is: 1\n"
     ]
    }
   ],
   "source": [
    "// tuple\n",
    "let tup = (500, 6.1, 1);\n",
    "let tup: (i32, f64, u8) = (500, 6.1, 1);\n",
    "println!(\"The value is: {}\", tup.0);\n",
    "println!(\"The value is: {}\", tup.1);\n",
    "println!(\"The value is: {}\", tup.2);"
   ]
  },
  {
   "cell_type": "code",
   "execution_count": null,
   "metadata": {},
   "outputs": [
    {
     "ename": "Error",
     "evalue": "expected expression, found `>`",
     "output_type": "error",
     "traceback": [
      ">> println!(\"The value is: {}\", arr[10]);",
      "^ expected expression",
      "expected expression, found `>`"
     ]
    }
   ],
   "source": [
    "let arr = [1,2,3,4,5]\n",
    ">> println!(\"The value is: {}\", arr[0]);\n",
    ">> println!(\"The value is: {}\", arr[10]);"
   ]
  },
  {
   "cell_type": "code",
   "execution_count": null,
   "metadata": {},
   "outputs": [],
   "source": [
    "fn main() {\n",
    "  println!(\"Hello, world!\");\n",
    "\n",
    "  another_function();\n",
    "}\n",
    "\n",
    "fn another_function() {\n",
    "  println!(\"Another function.\");  // 別の関数\n",
    "}"
   ]
  },
  {
   "cell_type": "markdown",
   "metadata": {},
   "source": [
    "$ cargo run\n",
    "   Compiling base v0.1.0 (/Users/ta.nakamura/workspace/na9amura/tutorials/rust/ss3/base)\n",
    "    Finished dev [unoptimized + debuginfo] target(s) in 0.80s\n",
    "     Running `target/debug/base`\n",
    "Hello, world!\n",
    "Another function."
   ]
  },
  {
   "cell_type": "markdown",
   "metadata": {},
   "source": [
    "We can declare variable in block like syntax.\n",
    "```rs\n",
    ">> let y = {\n",
    "let x = 3;\n",
    "x + 1\n",
    "};\n",
    ">> println!(\"The value is: {}\", y);\n",
    "The value is: 4\n",
    "```\n",
    "\n",
    "Make sure that when you bind the last formula return value. If we put `;` tail of the code, Rust reguards that as statement. Then the block returns `()`.\n",
    "```rs\n",
    ">> let y = {\n",
    "let x = 3;\n",
    "x + 1;\n",
    "};\n",
    ">> println!(\"The value is: {}\", y);\n",
    "                                ^ `()` cannot be formatted with the default formatter\n",
    "`()` doesn't implement `std::fmt::Display`\n",
    "help: the trait `std::fmt::Display` is not implemented for `()`\n",
    "```"
   ]
  },
  {
   "cell_type": "markdown",
   "metadata": {},
   "source": [
    "We can loop by `loop`, `while` and `for`.\n",
    "\n",
    "```rs\n",
    "loop {\n",
    "  println!(\"loop!\");\n",
    "}\n",
    "```\n",
    "\n",
    "```rs\n",
    ">> while n != 0 {\n",
    "     println!(\"The value is: {}\", n);\n",
    "     n = n - 1;\n",
    "   }\n",
    "The value is: 3\n",
    "The value is: 2\n",
    "The value is: 1\n",
    "()\n",
    "```\n",
    "\n",
    "```rs\n",
    ">> let a = [10, 20, 30, 40, 50];\n",
    ">> for element in a.iter() {\n",
    "     println!(\"The value is: {}\", element);\n",
    "   }\n",
    "The value is: 10\n",
    "The value is: 20\n",
    "The value is: 30\n",
    "The value is: 40\n",
    "The value is: 50\n",
    "()\n",
    ">> \n",
    "\n",
    ">> \n",
    ">> for number in (1..4).rev() {\n",
    "     println!(\"The value is: {}\", number);\n",
    "   }\n",
    "The value is: 3\n",
    "The value is: 2\n",
    "The value is: 1\n",
    "()\n",
    "```"
   ]
  },
  {
   "cell_type": "code",
   "execution_count": null,
   "metadata": {},
   "outputs": [
    {
     "name": "stdout",
     "output_type": "stream",
     "text": [
      "1\n",
      "2\n",
      "3\n",
      "5th Fibonacci number is 3\n"
     ]
    }
   ],
   "source": [
    "fn fib (x: u32, y: u32) -> (u32, u32) {\n",
    "  let next = x + y;\n",
    "  (y, next)\n",
    "}\n",
    "\n",
    "let mut x = (0, 1);\n",
    "let mut n = 0;\n",
    "let max = 5;\n",
    "let max = max - 2;\n",
    "\n",
    "while n != max {\n",
    "  x = fib(x.0, x.1);\n",
    "  n = n + 1;\n",
    "  println!(\"{}\", x.1);\n",
    "}\n",
    "println!(\"{}th Fibonacci number is {}\", max + 2, x.1);"
   ]
  },
  {
   "cell_type": "code",
   "execution_count": 6,
   "metadata": {},
   "outputs": [
    {
     "name": "stdout",
     "output_type": "stream",
     "text": [
      "5th Fibonacci number is 3\n"
     ]
    }
   ],
   "source": [
    "fn rfib (n: u32, x: u32, y: u32) -> u32 {\n",
    "  if n == 2 {\n",
    "    return y\n",
    "  }\n",
    "  let next = x + y;\n",
    "  rfib(n - 1, y, next)\n",
    "}\n",
    "\n",
    "let n = 5;\n",
    "println!(\"{}th Fibonacci number is {}\", n, rfib(n, 0, 1));"
   ]
  }
 ],
 "metadata": {
  "kernelspec": {
   "display_name": "Rust",
   "language": "rust",
   "name": "rust"
  },
  "language_info": {
   "name": "rust",
   "version": ""
  },
  "orig_nbformat": 2
 },
 "nbformat": 4,
 "nbformat_minor": 2
}