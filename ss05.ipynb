{
 "cells": [
  {
   "cell_type": "markdown",
   "metadata": {},
   "source": [
    "https://doc.rust-jp.rs/book-ja/ch05-01-defining-structs.html"
   ]
  },
  {
   "cell_type": "code",
   "execution_count": 10,
   "metadata": {},
   "outputs": [],
   "source": [
    "// struct\n",
    "#[derive(Debug)]\n",
    "struct User {\n",
    "    username: String,\n",
    "    email: String,\n",
    "    sign_in_count: u64,\n",
    "    active: bool,\n",
    "}"
   ]
  },
  {
   "cell_type": "code",
   "execution_count": 11,
   "metadata": {},
   "outputs": [
    {
     "name": "stdout",
     "output_type": "stream",
     "text": [
      "User {\n",
      "    username: \"someusername123\",\n",
      "    email: \"someone@example.com\",\n",
      "    sign_in_count: 1,\n",
      "    active: true,\n",
      "}\n"
     ]
    }
   ],
   "source": [
    "let user1 = User {\n",
    "    email: String::from(\"someone@example.com\"),\n",
    "    username: String::from(\"someusername123\"),\n",
    "    active: true,\n",
    "    sign_in_count: 1,\n",
    "};\n",
    "\n",
    "// println!(\"{:?}\", user1);\n",
    "println!(\"{:#?}\", user1);\n"
   ]
  },
  {
   "cell_type": "code",
   "execution_count": 12,
   "metadata": {},
   "outputs": [
    {
     "name": "stdout",
     "output_type": "stream",
     "text": [
      "User {\n",
      "    username: \"someusername123\",\n",
      "    email: \"someone@example.com\",\n",
      "    sign_in_count: 1,\n",
      "    active: true,\n",
      "}\n"
     ]
    }
   ],
   "source": [
    "let user2 = User {\n",
    "    email: String::from(\"another@example.com\"),\n",
    "    username: String::from(\"anotherusername567\"),\n",
    "    ..user1\n",
    "};\n",
    "\n",
    "// ↑ is equevalent to this.\n",
    "// let user2 = User {\n",
    "//     email: String::from(\"another@example.com\"),\n",
    "//     username: String::from(\"anotherusername567\"),\n",
    "//     active: user1.active,\n",
    "//     sign_in_count: user1.sign_in_count,\n",
    "// };\n",
    "\n",
    "println!(\"{:#?}\", user1);"
   ]
  },
  {
   "cell_type": "code",
   "execution_count": 20,
   "metadata": {},
   "outputs": [
    {
     "name": "stdout",
     "output_type": "stream",
     "text": [
      "Color(0, 0, 0)\n",
      "Point(0, 0, 0)\n"
     ]
    }
   ],
   "source": [
    "#[derive(Debug)]\n",
    "struct Color(i32, i32, i32);\n",
    "\n",
    "#[derive(Debug)]\n",
    "struct Point(i32, i32, i32);\n",
    "\n",
    "let color = Color(0, 0, 0);\n",
    "let point = Point(0, 0, 0);\n",
    "\n",
    "println!(\"{:?}\", color);\n",
    "println!(\"{:?}\", point);"
   ]
  },
  {
   "cell_type": "code",
   "execution_count": 21,
   "metadata": {},
   "outputs": [
    {
     "name": "stdout",
     "output_type": "stream",
     "text": [
      "Color(0, 0, 0)\n"
     ]
    }
   ],
   "source": [
    "fn print_color (color: Color) {\n",
    "    println!(\"{:?}\", color);\n",
    "}\n",
    "\n",
    "print_color(color);"
   ]
  },
  {
   "cell_type": "code",
   "execution_count": 22,
   "metadata": {},
   "outputs": [
    {
     "ename": "Error",
     "evalue": "mismatched types",
     "output_type": "error",
     "traceback": [
      "print_color(point);",
      "            ^^^^^ expected struct `Color`, found struct `Point`",
      "mismatched types"
     ]
    }
   ],
   "source": [
    "// can't pass different struct\n",
    "print_color(point);"
   ]
  },
  {
   "cell_type": "markdown",
   "metadata": {},
   "source": [
    "https://doc.rust-jp.rs/book-ja/ch05-03-example-structs.html"
   ]
  },
  {
   "cell_type": "code",
   "execution_count": 3,
   "metadata": {},
   "outputs": [
    {
     "name": "stdout",
     "output_type": "stream",
     "text": [
      "The area of the rectangle is 1500 square pixels.\n"
     ]
    },
    {
     "data": {
      "text/plain": "()"
     },
     "execution_count": 3,
     "metadata": {},
     "output_type": "execute_result"
    }
   ],
   "source": [
    "#[derive(Debug)]\n",
    "struct Rectangle {\n",
    "    width: u32,\n",
    "    height: u32,\n",
    "}\n",
    "\n",
    "impl Rectangle {\n",
    "    fn area(&self) -> u32 {\n",
    "        self.width * self.height\n",
    "    }\n",
    "}\n",
    "\n",
    "{\n",
    "    let rect1 = Rectangle { width: 30, height: 50 };\n",
    "\n",
    "    println!(\n",
    "        \"The area of the rectangle is {} square pixels.\",\n",
    "        rect1.area()\n",
    "    );\n",
    "}"
   ]
  },
  {
   "cell_type": "code",
   "execution_count": 8,
   "metadata": {},
   "outputs": [
    {
     "name": "stdout",
     "output_type": "stream",
     "text": [
      "cah_hold: false\n"
     ]
    },
    {
     "data": {
      "text/plain": "()"
     },
     "execution_count": 8,
     "metadata": {},
     "output_type": "execute_result"
    }
   ],
   "source": [
    "impl Rectangle {\n",
    "    fn can_hold(&self, other: &Rectangle) -> bool {\n",
    "        self.width > other.width && self.height > other.height\n",
    "    }\n",
    "}\n",
    "\n",
    "{\n",
    "    let rect1 = Rectangle { width: 30, height: 50 };\n",
    "    let rect2 = Rectangle { width: 30, height: 50 };\n",
    "\n",
    "    println!(\n",
    "        \"cah_hold: {}\",\n",
    "        rect1.can_hold(&rect2)\n",
    "    );\n",
    "}"
   ]
  }
 ],
 "metadata": {
  "kernelspec": {
   "display_name": "Rust",
   "language": "rust",
   "name": "rust"
  },
  "language_info": {
   "codemirror_mode": "rust",
   "file_extension": ".rs",
   "mimetype": "text/rust",
   "name": "Rust",
   "pygment_lexer": "rust",
   "version": ""
  },
  "orig_nbformat": 2
 },
 "nbformat": 4,
 "nbformat_minor": 2
}