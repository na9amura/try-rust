{
 "cells": [
  {
   "cell_type": "markdown",
   "metadata": {},
   "source": [
    "## スレッドを使用してコードを同時に走らせる"
   ]
  },
  {
   "cell_type": "code",
   "execution_count": 4,
   "metadata": {
    "vscode": {
     "languageId": "rust"
    }
   },
   "outputs": [
    {
     "name": "stdout",
     "output_type": "stream",
     "text": [
      "Hi number 1 from the main thread!\n",
      "Hi number 1 from the spawned thread!\n",
      "Hi number 2 from the main thread!\n",
      "Hi number 2 from the spawned thread!\n",
      "Hi number 3 from the main thread!\n",
      "Hi number 3 from the spawned thread!\n",
      "Hi number 4 from the main thread!\n"
     ]
    },
    {
     "data": {
      "text/plain": [
       "()"
      ]
     },
     "execution_count": 4,
     "metadata": {},
     "output_type": "execute_result"
    }
   ],
   "source": [
    "use std::thread;\n",
    "use std::time::Duration;\n",
    "\n",
    "{\n",
    "  thread::spawn(|| {\n",
    "    for i in 1..10 {\n",
    "      println!(\"Hi number {} from the spawned thread!\", i);\n",
    "      thread::sleep(Duration::from_millis(1));\n",
    "    }\n",
    "  });\n",
    "\n",
    "  for i in 1..5 {\n",
    "    println!(\"Hi number {} from the main thread!\", i);\n",
    "    thread::sleep(Duration::from_millis(1))\n",
    "  }\n",
    "}"
   ]
  },
  {
   "cell_type": "code",
   "execution_count": 5,
   "metadata": {
    "vscode": {
     "languageId": "rust"
    }
   },
   "outputs": [
    {
     "name": "stdout",
     "output_type": "stream",
     "text": [
      "Hi number 4 from the spawned thread!\n",
      "Hi number 5 from the spawned thread!\n",
      "Hi number 6 from the spawned thread!\n",
      "Hi number 7 from the spawned thread!\n",
      "Hi number 8 from the spawned thread!\n",
      "Hi number 9 from the spawned thread!\n"
     ]
    },
    {
     "data": {
      "text/plain": [
       "()"
      ]
     },
     "execution_count": 5,
     "metadata": {},
     "output_type": "execute_result"
    }
   ],
   "source": [
    "()"
   ]
  },
  {
   "cell_type": "code",
   "execution_count": 6,
   "metadata": {
    "vscode": {
     "languageId": "rust"
    }
   },
   "outputs": [
    {
     "name": "stdout",
     "output_type": "stream",
     "text": [
      "Hi, number 1 from the main thread!\n",
      "Hi, number 1 from the spawned thread!\n",
      "Hi, number 2 from the main thread!\n",
      "Hi, number 2 from the spawned thread!\n",
      "Hi, number 3 from the main thread!\n",
      "Hi, number 3 from the spawned thread!\n",
      "Hi, number 4 from the main thread!\n",
      "Hi, number 4 from the spawned thread!\n",
      "Hi, number 5 from the spawned thread!\n",
      "Hi, number 6 from the spawned thread!\n",
      "Hi, number 7 from the spawned thread!\n",
      "Hi, number 8 from the spawned thread!\n",
      "Hi, number 9 from the spawned thread!\n"
     ]
    }
   ],
   "source": [
    "let handle = thread::spawn(|| {\n",
    "  for i in 1..10 {\n",
    "    println!(\"Hi, number {} from the spawned thread!\", i);\n",
    "    thread::sleep(Duration::from_millis(1));\n",
    "  }\n",
    "});\n",
    "\n",
    "for i in 1..5 {\n",
    "  println!(\"Hi, number {} from the main thread!\", i);\n",
    "  thread::sleep(Duration::from_millis(1));\n",
    "}\n",
    "\n",
    "handle.join().unwrap();"
   ]
  },
  {
   "cell_type": "code",
   "execution_count": 7,
   "metadata": {
    "vscode": {
     "languageId": "rust"
    }
   },
   "outputs": [
    {
     "name": "stdout",
     "output_type": "stream",
     "text": [
      "Hi, number 1 from the spawned thread!\n",
      "Hi, number 2 from the spawned thread!\n",
      "Hi, number 3 from the spawned thread!\n",
      "Hi, number 4 from the spawned thread!\n",
      "Hi, number 5 from the spawned thread!\n",
      "Hi, number 6 from the spawned thread!\n",
      "Hi, number 7 from the spawned thread!\n",
      "Hi, number 8 from the spawned thread!\n",
      "Hi, number 9 from the spawned thread!\n",
      "Hi, number 1 from the main thread!\n",
      "Hi, number 2 from the main thread!\n",
      "Hi, number 3 from the main thread!\n",
      "Hi, number 4 from the main thread!\n"
     ]
    },
    {
     "data": {
      "text/plain": [
       "()"
      ]
     },
     "execution_count": 7,
     "metadata": {},
     "output_type": "execute_result"
    }
   ],
   "source": [
    "let handle = thread::spawn(|| {\n",
    "  for i in 1..10 {\n",
    "    println!(\"Hi, number {} from the spawned thread!\", i);\n",
    "    thread::sleep(Duration::from_millis(1));\n",
    "  }\n",
    "});\n",
    "\n",
    "handle.join().unwrap();\n",
    "\n",
    "for i in 1..5 {\n",
    "  println!(\"Hi, number {} from the main thread!\", i);\n",
    "  thread::sleep(Duration::from_millis(1));\n",
    "}"
   ]
  },
  {
   "cell_type": "code",
   "execution_count": 9,
   "metadata": {
    "vscode": {
     "languageId": "rust"
    }
   },
   "outputs": [
    {
     "ename": "Error",
     "evalue": "closure may outlive the current function, but it borrows `v`, which is owned by the current function",
     "output_type": "error",
     "traceback": [
      "  println!(\"Here's a vector: {:?}\", v);",
      "                                    ^ `v` is borrowed here",
      "let handle = thread::spawn(|| {",
      "                           ^^ may outlive borrowed value `v`",
      "closure may outlive the current function, but it borrows `v`, which is owned by the current function",
      "help: to force the closure to take ownership of `v` (and any other referenced variables), use the `move` keyword\n\nmove"
     ]
    }
   ],
   "source": [
    "let v = vec![1,2,3];\n",
    "\n",
    "let handle = thread::spawn(|| {\n",
    "  println!(\"Here's a vector: {:?}\", v);\n",
    "});\n",
    "\n",
    "handle.join().unwrap();"
   ]
  },
  {
   "cell_type": "code",
   "execution_count": 10,
   "metadata": {
    "vscode": {
     "languageId": "rust"
    }
   },
   "outputs": [
    {
     "name": "stdout",
     "output_type": "stream",
     "text": [
      "Here's a vector: [1, 2, 3]\n"
     ]
    }
   ],
   "source": [
    "let v = vec![1,2,3];\n",
    "\n",
    "let handle = thread::spawn(move || {\n",
    "  println!(\"Here's a vector: {:?}\", v);\n",
    "});\n",
    "\n",
    "handle.join().unwrap();"
   ]
  },
  {
   "cell_type": "code",
   "execution_count": 11,
   "metadata": {
    "vscode": {
     "languageId": "rust"
    }
   },
   "outputs": [
    {
     "ename": "Error",
     "evalue": "use of moved value: `v`",
     "output_type": "error",
     "traceback": [
      "let handle = thread::spawn(move || {",
      "                           ^^^^^^^ value moved into closure here",
      "  println!(\"Here's a vector: {:?}\", v);",
      "                                    ^ variable moved due to use in closure",
      "drop(v);",
      "     ^ value used here after move",
      "let v = vec![1,2,3];",
      "    ^ move occurs because `v` has type `Vec<i32>`, which does not implement the `Copy` trait",
      "use of moved value: `v`"
     ]
    }
   ],
   "source": [
    "let v = vec![1,2,3];\n",
    "\n",
    "let handle = thread::spawn(move || {\n",
    "  println!(\"Here's a vector: {:?}\", v);\n",
    "});\n",
    "\n",
    "drop(v);\n",
    "\n",
    "handle.join().unwrap();"
   ]
  },
  {
   "cell_type": "markdown",
   "metadata": {},
   "source": [
    "## メッセージ受け渡しを使ってスレッド間でデータを転送する"
   ]
  },
  {
   "cell_type": "code",
   "execution_count": 12,
   "metadata": {
    "vscode": {
     "languageId": "rust"
    }
   },
   "outputs": [
    {
     "ename": "Error",
     "evalue": "consider importing one of these items",
     "output_type": "error",
     "traceback": [
      "",
      "",
      "consider importing one of these items"
     ]
    }
   ],
   "source": [
    "use std::sync::mpsc;\n",
    "\n",
    "let (tx, rx) = mpsc::channel();"
   ]
  },
  {
   "cell_type": "code",
   "execution_count": 13,
   "metadata": {
    "vscode": {
     "languageId": "rust"
    }
   },
   "outputs": [
    {
     "data": {
      "text/plain": [
       "JoinHandle { .. }"
      ]
     },
     "execution_count": 13,
     "metadata": {},
     "output_type": "execute_result"
    }
   ],
   "source": [
    "use std::thread;\n",
    "use std::sync::mpsc;\n",
    "\n",
    "let (tx, rx) = mpsc::channel();\n",
    "thread::spawn(move || {\n",
    "  let val = String::from(\"hi\");\n",
    "  tx.send(val).unwrap();\n",
    "})"
   ]
  },
  {
   "cell_type": "code",
   "execution_count": 15,
   "metadata": {
    "vscode": {
     "languageId": "rust"
    }
   },
   "outputs": [
    {
     "name": "stdout",
     "output_type": "stream",
     "text": [
      "Got: hi\n"
     ]
    }
   ],
   "source": [
    "let (tx, rx) = mpsc::channel();\n",
    "thread::spawn(move || {\n",
    "  let val = String::from(\"hi\");\n",
    "  tx.send(val).unwrap();\n",
    "});\n",
    "\n",
    "let received = rx.recv().unwrap();\n",
    "println!(\"Got: {}\", received);"
   ]
  },
  {
   "cell_type": "code",
   "execution_count": 16,
   "metadata": {
    "vscode": {
     "languageId": "rust"
    }
   },
   "outputs": [
    {
     "ename": "Error",
     "evalue": "borrow of moved value: `val`",
     "output_type": "error",
     "traceback": [
      "  tx.send(val).unwrap();",
      "          ^^^ value moved here",
      "  println!(\"val is {}\", val);",
      "                        ^^^ value borrowed here after move",
      "  let val = String::from(\"hi\");",
      "      ^^^ move occurs because `val` has type `String`, which does not implement the `Copy` trait",
      "borrow of moved value: `val`"
     ]
    }
   ],
   "source": [
    "let (tx, rx) = mpsc::channel();\n",
    "thread::spawn(move || {\n",
    "  let val = String::from(\"hi\");\n",
    "  tx.send(val).unwrap();\n",
    "  println!(\"val is {}\", val);\n",
    "});\n",
    "\n",
    "let received = rx.recv().unwrap();\n",
    "println!(\"Got: {}\", received);"
   ]
  },
  {
   "cell_type": "code",
   "execution_count": 18,
   "metadata": {
    "vscode": {
     "languageId": "rust"
    }
   },
   "outputs": [
    {
     "name": "stdout",
     "output_type": "stream",
     "text": [
      "Got: hi\n",
      "Got: from\n",
      "Got: the\n",
      "Got: thread\n"
     ]
    },
    {
     "data": {
      "text/plain": [
       "()"
      ]
     },
     "execution_count": 18,
     "metadata": {},
     "output_type": "execute_result"
    }
   ],
   "source": [
    "let (tx, rx) = mpsc::channel();\n",
    "\n",
    "thread::spawn(move || {\n",
    "  let vals = vec![\n",
    "    String::from(\"hi\"),\n",
    "    String::from(\"from\"),\n",
    "    String::from(\"the\"),\n",
    "    String::from(\"thread\"),\n",
    "  ];\n",
    "  for val in vals {\n",
    "    tx.send(val).unwrap();\n",
    "    thread::sleep(Duration::from_secs(1));\n",
    "  }\n",
    "});\n",
    "\n",
    "\n",
    "for received in rx {\n",
    "  println!(\"Got: {}\", received);\n",
    "}\n"
   ]
  },
  {
   "cell_type": "code",
   "execution_count": 20,
   "metadata": {
    "vscode": {
     "languageId": "rust"
    }
   },
   "outputs": [
    {
     "name": "stdout",
     "output_type": "stream",
     "text": [
      "Got: hi\n",
      "Got: more\n",
      "Got: message\n",
      "Got: from\n",
      "Got: the\n",
      "Got: for\n",
      "Got: you\n",
      "Got: thread\n"
     ]
    },
    {
     "data": {
      "text/plain": [
       "()"
      ]
     },
     "execution_count": 20,
     "metadata": {},
     "output_type": "execute_result"
    }
   ],
   "source": [
    "let (tx, rx) = mpsc::channel();\n",
    "let tx1 = mpsc::Sender::clone(&tx);\n",
    "\n",
    "thread::spawn(move || {\n",
    "  let vals = vec![\n",
    "    String::from(\"hi\"),\n",
    "    String::from(\"from\"),\n",
    "    String::from(\"the\"),\n",
    "    String::from(\"thread\"),\n",
    "  ];\n",
    "  for val in vals {\n",
    "    tx1.send(val).unwrap();\n",
    "    thread::sleep(Duration::from_secs(1));\n",
    "  }\n",
    "});\n",
    "\n",
    "thread::spawn(move || {\n",
    "  let vals = vec![\n",
    "    String::from(\"more\"),\n",
    "    String::from(\"message\"),\n",
    "    String::from(\"for\"),\n",
    "    String::from(\"you\"),\n",
    "  ];\n",
    "\n",
    "  for val in vals {\n",
    "    tx.send(val).unwrap();\n",
    "    thread::sleep(Duration::from_secs(1));\n",
    "  }\n",
    "});\n",
    "\n",
    "for received in rx {\n",
    "  println!(\"Got: {}\", received);\n",
    "}\n"
   ]
  },
  {
   "cell_type": "code",
   "execution_count": 21,
   "metadata": {
    "vscode": {
     "languageId": "rust"
    }
   },
   "outputs": [
    {
     "ename": "Error",
     "evalue": "use of moved value: `tx`",
     "output_type": "error",
     "traceback": [
      "thread::spawn(move || {",
      "              ^^^^^^^ value moved into closure here",
      "    tx.send(val).unwrap();",
      "    ^^ variable moved due to use in closure",
      "    tx.send(val).unwrap();",
      "    ^^ use occurs due to use in closure",
      "thread::spawn(move || {",
      "              ^^^^^^^ value used here after move",
      "let (tx, rx) = mpsc::channel();",
      "     ^^ move occurs because `tx` has type `Sender<String>`, which does not implement the `Copy` trait",
      "use of moved value: `tx`"
     ]
    }
   ],
   "source": [
    "let (tx, rx) = mpsc::channel();\n",
    "let tx1 = mpsc::Sender::clone(&tx);\n",
    "\n",
    "thread::spawn(move || {\n",
    "  let vals = vec![\n",
    "    String::from(\"hi\"),\n",
    "    String::from(\"from\"),\n",
    "    String::from(\"the\"),\n",
    "    String::from(\"thread\"),\n",
    "  ];\n",
    "  for val in vals {\n",
    "    tx.send(val).unwrap();\n",
    "    thread::sleep(Duration::from_secs(1));\n",
    "  }\n",
    "});\n",
    "\n",
    "thread::spawn(move || {\n",
    "  let vals = vec![\n",
    "    String::from(\"more\"),\n",
    "    String::from(\"message\"),\n",
    "    String::from(\"for\"),\n",
    "    String::from(\"you\"),\n",
    "  ];\n",
    "\n",
    "  for val in vals {\n",
    "    tx.send(val).unwrap();\n",
    "    thread::sleep(Duration::from_secs(1));\n",
    "  }\n",
    "});\n",
    "\n",
    "for received in rx {\n",
    "  println!(\"Got: {}\", received);\n",
    "}\n"
   ]
  },
  {
   "cell_type": "code",
   "execution_count": null,
   "metadata": {
    "vscode": {
     "languageId": "rust"
    }
   },
   "outputs": [],
   "source": []
  }
 ],
 "metadata": {
  "kernelspec": {
   "display_name": "Rust",
   "language": "rust",
   "name": "rust"
  },
  "language_info": {
   "codemirror_mode": "rust",
   "file_extension": ".rs",
   "mimetype": "text/rust",
   "name": "Rust",
   "pygment_lexer": "rust",
   "version": ""
  },
  "orig_nbformat": 4
 },
 "nbformat": 4,
 "nbformat_minor": 2
}
